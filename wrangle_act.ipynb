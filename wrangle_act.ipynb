{
 "cells": [
  {
   "cell_type": "markdown",
   "metadata": {},
   "source": [
    "<center><h1> Wrangling and Analyzing @WeRateDogs Twitter Archive"
   ]
  },
  {
   "cell_type": "markdown",
   "metadata": {},
   "source": [
    "<div style=\"text-align: right\">\n",
    "    Parth Thakur<br>\n",
    "    11/09/2018<br>\n",
    "    <a href=https://github.com/ParthThakur/Wrangling-and-Analyzing-WeRateDogs-twitter-archive>Github</a>\n",
    "</div>"
   ]
  },
  {
   "cell_type": "markdown",
   "metadata": {},
   "source": [
    "In this workbook, I will gather data on `@WeRateDogs` tweets. I willclean this daate and perform some analysis. <br>\n",
    "\n",
    "`@WeRateDogs` is a twitter account that rates dog pictures and videos. I have the archive data for this account, but it comes with various tidyness and Quality issues. The archive is also missing some crucial features. The goal of this project is to identify as many issues as possible and rectify the. "
   ]
  },
  {
   "cell_type": "code",
   "execution_count": 1,
   "metadata": {},
   "outputs": [],
   "source": [
    "# Import required libraries.\n",
    "\n",
    "%matplotlib inline\n",
    "\n",
    "import numpy as np\n",
    "import tweepy\n",
    "import pandas as pd\n",
    "import requests\n",
    "import json\n",
    "import re\n",
    "import matplotlib.pyplot as plt\n",
    "\n",
    "# Set font size at 15 for all plots.\n",
    "plt.rcParams['font.size'] = 15 "
   ]
  },
  {
   "cell_type": "code",
   "execution_count": 2,
   "metadata": {},
   "outputs": [],
   "source": [
    "# Setup twitter API\n",
    "\n",
    "tw_keys = pd.read_json(\"../API keys.json\").Twitter\n",
    "auth = tweepy.OAuthHandler(tw_keys.consumer_key, tw_keys.consumer_secret)\n",
    "auth.set_access_token(tw_keys.access_token, tw_keys.access_token_secret)\n",
    "\n",
    "api = tweepy.API(auth,\n",
    "                wait_on_rate_limit=True,\n",
    "                wait_on_rate_limit_notify=True)"
   ]
  },
  {
   "cell_type": "code",
   "execution_count": 3,
   "metadata": {},
   "outputs": [],
   "source": [
    "# Function to load additional tweet data using twitter API.\n",
    "\n",
    "def get_tweet_data():\n",
    "    failed_tweets = {}\n",
    "    print(\"Querying Twitter API.\")\n",
    "    with open(\"tweet_json.txt\", \"w\") as fw:        \n",
    "        for tweet in tw_archive.tweet_id:\n",
    "            try:\n",
    "                twee = api.get_status(tweet, tweet_mode='extended')\n",
    "            except tweepy.TweepError as e:\n",
    "                print(tweet, \"failed to load.\")\n",
    "                failed_tweets[tweet] = repr(e)\n",
    "                continue\n",
    "            fw.write(json.dumps(twee._json))\n",
    "            fw.write('\\n')\n",
    "\n",
    "    return failed_tweets\n",
    "            \n",
    "\n",
    "# Function to read tweet_json.txt.\n",
    "\n",
    "def read_tweet_json():\n",
    "    tweet_info = []\n",
    "    print(\"Trying to open tweet_json.txt\")\n",
    "    with open(\"tweet_json.txt\", \"r\") as fr:\n",
    "        print(\"File found.\")\n",
    "        for tweet in fr:\n",
    "            twee = json.loads(tweet)\n",
    "            retweet_count = twee[\"retweet_count\"]\n",
    "            favourite_count = twee[\"favorite_count\"]\n",
    "            if twee[\"full_text\"][:4] == \"RT @\":\n",
    "                tweet_type = \"retweet\"\n",
    "            elif twee[\"full_text\"][0] == \"@\":\n",
    "                tweet_type = \"reply\"\n",
    "            else:\n",
    "                tweet_type = \"original\"\n",
    "            tweet_info.append({\"tweet_id\": str(twee[\"id\"]),\n",
    "                              \"retweet_count\": int(retweet_count),\n",
    "                              \"favourite_count\": int(favourite_count),\n",
    "                              \"tweet_type\": tweet_type})\n",
    "    tweet_info = pd.DataFrame(tweet_info, columns=[\"tweet_id\", \"retweet_count\", \"favourite_count\", \"tweet_type\"])\n",
    "    \n",
    "    return tweet_info"
   ]
  },
  {
   "cell_type": "code",
   "execution_count": 4,
   "metadata": {},
   "outputs": [],
   "source": [
    "# Class to embed tweets in the notebook.\n",
    "\n",
    "class embed_tweet(object):\n",
    "    def __init__(self, embed_code=None):\n",
    "        self.embed_code = embed_code\n",
    "\n",
    "    def _repr_html_(self):\n",
    "        return self.embed_code"
   ]
  },
  {
   "cell_type": "markdown",
   "metadata": {},
   "source": [
    "# Gather\n",
    "\n",
    "Gathering all the required data programitacally. "
   ]
  },
  {
   "cell_type": "code",
   "execution_count": 5,
   "metadata": {},
   "outputs": [],
   "source": [
    "# Load the twitter archive data for @WeRateDogs.\n",
    "\n",
    "tw_archive = pd.read_csv(\"twitter-archive-enhanced.csv\") "
   ]
  },
  {
   "cell_type": "code",
   "execution_count": 6,
   "metadata": {},
   "outputs": [],
   "source": [
    "# Get \"image_predictions.tsv\" from Udacity's servers and load the data in a DataFrame\n",
    "\n",
    "URL_predict = \"https://d17h27t6h515a5.cloudfront.net/topher/2017/August/599fd2ad_image-predictions/image-predictions.tsv\"\n",
    "im_get = requests.get(URL_predict)\n",
    "with open(\"image_predictions.tsv\", \"wb\") as fw:\n",
    "    fw.write(im_get.content)    "
   ]
  },
  {
   "cell_type": "code",
   "execution_count": 7,
   "metadata": {},
   "outputs": [],
   "source": [
    "# Load image prediction Data from image_predictions.tsv\n",
    "\n",
    "im_predict = pd.read_csv(\"image_predictions.tsv\", delimiter=\"\\t\")"
   ]
  },
  {
   "cell_type": "code",
   "execution_count": 8,
   "metadata": {},
   "outputs": [
    {
     "name": "stdout",
     "output_type": "stream",
     "text": [
      "Trying to open tweet_json.txt\n",
      "File found.\n"
     ]
    }
   ],
   "source": [
    "# Load additional tweet data from \"tweet_json.txt\".\n",
    "try:\n",
    "    tweet_info = read_tweet_json()\n",
    "except FileNotFoundError:\n",
    "    print(\"tweet_json.txt was not found.\")\n",
    "    failed_tweets = get_tweet_data()\n",
    "    tweet_info = read_tweet_json()\n",
    "    with open (\"failed_tweets.json\", \"w\") as fw:\n",
    "        json.dump(failed_tweets, fw)"
   ]
  },
  {
   "cell_type": "markdown",
   "metadata": {},
   "source": [
    "\n",
    "# Assess\n",
    "Assessing the gathered data for quality, and tidyness issues."
   ]
  },
  {
   "cell_type": "markdown",
   "metadata": {},
   "source": [
    "I have three dasets loaded into pandas dataframes.\n",
    " - tw_archive which contains archive data for WeRateDogs twitter account.\n",
    " - im_predict which contains data on predicted dog species in the tweet.\n",
    " - tweet_info which contains additional data on the tweets."
   ]
  },
  {
   "cell_type": "code",
   "execution_count": 9,
   "metadata": {},
   "outputs": [
    {
     "name": "stdout",
     "output_type": "stream",
     "text": [
      "<class 'pandas.core.frame.DataFrame'>\n",
      "RangeIndex: 2356 entries, 0 to 2355\n",
      "Data columns (total 17 columns):\n",
      "tweet_id                      2356 non-null int64\n",
      "in_reply_to_status_id         78 non-null float64\n",
      "in_reply_to_user_id           78 non-null float64\n",
      "timestamp                     2356 non-null object\n",
      "source                        2356 non-null object\n",
      "text                          2356 non-null object\n",
      "retweeted_status_id           181 non-null float64\n",
      "retweeted_status_user_id      181 non-null float64\n",
      "retweeted_status_timestamp    181 non-null object\n",
      "expanded_urls                 2297 non-null object\n",
      "rating_numerator              2356 non-null int64\n",
      "rating_denominator            2356 non-null int64\n",
      "name                          2356 non-null object\n",
      "doggo                         2356 non-null object\n",
      "floofer                       2356 non-null object\n",
      "pupper                        2356 non-null object\n",
      "puppo                         2356 non-null object\n",
      "dtypes: float64(4), int64(3), object(10)\n",
      "memory usage: 313.0+ KB\n"
     ]
    }
   ],
   "source": [
    "tw_archive.info()"
   ]
  },
  {
   "cell_type": "code",
   "execution_count": 10,
   "metadata": {},
   "outputs": [
    {
     "name": "stdout",
     "output_type": "stream",
     "text": [
      "<class 'pandas.core.frame.DataFrame'>\n",
      "RangeIndex: 2075 entries, 0 to 2074\n",
      "Data columns (total 12 columns):\n",
      "tweet_id    2075 non-null int64\n",
      "jpg_url     2075 non-null object\n",
      "img_num     2075 non-null int64\n",
      "p1          2075 non-null object\n",
      "p1_conf     2075 non-null float64\n",
      "p1_dog      2075 non-null bool\n",
      "p2          2075 non-null object\n",
      "p2_conf     2075 non-null float64\n",
      "p2_dog      2075 non-null bool\n",
      "p3          2075 non-null object\n",
      "p3_conf     2075 non-null float64\n",
      "p3_dog      2075 non-null bool\n",
      "dtypes: bool(3), float64(3), int64(2), object(4)\n",
      "memory usage: 152.1+ KB\n"
     ]
    }
   ],
   "source": [
    "im_predict.info()"
   ]
  },
  {
   "cell_type": "code",
   "execution_count": 11,
   "metadata": {},
   "outputs": [
    {
     "data": {
      "text/html": [
       "<div>\n",
       "<style scoped>\n",
       "    .dataframe tbody tr th:only-of-type {\n",
       "        vertical-align: middle;\n",
       "    }\n",
       "\n",
       "    .dataframe tbody tr th {\n",
       "        vertical-align: top;\n",
       "    }\n",
       "\n",
       "    .dataframe thead th {\n",
       "        text-align: right;\n",
       "    }\n",
       "</style>\n",
       "<table border=\"1\" class=\"dataframe\">\n",
       "  <thead>\n",
       "    <tr style=\"text-align: right;\">\n",
       "      <th></th>\n",
       "      <th>tweet_id</th>\n",
       "      <th>in_reply_to_status_id</th>\n",
       "      <th>in_reply_to_user_id</th>\n",
       "      <th>timestamp</th>\n",
       "      <th>source</th>\n",
       "      <th>text</th>\n",
       "      <th>retweeted_status_id</th>\n",
       "      <th>retweeted_status_user_id</th>\n",
       "      <th>retweeted_status_timestamp</th>\n",
       "      <th>expanded_urls</th>\n",
       "      <th>rating_numerator</th>\n",
       "      <th>rating_denominator</th>\n",
       "      <th>name</th>\n",
       "      <th>doggo</th>\n",
       "      <th>floofer</th>\n",
       "      <th>pupper</th>\n",
       "      <th>puppo</th>\n",
       "    </tr>\n",
       "  </thead>\n",
       "  <tbody>\n",
       "    <tr>\n",
       "      <th>687</th>\n",
       "      <td>788039637453406209</td>\n",
       "      <td>NaN</td>\n",
       "      <td>NaN</td>\n",
       "      <td>2016-10-17 15:31:05 +0000</td>\n",
       "      <td>&lt;a href=\"http://twitter.com/download/iphone\" r...</td>\n",
       "      <td>Did... did they pick out that license plate? 1...</td>\n",
       "      <td>NaN</td>\n",
       "      <td>NaN</td>\n",
       "      <td>NaN</td>\n",
       "      <td>https://twitter.com/dog_rates/status/788039637...</td>\n",
       "      <td>12</td>\n",
       "      <td>10</td>\n",
       "      <td>None</td>\n",
       "      <td>None</td>\n",
       "      <td>None</td>\n",
       "      <td>None</td>\n",
       "      <td>None</td>\n",
       "    </tr>\n",
       "    <tr>\n",
       "      <th>667</th>\n",
       "      <td>790337589677002753</td>\n",
       "      <td>NaN</td>\n",
       "      <td>NaN</td>\n",
       "      <td>2016-10-23 23:42:19 +0000</td>\n",
       "      <td>&lt;a href=\"http://twitter.com/download/iphone\" r...</td>\n",
       "      <td>Meet Maggie. She can hear your cells divide. 1...</td>\n",
       "      <td>NaN</td>\n",
       "      <td>NaN</td>\n",
       "      <td>NaN</td>\n",
       "      <td>https://twitter.com/dog_rates/status/790337589...</td>\n",
       "      <td>12</td>\n",
       "      <td>10</td>\n",
       "      <td>Maggie</td>\n",
       "      <td>None</td>\n",
       "      <td>None</td>\n",
       "      <td>None</td>\n",
       "      <td>None</td>\n",
       "    </tr>\n",
       "    <tr>\n",
       "      <th>1010</th>\n",
       "      <td>747461612269887489</td>\n",
       "      <td>NaN</td>\n",
       "      <td>NaN</td>\n",
       "      <td>2016-06-27 16:08:30 +0000</td>\n",
       "      <td>&lt;a href=\"http://twitter.com/download/iphone\" r...</td>\n",
       "      <td>Never seen a shark hold another shark like thi...</td>\n",
       "      <td>NaN</td>\n",
       "      <td>NaN</td>\n",
       "      <td>NaN</td>\n",
       "      <td>https://twitter.com/dog_rates/status/747461612...</td>\n",
       "      <td>10</td>\n",
       "      <td>10</td>\n",
       "      <td>None</td>\n",
       "      <td>None</td>\n",
       "      <td>None</td>\n",
       "      <td>None</td>\n",
       "      <td>None</td>\n",
       "    </tr>\n",
       "    <tr>\n",
       "      <th>669</th>\n",
       "      <td>790227638568808452</td>\n",
       "      <td>NaN</td>\n",
       "      <td>NaN</td>\n",
       "      <td>2016-10-23 16:25:25 +0000</td>\n",
       "      <td>&lt;a href=\"http://twitter.com/download/iphone\" r...</td>\n",
       "      <td>RT @dog_rates: This is Leela. She's a Fetty Wo...</td>\n",
       "      <td>7.626999e+17</td>\n",
       "      <td>4.196984e+09</td>\n",
       "      <td>2016-08-08 17:19:51 +0000</td>\n",
       "      <td>https://twitter.com/dog_rates/status/762699858...</td>\n",
       "      <td>11</td>\n",
       "      <td>10</td>\n",
       "      <td>Leela</td>\n",
       "      <td>None</td>\n",
       "      <td>None</td>\n",
       "      <td>None</td>\n",
       "      <td>None</td>\n",
       "    </tr>\n",
       "    <tr>\n",
       "      <th>1764</th>\n",
       "      <td>678424312106393600</td>\n",
       "      <td>NaN</td>\n",
       "      <td>NaN</td>\n",
       "      <td>2015-12-20 03:58:55 +0000</td>\n",
       "      <td>&lt;a href=\"http://twitter.com/download/iphone\" r...</td>\n",
       "      <td>This is Crystal. She's a shitty fireman. No se...</td>\n",
       "      <td>NaN</td>\n",
       "      <td>NaN</td>\n",
       "      <td>NaN</td>\n",
       "      <td>https://twitter.com/dog_rates/status/678424312...</td>\n",
       "      <td>2</td>\n",
       "      <td>10</td>\n",
       "      <td>Crystal</td>\n",
       "      <td>None</td>\n",
       "      <td>None</td>\n",
       "      <td>None</td>\n",
       "      <td>None</td>\n",
       "    </tr>\n",
       "    <tr>\n",
       "      <th>1096</th>\n",
       "      <td>736365877722001409</td>\n",
       "      <td>NaN</td>\n",
       "      <td>NaN</td>\n",
       "      <td>2016-05-28 01:18:00 +0000</td>\n",
       "      <td>&lt;a href=\"http://twitter.com/download/iphone\" r...</td>\n",
       "      <td>This is Rory. He's extremely impatient. 11/10 ...</td>\n",
       "      <td>NaN</td>\n",
       "      <td>NaN</td>\n",
       "      <td>NaN</td>\n",
       "      <td>https://twitter.com/dog_rates/status/736365877...</td>\n",
       "      <td>11</td>\n",
       "      <td>10</td>\n",
       "      <td>Rory</td>\n",
       "      <td>None</td>\n",
       "      <td>None</td>\n",
       "      <td>pupper</td>\n",
       "      <td>None</td>\n",
       "    </tr>\n",
       "    <tr>\n",
       "      <th>354</th>\n",
       "      <td>831262627380748289</td>\n",
       "      <td>NaN</td>\n",
       "      <td>NaN</td>\n",
       "      <td>2017-02-13 22:03:49 +0000</td>\n",
       "      <td>&lt;a href=\"http://twitter.com/download/iphone\" r...</td>\n",
       "      <td>This is Tucker. He's feeling h*ckin festive an...</td>\n",
       "      <td>NaN</td>\n",
       "      <td>NaN</td>\n",
       "      <td>NaN</td>\n",
       "      <td>https://twitter.com/dog_rates/status/831262627...</td>\n",
       "      <td>12</td>\n",
       "      <td>10</td>\n",
       "      <td>Tucker</td>\n",
       "      <td>None</td>\n",
       "      <td>None</td>\n",
       "      <td>None</td>\n",
       "      <td>None</td>\n",
       "    </tr>\n",
       "    <tr>\n",
       "      <th>1610</th>\n",
       "      <td>685532292383666176</td>\n",
       "      <td>NaN</td>\n",
       "      <td>NaN</td>\n",
       "      <td>2016-01-08 18:43:29 +0000</td>\n",
       "      <td>&lt;a href=\"http://twitter.com/download/iphone\" r...</td>\n",
       "      <td>For the last time, WE. DO. NOT. RATE. BULBASAU...</td>\n",
       "      <td>NaN</td>\n",
       "      <td>NaN</td>\n",
       "      <td>NaN</td>\n",
       "      <td>https://twitter.com/dog_rates/status/685532292...</td>\n",
       "      <td>9</td>\n",
       "      <td>10</td>\n",
       "      <td>None</td>\n",
       "      <td>None</td>\n",
       "      <td>None</td>\n",
       "      <td>None</td>\n",
       "      <td>None</td>\n",
       "    </tr>\n",
       "    <tr>\n",
       "      <th>787</th>\n",
       "      <td>774639387460112384</td>\n",
       "      <td>NaN</td>\n",
       "      <td>NaN</td>\n",
       "      <td>2016-09-10 16:03:16 +0000</td>\n",
       "      <td>&lt;a href=\"http://twitter.com/download/iphone\" r...</td>\n",
       "      <td>This is Sprinkles. He's trapped in light jail....</td>\n",
       "      <td>NaN</td>\n",
       "      <td>NaN</td>\n",
       "      <td>NaN</td>\n",
       "      <td>https://twitter.com/dog_rates/status/774639387...</td>\n",
       "      <td>10</td>\n",
       "      <td>10</td>\n",
       "      <td>Sprinkles</td>\n",
       "      <td>None</td>\n",
       "      <td>None</td>\n",
       "      <td>None</td>\n",
       "      <td>None</td>\n",
       "    </tr>\n",
       "    <tr>\n",
       "      <th>628</th>\n",
       "      <td>794926597468000259</td>\n",
       "      <td>NaN</td>\n",
       "      <td>NaN</td>\n",
       "      <td>2016-11-05 15:37:24 +0000</td>\n",
       "      <td>&lt;a href=\"http://twitter.com/download/iphone\" r...</td>\n",
       "      <td>This is Mack. He's rather h*ckin sleepy. Excep...</td>\n",
       "      <td>NaN</td>\n",
       "      <td>NaN</td>\n",
       "      <td>NaN</td>\n",
       "      <td>https://twitter.com/dog_rates/status/794926597...</td>\n",
       "      <td>12</td>\n",
       "      <td>10</td>\n",
       "      <td>Mack</td>\n",
       "      <td>None</td>\n",
       "      <td>None</td>\n",
       "      <td>None</td>\n",
       "      <td>None</td>\n",
       "    </tr>\n",
       "    <tr>\n",
       "      <th>1069</th>\n",
       "      <td>740365076218183684</td>\n",
       "      <td>NaN</td>\n",
       "      <td>NaN</td>\n",
       "      <td>2016-06-08 02:09:24 +0000</td>\n",
       "      <td>&lt;a href=\"http://twitter.com/download/iphone\" r...</td>\n",
       "      <td>When the photographer forgets to tell you wher...</td>\n",
       "      <td>NaN</td>\n",
       "      <td>NaN</td>\n",
       "      <td>NaN</td>\n",
       "      <td>https://twitter.com/dog_rates/status/740365076...</td>\n",
       "      <td>10</td>\n",
       "      <td>10</td>\n",
       "      <td>None</td>\n",
       "      <td>None</td>\n",
       "      <td>None</td>\n",
       "      <td>None</td>\n",
       "      <td>None</td>\n",
       "    </tr>\n",
       "    <tr>\n",
       "      <th>2060</th>\n",
       "      <td>671182547775299584</td>\n",
       "      <td>NaN</td>\n",
       "      <td>NaN</td>\n",
       "      <td>2015-11-30 04:22:44 +0000</td>\n",
       "      <td>&lt;a href=\"http://twitter.com/download/iphone\" r...</td>\n",
       "      <td>This pup holds the secrets of the universe in ...</td>\n",
       "      <td>NaN</td>\n",
       "      <td>NaN</td>\n",
       "      <td>NaN</td>\n",
       "      <td>https://twitter.com/dog_rates/status/671182547...</td>\n",
       "      <td>12</td>\n",
       "      <td>10</td>\n",
       "      <td>None</td>\n",
       "      <td>None</td>\n",
       "      <td>None</td>\n",
       "      <td>None</td>\n",
       "      <td>None</td>\n",
       "    </tr>\n",
       "    <tr>\n",
       "      <th>260</th>\n",
       "      <td>842892208864923648</td>\n",
       "      <td>NaN</td>\n",
       "      <td>NaN</td>\n",
       "      <td>2017-03-18 00:15:37 +0000</td>\n",
       "      <td>&lt;a href=\"http://twitter.com/download/iphone\" r...</td>\n",
       "      <td>RT @dog_rates: This is Stephan. He just wants ...</td>\n",
       "      <td>8.071068e+17</td>\n",
       "      <td>4.196984e+09</td>\n",
       "      <td>2016-12-09 06:17:20 +0000</td>\n",
       "      <td>https://twitter.com/dog_rates/status/807106840...</td>\n",
       "      <td>13</td>\n",
       "      <td>10</td>\n",
       "      <td>Stephan</td>\n",
       "      <td>None</td>\n",
       "      <td>None</td>\n",
       "      <td>None</td>\n",
       "      <td>None</td>\n",
       "    </tr>\n",
       "    <tr>\n",
       "      <th>1269</th>\n",
       "      <td>709519240576036864</td>\n",
       "      <td>NaN</td>\n",
       "      <td>NaN</td>\n",
       "      <td>2016-03-14 23:19:03 +0000</td>\n",
       "      <td>&lt;a href=\"http://twitter.com/download/iphone\" r...</td>\n",
       "      <td>This is Vince. He's a Gregorian Flapjeck. Whit...</td>\n",
       "      <td>NaN</td>\n",
       "      <td>NaN</td>\n",
       "      <td>NaN</td>\n",
       "      <td>https://twitter.com/dog_rates/status/709519240...</td>\n",
       "      <td>9</td>\n",
       "      <td>10</td>\n",
       "      <td>Vince</td>\n",
       "      <td>None</td>\n",
       "      <td>None</td>\n",
       "      <td>None</td>\n",
       "      <td>None</td>\n",
       "    </tr>\n",
       "    <tr>\n",
       "      <th>1311</th>\n",
       "      <td>707021089608753152</td>\n",
       "      <td>NaN</td>\n",
       "      <td>NaN</td>\n",
       "      <td>2016-03-08 01:52:18 +0000</td>\n",
       "      <td>&lt;a href=\"http://twitter.com/download/iphone\" r...</td>\n",
       "      <td>This is Tucker. He's a Dasani Episcopalian. Go...</td>\n",
       "      <td>NaN</td>\n",
       "      <td>NaN</td>\n",
       "      <td>NaN</td>\n",
       "      <td>https://twitter.com/dog_rates/status/707021089...</td>\n",
       "      <td>12</td>\n",
       "      <td>10</td>\n",
       "      <td>Tucker</td>\n",
       "      <td>None</td>\n",
       "      <td>None</td>\n",
       "      <td>None</td>\n",
       "      <td>None</td>\n",
       "    </tr>\n",
       "  </tbody>\n",
       "</table>\n",
       "</div>"
      ],
      "text/plain": [
       "                tweet_id  in_reply_to_status_id  in_reply_to_user_id  \\\n",
       "687   788039637453406209                    NaN                  NaN   \n",
       "667   790337589677002753                    NaN                  NaN   \n",
       "1010  747461612269887489                    NaN                  NaN   \n",
       "669   790227638568808452                    NaN                  NaN   \n",
       "1764  678424312106393600                    NaN                  NaN   \n",
       "1096  736365877722001409                    NaN                  NaN   \n",
       "354   831262627380748289                    NaN                  NaN   \n",
       "1610  685532292383666176                    NaN                  NaN   \n",
       "787   774639387460112384                    NaN                  NaN   \n",
       "628   794926597468000259                    NaN                  NaN   \n",
       "1069  740365076218183684                    NaN                  NaN   \n",
       "2060  671182547775299584                    NaN                  NaN   \n",
       "260   842892208864923648                    NaN                  NaN   \n",
       "1269  709519240576036864                    NaN                  NaN   \n",
       "1311  707021089608753152                    NaN                  NaN   \n",
       "\n",
       "                      timestamp  \\\n",
       "687   2016-10-17 15:31:05 +0000   \n",
       "667   2016-10-23 23:42:19 +0000   \n",
       "1010  2016-06-27 16:08:30 +0000   \n",
       "669   2016-10-23 16:25:25 +0000   \n",
       "1764  2015-12-20 03:58:55 +0000   \n",
       "1096  2016-05-28 01:18:00 +0000   \n",
       "354   2017-02-13 22:03:49 +0000   \n",
       "1610  2016-01-08 18:43:29 +0000   \n",
       "787   2016-09-10 16:03:16 +0000   \n",
       "628   2016-11-05 15:37:24 +0000   \n",
       "1069  2016-06-08 02:09:24 +0000   \n",
       "2060  2015-11-30 04:22:44 +0000   \n",
       "260   2017-03-18 00:15:37 +0000   \n",
       "1269  2016-03-14 23:19:03 +0000   \n",
       "1311  2016-03-08 01:52:18 +0000   \n",
       "\n",
       "                                                 source  \\\n",
       "687   <a href=\"http://twitter.com/download/iphone\" r...   \n",
       "667   <a href=\"http://twitter.com/download/iphone\" r...   \n",
       "1010  <a href=\"http://twitter.com/download/iphone\" r...   \n",
       "669   <a href=\"http://twitter.com/download/iphone\" r...   \n",
       "1764  <a href=\"http://twitter.com/download/iphone\" r...   \n",
       "1096  <a href=\"http://twitter.com/download/iphone\" r...   \n",
       "354   <a href=\"http://twitter.com/download/iphone\" r...   \n",
       "1610  <a href=\"http://twitter.com/download/iphone\" r...   \n",
       "787   <a href=\"http://twitter.com/download/iphone\" r...   \n",
       "628   <a href=\"http://twitter.com/download/iphone\" r...   \n",
       "1069  <a href=\"http://twitter.com/download/iphone\" r...   \n",
       "2060  <a href=\"http://twitter.com/download/iphone\" r...   \n",
       "260   <a href=\"http://twitter.com/download/iphone\" r...   \n",
       "1269  <a href=\"http://twitter.com/download/iphone\" r...   \n",
       "1311  <a href=\"http://twitter.com/download/iphone\" r...   \n",
       "\n",
       "                                                   text  retweeted_status_id  \\\n",
       "687   Did... did they pick out that license plate? 1...                  NaN   \n",
       "667   Meet Maggie. She can hear your cells divide. 1...                  NaN   \n",
       "1010  Never seen a shark hold another shark like thi...                  NaN   \n",
       "669   RT @dog_rates: This is Leela. She's a Fetty Wo...         7.626999e+17   \n",
       "1764  This is Crystal. She's a shitty fireman. No se...                  NaN   \n",
       "1096  This is Rory. He's extremely impatient. 11/10 ...                  NaN   \n",
       "354   This is Tucker. He's feeling h*ckin festive an...                  NaN   \n",
       "1610  For the last time, WE. DO. NOT. RATE. BULBASAU...                  NaN   \n",
       "787   This is Sprinkles. He's trapped in light jail....                  NaN   \n",
       "628   This is Mack. He's rather h*ckin sleepy. Excep...                  NaN   \n",
       "1069  When the photographer forgets to tell you wher...                  NaN   \n",
       "2060  This pup holds the secrets of the universe in ...                  NaN   \n",
       "260   RT @dog_rates: This is Stephan. He just wants ...         8.071068e+17   \n",
       "1269  This is Vince. He's a Gregorian Flapjeck. Whit...                  NaN   \n",
       "1311  This is Tucker. He's a Dasani Episcopalian. Go...                  NaN   \n",
       "\n",
       "      retweeted_status_user_id retweeted_status_timestamp  \\\n",
       "687                        NaN                        NaN   \n",
       "667                        NaN                        NaN   \n",
       "1010                       NaN                        NaN   \n",
       "669               4.196984e+09  2016-08-08 17:19:51 +0000   \n",
       "1764                       NaN                        NaN   \n",
       "1096                       NaN                        NaN   \n",
       "354                        NaN                        NaN   \n",
       "1610                       NaN                        NaN   \n",
       "787                        NaN                        NaN   \n",
       "628                        NaN                        NaN   \n",
       "1069                       NaN                        NaN   \n",
       "2060                       NaN                        NaN   \n",
       "260               4.196984e+09  2016-12-09 06:17:20 +0000   \n",
       "1269                       NaN                        NaN   \n",
       "1311                       NaN                        NaN   \n",
       "\n",
       "                                          expanded_urls  rating_numerator  \\\n",
       "687   https://twitter.com/dog_rates/status/788039637...                12   \n",
       "667   https://twitter.com/dog_rates/status/790337589...                12   \n",
       "1010  https://twitter.com/dog_rates/status/747461612...                10   \n",
       "669   https://twitter.com/dog_rates/status/762699858...                11   \n",
       "1764  https://twitter.com/dog_rates/status/678424312...                 2   \n",
       "1096  https://twitter.com/dog_rates/status/736365877...                11   \n",
       "354   https://twitter.com/dog_rates/status/831262627...                12   \n",
       "1610  https://twitter.com/dog_rates/status/685532292...                 9   \n",
       "787   https://twitter.com/dog_rates/status/774639387...                10   \n",
       "628   https://twitter.com/dog_rates/status/794926597...                12   \n",
       "1069  https://twitter.com/dog_rates/status/740365076...                10   \n",
       "2060  https://twitter.com/dog_rates/status/671182547...                12   \n",
       "260   https://twitter.com/dog_rates/status/807106840...                13   \n",
       "1269  https://twitter.com/dog_rates/status/709519240...                 9   \n",
       "1311  https://twitter.com/dog_rates/status/707021089...                12   \n",
       "\n",
       "      rating_denominator       name doggo floofer  pupper puppo  \n",
       "687                   10       None  None    None    None  None  \n",
       "667                   10     Maggie  None    None    None  None  \n",
       "1010                  10       None  None    None    None  None  \n",
       "669                   10      Leela  None    None    None  None  \n",
       "1764                  10    Crystal  None    None    None  None  \n",
       "1096                  10       Rory  None    None  pupper  None  \n",
       "354                   10     Tucker  None    None    None  None  \n",
       "1610                  10       None  None    None    None  None  \n",
       "787                   10  Sprinkles  None    None    None  None  \n",
       "628                   10       Mack  None    None    None  None  \n",
       "1069                  10       None  None    None    None  None  \n",
       "2060                  10       None  None    None    None  None  \n",
       "260                   10    Stephan  None    None    None  None  \n",
       "1269                  10      Vince  None    None    None  None  \n",
       "1311                  10     Tucker  None    None    None  None  "
      ]
     },
     "execution_count": 11,
     "metadata": {},
     "output_type": "execute_result"
    }
   ],
   "source": [
    "tw_archive.sample(15)"
   ]
  },
  {
   "cell_type": "code",
   "execution_count": 12,
   "metadata": {},
   "outputs": [
    {
     "data": {
      "text/html": [
       "<div>\n",
       "<style scoped>\n",
       "    .dataframe tbody tr th:only-of-type {\n",
       "        vertical-align: middle;\n",
       "    }\n",
       "\n",
       "    .dataframe tbody tr th {\n",
       "        vertical-align: top;\n",
       "    }\n",
       "\n",
       "    .dataframe thead th {\n",
       "        text-align: right;\n",
       "    }\n",
       "</style>\n",
       "<table border=\"1\" class=\"dataframe\">\n",
       "  <thead>\n",
       "    <tr style=\"text-align: right;\">\n",
       "      <th></th>\n",
       "      <th>tweet_id</th>\n",
       "      <th>jpg_url</th>\n",
       "      <th>img_num</th>\n",
       "      <th>p1</th>\n",
       "      <th>p1_conf</th>\n",
       "      <th>p1_dog</th>\n",
       "      <th>p2</th>\n",
       "      <th>p2_conf</th>\n",
       "      <th>p2_dog</th>\n",
       "      <th>p3</th>\n",
       "      <th>p3_conf</th>\n",
       "      <th>p3_dog</th>\n",
       "    </tr>\n",
       "  </thead>\n",
       "  <tbody>\n",
       "    <tr>\n",
       "      <th>2046</th>\n",
       "      <td>886680336477933568</td>\n",
       "      <td>https://pbs.twimg.com/media/DE4fEDzWAAAyHMM.jpg</td>\n",
       "      <td>1</td>\n",
       "      <td>convertible</td>\n",
       "      <td>0.738995</td>\n",
       "      <td>False</td>\n",
       "      <td>sports_car</td>\n",
       "      <td>0.139952</td>\n",
       "      <td>False</td>\n",
       "      <td>car_wheel</td>\n",
       "      <td>0.044173</td>\n",
       "      <td>False</td>\n",
       "    </tr>\n",
       "    <tr>\n",
       "      <th>1459</th>\n",
       "      <td>778027034220126208</td>\n",
       "      <td>https://pbs.twimg.com/media/Cswbc2yWcAAVsCJ.jpg</td>\n",
       "      <td>1</td>\n",
       "      <td>clumber</td>\n",
       "      <td>0.946718</td>\n",
       "      <td>True</td>\n",
       "      <td>cocker_spaniel</td>\n",
       "      <td>0.015950</td>\n",
       "      <td>True</td>\n",
       "      <td>Lhasa</td>\n",
       "      <td>0.006519</td>\n",
       "      <td>True</td>\n",
       "    </tr>\n",
       "    <tr>\n",
       "      <th>297</th>\n",
       "      <td>671390180817915904</td>\n",
       "      <td>https://pbs.twimg.com/media/CVFBzpXVEAAHIOv.jpg</td>\n",
       "      <td>1</td>\n",
       "      <td>zebra</td>\n",
       "      <td>0.997673</td>\n",
       "      <td>False</td>\n",
       "      <td>tiger</td>\n",
       "      <td>0.000837</td>\n",
       "      <td>False</td>\n",
       "      <td>prairie_chicken</td>\n",
       "      <td>0.000575</td>\n",
       "      <td>False</td>\n",
       "    </tr>\n",
       "    <tr>\n",
       "      <th>802</th>\n",
       "      <td>691459709405118465</td>\n",
       "      <td>https://pbs.twimg.com/media/CZiO7mWUEAAa4zo.jpg</td>\n",
       "      <td>1</td>\n",
       "      <td>Shetland_sheepdog</td>\n",
       "      <td>0.551206</td>\n",
       "      <td>True</td>\n",
       "      <td>collie</td>\n",
       "      <td>0.232544</td>\n",
       "      <td>True</td>\n",
       "      <td>Border_collie</td>\n",
       "      <td>0.095218</td>\n",
       "      <td>True</td>\n",
       "    </tr>\n",
       "    <tr>\n",
       "      <th>1308</th>\n",
       "      <td>753655901052166144</td>\n",
       "      <td>https://pbs.twimg.com/media/CnWGCpdWgAAWZTI.jpg</td>\n",
       "      <td>1</td>\n",
       "      <td>miniature_pinscher</td>\n",
       "      <td>0.456092</td>\n",
       "      <td>True</td>\n",
       "      <td>toy_terrier</td>\n",
       "      <td>0.153126</td>\n",
       "      <td>True</td>\n",
       "      <td>Italian_greyhound</td>\n",
       "      <td>0.144147</td>\n",
       "      <td>True</td>\n",
       "    </tr>\n",
       "    <tr>\n",
       "      <th>561</th>\n",
       "      <td>677895101218201600</td>\n",
       "      <td>https://pbs.twimg.com/media/CWhd_7WWsAAaqWG.jpg</td>\n",
       "      <td>1</td>\n",
       "      <td>dalmatian</td>\n",
       "      <td>0.550702</td>\n",
       "      <td>True</td>\n",
       "      <td>kuvasz</td>\n",
       "      <td>0.060226</td>\n",
       "      <td>True</td>\n",
       "      <td>Great_Pyrenees</td>\n",
       "      <td>0.058631</td>\n",
       "      <td>True</td>\n",
       "    </tr>\n",
       "    <tr>\n",
       "      <th>1184</th>\n",
       "      <td>738883359779196928</td>\n",
       "      <td>https://pbs.twimg.com/media/CkEKe3QWYAAwoDy.jpg</td>\n",
       "      <td>2</td>\n",
       "      <td>Labrador_retriever</td>\n",
       "      <td>0.691137</td>\n",
       "      <td>True</td>\n",
       "      <td>golden_retriever</td>\n",
       "      <td>0.195558</td>\n",
       "      <td>True</td>\n",
       "      <td>Chesapeake_Bay_retriever</td>\n",
       "      <td>0.019585</td>\n",
       "      <td>True</td>\n",
       "    </tr>\n",
       "    <tr>\n",
       "      <th>390</th>\n",
       "      <td>673363615379013632</td>\n",
       "      <td>https://pbs.twimg.com/media/CVhEoq4WcAE8pBm.jpg</td>\n",
       "      <td>1</td>\n",
       "      <td>ox</td>\n",
       "      <td>0.193431</td>\n",
       "      <td>False</td>\n",
       "      <td>warthog</td>\n",
       "      <td>0.123827</td>\n",
       "      <td>False</td>\n",
       "      <td>bison</td>\n",
       "      <td>0.111177</td>\n",
       "      <td>False</td>\n",
       "    </tr>\n",
       "    <tr>\n",
       "      <th>1854</th>\n",
       "      <td>841077006473256960</td>\n",
       "      <td>https://pbs.twimg.com/media/C6wbE5bXUAAh1Hv.jpg</td>\n",
       "      <td>1</td>\n",
       "      <td>Brittany_spaniel</td>\n",
       "      <td>0.962985</td>\n",
       "      <td>True</td>\n",
       "      <td>Blenheim_spaniel</td>\n",
       "      <td>0.014820</td>\n",
       "      <td>True</td>\n",
       "      <td>clumber</td>\n",
       "      <td>0.009557</td>\n",
       "      <td>True</td>\n",
       "    </tr>\n",
       "    <tr>\n",
       "      <th>445</th>\n",
       "      <td>674646392044941312</td>\n",
       "      <td>https://pbs.twimg.com/media/CVzTUGrW4AAirJH.jpg</td>\n",
       "      <td>1</td>\n",
       "      <td>flat-coated_retriever</td>\n",
       "      <td>0.837448</td>\n",
       "      <td>True</td>\n",
       "      <td>groenendael</td>\n",
       "      <td>0.086166</td>\n",
       "      <td>True</td>\n",
       "      <td>Labrador_retriever</td>\n",
       "      <td>0.016052</td>\n",
       "      <td>True</td>\n",
       "    </tr>\n",
       "    <tr>\n",
       "      <th>1721</th>\n",
       "      <td>819588359383371776</td>\n",
       "      <td>https://pbs.twimg.com/media/C1_DQn3UoAIoJy7.jpg</td>\n",
       "      <td>1</td>\n",
       "      <td>Cardigan</td>\n",
       "      <td>0.547935</td>\n",
       "      <td>True</td>\n",
       "      <td>basenji</td>\n",
       "      <td>0.116442</td>\n",
       "      <td>True</td>\n",
       "      <td>Shetland_sheepdog</td>\n",
       "      <td>0.101681</td>\n",
       "      <td>True</td>\n",
       "    </tr>\n",
       "    <tr>\n",
       "      <th>994</th>\n",
       "      <td>708130923141795840</td>\n",
       "      <td>https://pbs.twimg.com/media/CdPJUWIWIAAIchl.jpg</td>\n",
       "      <td>1</td>\n",
       "      <td>French_bulldog</td>\n",
       "      <td>0.710354</td>\n",
       "      <td>True</td>\n",
       "      <td>Chihuahua</td>\n",
       "      <td>0.262302</td>\n",
       "      <td>True</td>\n",
       "      <td>Cardigan</td>\n",
       "      <td>0.006904</td>\n",
       "      <td>True</td>\n",
       "    </tr>\n",
       "    <tr>\n",
       "      <th>546</th>\n",
       "      <td>677328882937298944</td>\n",
       "      <td>https://pbs.twimg.com/media/CWZbBlAUsAAjRg5.jpg</td>\n",
       "      <td>1</td>\n",
       "      <td>water_buffalo</td>\n",
       "      <td>0.424250</td>\n",
       "      <td>False</td>\n",
       "      <td>kelpie</td>\n",
       "      <td>0.029054</td>\n",
       "      <td>True</td>\n",
       "      <td>Staffordshire_bullterrier</td>\n",
       "      <td>0.028470</td>\n",
       "      <td>True</td>\n",
       "    </tr>\n",
       "    <tr>\n",
       "      <th>1938</th>\n",
       "      <td>860524505164394496</td>\n",
       "      <td>https://pbs.twimg.com/media/C_EyeKuXkAAdxY-.jpg</td>\n",
       "      <td>1</td>\n",
       "      <td>Bedlington_terrier</td>\n",
       "      <td>0.286558</td>\n",
       "      <td>True</td>\n",
       "      <td>toy_poodle</td>\n",
       "      <td>0.235193</td>\n",
       "      <td>True</td>\n",
       "      <td>Lakeland_terrier</td>\n",
       "      <td>0.087951</td>\n",
       "      <td>True</td>\n",
       "    </tr>\n",
       "    <tr>\n",
       "      <th>1625</th>\n",
       "      <td>803773340896923648</td>\n",
       "      <td>https://pbs.twimg.com/media/CyeTku-XcAALkBd.jpg</td>\n",
       "      <td>2</td>\n",
       "      <td>miniature_pinscher</td>\n",
       "      <td>0.817066</td>\n",
       "      <td>True</td>\n",
       "      <td>redbone</td>\n",
       "      <td>0.059707</td>\n",
       "      <td>True</td>\n",
       "      <td>Irish_terrier</td>\n",
       "      <td>0.034195</td>\n",
       "      <td>True</td>\n",
       "    </tr>\n",
       "  </tbody>\n",
       "</table>\n",
       "</div>"
      ],
      "text/plain": [
       "                tweet_id                                          jpg_url  \\\n",
       "2046  886680336477933568  https://pbs.twimg.com/media/DE4fEDzWAAAyHMM.jpg   \n",
       "1459  778027034220126208  https://pbs.twimg.com/media/Cswbc2yWcAAVsCJ.jpg   \n",
       "297   671390180817915904  https://pbs.twimg.com/media/CVFBzpXVEAAHIOv.jpg   \n",
       "802   691459709405118465  https://pbs.twimg.com/media/CZiO7mWUEAAa4zo.jpg   \n",
       "1308  753655901052166144  https://pbs.twimg.com/media/CnWGCpdWgAAWZTI.jpg   \n",
       "561   677895101218201600  https://pbs.twimg.com/media/CWhd_7WWsAAaqWG.jpg   \n",
       "1184  738883359779196928  https://pbs.twimg.com/media/CkEKe3QWYAAwoDy.jpg   \n",
       "390   673363615379013632  https://pbs.twimg.com/media/CVhEoq4WcAE8pBm.jpg   \n",
       "1854  841077006473256960  https://pbs.twimg.com/media/C6wbE5bXUAAh1Hv.jpg   \n",
       "445   674646392044941312  https://pbs.twimg.com/media/CVzTUGrW4AAirJH.jpg   \n",
       "1721  819588359383371776  https://pbs.twimg.com/media/C1_DQn3UoAIoJy7.jpg   \n",
       "994   708130923141795840  https://pbs.twimg.com/media/CdPJUWIWIAAIchl.jpg   \n",
       "546   677328882937298944  https://pbs.twimg.com/media/CWZbBlAUsAAjRg5.jpg   \n",
       "1938  860524505164394496  https://pbs.twimg.com/media/C_EyeKuXkAAdxY-.jpg   \n",
       "1625  803773340896923648  https://pbs.twimg.com/media/CyeTku-XcAALkBd.jpg   \n",
       "\n",
       "      img_num                     p1   p1_conf  p1_dog                p2  \\\n",
       "2046        1            convertible  0.738995   False        sports_car   \n",
       "1459        1                clumber  0.946718    True    cocker_spaniel   \n",
       "297         1                  zebra  0.997673   False             tiger   \n",
       "802         1      Shetland_sheepdog  0.551206    True            collie   \n",
       "1308        1     miniature_pinscher  0.456092    True       toy_terrier   \n",
       "561         1              dalmatian  0.550702    True            kuvasz   \n",
       "1184        2     Labrador_retriever  0.691137    True  golden_retriever   \n",
       "390         1                     ox  0.193431   False           warthog   \n",
       "1854        1       Brittany_spaniel  0.962985    True  Blenheim_spaniel   \n",
       "445         1  flat-coated_retriever  0.837448    True       groenendael   \n",
       "1721        1               Cardigan  0.547935    True           basenji   \n",
       "994         1         French_bulldog  0.710354    True         Chihuahua   \n",
       "546         1          water_buffalo  0.424250   False            kelpie   \n",
       "1938        1     Bedlington_terrier  0.286558    True        toy_poodle   \n",
       "1625        2     miniature_pinscher  0.817066    True           redbone   \n",
       "\n",
       "       p2_conf  p2_dog                         p3   p3_conf  p3_dog  \n",
       "2046  0.139952   False                  car_wheel  0.044173   False  \n",
       "1459  0.015950    True                      Lhasa  0.006519    True  \n",
       "297   0.000837   False            prairie_chicken  0.000575   False  \n",
       "802   0.232544    True              Border_collie  0.095218    True  \n",
       "1308  0.153126    True          Italian_greyhound  0.144147    True  \n",
       "561   0.060226    True             Great_Pyrenees  0.058631    True  \n",
       "1184  0.195558    True   Chesapeake_Bay_retriever  0.019585    True  \n",
       "390   0.123827   False                      bison  0.111177   False  \n",
       "1854  0.014820    True                    clumber  0.009557    True  \n",
       "445   0.086166    True         Labrador_retriever  0.016052    True  \n",
       "1721  0.116442    True          Shetland_sheepdog  0.101681    True  \n",
       "994   0.262302    True                   Cardigan  0.006904    True  \n",
       "546   0.029054    True  Staffordshire_bullterrier  0.028470    True  \n",
       "1938  0.235193    True           Lakeland_terrier  0.087951    True  \n",
       "1625  0.059707    True              Irish_terrier  0.034195    True  "
      ]
     },
     "execution_count": 12,
     "metadata": {},
     "output_type": "execute_result"
    }
   ],
   "source": [
    "im_predict.sample(15)"
   ]
  },
  {
   "cell_type": "code",
   "execution_count": 13,
   "metadata": {},
   "outputs": [
    {
     "data": {
      "text/plain": [
       "10     2333\n",
       "11        3\n",
       "50        3\n",
       "80        2\n",
       "20        2\n",
       "2         1\n",
       "16        1\n",
       "40        1\n",
       "70        1\n",
       "15        1\n",
       "90        1\n",
       "110       1\n",
       "120       1\n",
       "130       1\n",
       "150       1\n",
       "170       1\n",
       "7         1\n",
       "0         1\n",
       "Name: rating_denominator, dtype: int64"
      ]
     },
     "execution_count": 13,
     "metadata": {},
     "output_type": "execute_result"
    }
   ],
   "source": [
    "tw_archive.rating_denominator.value_counts()"
   ]
  },
  {
   "cell_type": "code",
   "execution_count": 14,
   "metadata": {},
   "outputs": [
    {
     "data": {
      "text/plain": [
       "12      558\n",
       "11      464\n",
       "10      461\n",
       "13      351\n",
       "9       158\n",
       "8       102\n",
       "7        55\n",
       "14       54\n",
       "5        37\n",
       "6        32\n",
       "3        19\n",
       "4        17\n",
       "1         9\n",
       "2         9\n",
       "420       2\n",
       "0         2\n",
       "15        2\n",
       "75        2\n",
       "80        1\n",
       "20        1\n",
       "24        1\n",
       "26        1\n",
       "44        1\n",
       "50        1\n",
       "60        1\n",
       "165       1\n",
       "84        1\n",
       "88        1\n",
       "144       1\n",
       "182       1\n",
       "143       1\n",
       "666       1\n",
       "960       1\n",
       "1776      1\n",
       "17        1\n",
       "27        1\n",
       "45        1\n",
       "99        1\n",
       "121       1\n",
       "204       1\n",
       "Name: rating_numerator, dtype: int64"
      ]
     },
     "execution_count": 14,
     "metadata": {},
     "output_type": "execute_result"
    }
   ],
   "source": [
    "tw_archive.rating_numerator.value_counts()"
   ]
  },
  {
   "cell_type": "code",
   "execution_count": 15,
   "metadata": {},
   "outputs": [
    {
     "data": {
      "text/plain": [
       "<a href=\"http://twitter.com/download/iphone\" rel=\"nofollow\">Twitter for iPhone</a>     2221\n",
       "<a href=\"http://vine.co\" rel=\"nofollow\">Vine - Make a Scene</a>                          91\n",
       "<a href=\"http://twitter.com\" rel=\"nofollow\">Twitter Web Client</a>                       33\n",
       "<a href=\"https://about.twitter.com/products/tweetdeck\" rel=\"nofollow\">TweetDeck</a>      11\n",
       "Name: source, dtype: int64"
      ]
     },
     "execution_count": 15,
     "metadata": {},
     "output_type": "execute_result"
    }
   ],
   "source": [
    "tw_archive.source.value_counts()"
   ]
  },
  {
   "cell_type": "markdown",
   "metadata": {},
   "source": [
    "### Quality:\n",
    "\n",
    "##### `tw_archive` table:\n",
    " - `rating_denominator` is not always 10.\n",
    " - `rating_numerator` is not always greater than 10.\n",
    " - `expanded_url` contain duplicate data sometimes.\n",
    " - `name` is sometimes missing or a preposition. _(Can't fix missing names.)_\n",
    " - `expanded_url` sometimes missing.\n",
    " - No column to determine type of tweet; i.e. Original, Retweet, or Reply.\n",
    " - `dog_stage` sometimes missing. _(Can't fix currently.)_\n",
    " - Some column headers aren't very descriptive.\n",
    " \n",
    " \n",
    "##### `im_predict` table:\n",
    " - Underscore (\\_) between words.\n",
    " - Some tweets contain no dogs."
   ]
  },
  {
   "cell_type": "markdown",
   "metadata": {},
   "source": [
    "### Tidiness:\n",
    "\n",
    "##### `tw_archive` table:\n",
    " - Missing values are \"None\".\n",
    " - Single variable `dog_stage` in four seperate columns.\n",
    " - Multiple `dog_stage` in some tweets.\n",
    " - Short URL is in `text` column.\n",
    " - `source` has full links.\n",
    " - `tweet_id`, `timestamp`, `retweeted_status_timestamp` columns are int64.\n",
    " \n",
    "##### `im_predict` table:\n",
    " - `p1`, `p2`, `p3`, are objects."
   ]
  },
  {
   "cell_type": "markdown",
   "metadata": {},
   "source": [
    "# Clean\n",
    "Cleaning the issues found in the assessment section."
   ]
  },
  {
   "cell_type": "code",
   "execution_count": 16,
   "metadata": {},
   "outputs": [],
   "source": [
    "# Create copies of original dataset for cleaning.\n",
    "\n",
    "tw_archive_clean = tw_archive.copy()\n",
    "im_predict_clean = im_predict.copy()"
   ]
  },
  {
   "cell_type": "markdown",
   "metadata": {},
   "source": [
    "##### Define:\n",
    "`tweet_id` in both tables is `int64`. Since I am nott going to perform any mathematical operatioons on the, convert them to `str`."
   ]
  },
  {
   "cell_type": "markdown",
   "metadata": {},
   "source": [
    "##### Code:"
   ]
  },
  {
   "cell_type": "code",
   "execution_count": 17,
   "metadata": {},
   "outputs": [],
   "source": [
    "tw_archive_clean.tweet_id = tw_archive_clean.tweet_id.astype(\"str\")\n",
    "im_predict_clean.tweet_id = im_predict_clean.tweet_id.astype(\"str\")"
   ]
  },
  {
   "cell_type": "markdown",
   "metadata": {},
   "source": [
    "##### Test:"
   ]
  },
  {
   "cell_type": "code",
   "execution_count": 18,
   "metadata": {},
   "outputs": [
    {
     "data": {
      "text/plain": [
       "(0    892420643555336193\n",
       " 1    892177421306343426\n",
       " 2    891815181378084864\n",
       " 3    891689557279858688\n",
       " 4    891327558926688256\n",
       " Name: tweet_id, dtype: object, 0    666020888022790149\n",
       " 1    666029285002620928\n",
       " 2    666033412701032449\n",
       " 3    666044226329800704\n",
       " 4    666049248165822465\n",
       " Name: tweet_id, dtype: object)"
      ]
     },
     "execution_count": 18,
     "metadata": {},
     "output_type": "execute_result"
    }
   ],
   "source": [
    "tw_archive_clean.tweet_id.head(), im_predict_clean.tweet_id.head()"
   ]
  },
  {
   "cell_type": "markdown",
   "metadata": {},
   "source": [
    "### Missing data\n",
    "\n",
    "`tw_archive` missing retweet count and favourite count.\n",
    "\n",
    "##### Define:\n",
    "The twitter-archive-enhanced.csv dataset did not have favourite count and retweet count for the tweet data. I gathered it using the Twitter API. Using the JSON data, I also determined if the tweet is an original, reply, or a retweet. <br>\n",
    "Use `pandas.merge()` to mearge `tweet_info` with `tw_archive` to add this data to our dataset.\n"
   ]
  },
  {
   "cell_type": "markdown",
   "metadata": {},
   "source": [
    "##### Code"
   ]
  },
  {
   "cell_type": "code",
   "execution_count": 19,
   "metadata": {},
   "outputs": [],
   "source": [
    "tw_archive_clean = tw_archive_clean.merge(tweet_info, how=\"inner\", on=\"tweet_id\")"
   ]
  },
  {
   "cell_type": "markdown",
   "metadata": {},
   "source": [
    "##### Test:"
   ]
  },
  {
   "cell_type": "code",
   "execution_count": 20,
   "metadata": {},
   "outputs": [
    {
     "data": {
      "text/html": [
       "<div>\n",
       "<style scoped>\n",
       "    .dataframe tbody tr th:only-of-type {\n",
       "        vertical-align: middle;\n",
       "    }\n",
       "\n",
       "    .dataframe tbody tr th {\n",
       "        vertical-align: top;\n",
       "    }\n",
       "\n",
       "    .dataframe thead th {\n",
       "        text-align: right;\n",
       "    }\n",
       "</style>\n",
       "<table border=\"1\" class=\"dataframe\">\n",
       "  <thead>\n",
       "    <tr style=\"text-align: right;\">\n",
       "      <th></th>\n",
       "      <th>tweet_id</th>\n",
       "      <th>in_reply_to_status_id</th>\n",
       "      <th>in_reply_to_user_id</th>\n",
       "      <th>timestamp</th>\n",
       "      <th>source</th>\n",
       "      <th>text</th>\n",
       "      <th>retweeted_status_id</th>\n",
       "      <th>retweeted_status_user_id</th>\n",
       "      <th>retweeted_status_timestamp</th>\n",
       "      <th>expanded_urls</th>\n",
       "      <th>rating_numerator</th>\n",
       "      <th>rating_denominator</th>\n",
       "      <th>name</th>\n",
       "      <th>doggo</th>\n",
       "      <th>floofer</th>\n",
       "      <th>pupper</th>\n",
       "      <th>puppo</th>\n",
       "      <th>retweet_count</th>\n",
       "      <th>favourite_count</th>\n",
       "      <th>tweet_type</th>\n",
       "    </tr>\n",
       "  </thead>\n",
       "  <tbody>\n",
       "    <tr>\n",
       "      <th>1179</th>\n",
       "      <td>717428917016076293</td>\n",
       "      <td>NaN</td>\n",
       "      <td>NaN</td>\n",
       "      <td>2016-04-05 19:09:17 +0000</td>\n",
       "      <td>&lt;a href=\"http://vine.co\" rel=\"nofollow\"&gt;Vine -...</td>\n",
       "      <td>This is Skittle. He's trying to communicate. 1...</td>\n",
       "      <td>NaN</td>\n",
       "      <td>NaN</td>\n",
       "      <td>NaN</td>\n",
       "      <td>https://vine.co/v/iIhEU2lVqxz</td>\n",
       "      <td>11</td>\n",
       "      <td>10</td>\n",
       "      <td>Skittle</td>\n",
       "      <td>None</td>\n",
       "      <td>None</td>\n",
       "      <td>None</td>\n",
       "      <td>None</td>\n",
       "      <td>488</td>\n",
       "      <td>1688</td>\n",
       "      <td>original</td>\n",
       "    </tr>\n",
       "    <tr>\n",
       "      <th>1467</th>\n",
       "      <td>693267061318012928</td>\n",
       "      <td>NaN</td>\n",
       "      <td>NaN</td>\n",
       "      <td>2016-01-30 02:58:42 +0000</td>\n",
       "      <td>&lt;a href=\"http://vine.co\" rel=\"nofollow\"&gt;Vine -...</td>\n",
       "      <td>This is Oscar. He can wave. Friendly af. 12/10...</td>\n",
       "      <td>NaN</td>\n",
       "      <td>NaN</td>\n",
       "      <td>NaN</td>\n",
       "      <td>https://vine.co/v/i5n2irFUYWv</td>\n",
       "      <td>12</td>\n",
       "      <td>10</td>\n",
       "      <td>Oscar</td>\n",
       "      <td>None</td>\n",
       "      <td>None</td>\n",
       "      <td>None</td>\n",
       "      <td>None</td>\n",
       "      <td>889</td>\n",
       "      <td>2531</td>\n",
       "      <td>original</td>\n",
       "    </tr>\n",
       "    <tr>\n",
       "      <th>67</th>\n",
       "      <td>879130579576475649</td>\n",
       "      <td>NaN</td>\n",
       "      <td>NaN</td>\n",
       "      <td>2017-06-26 00:13:58 +0000</td>\n",
       "      <td>&lt;a href=\"http://twitter.com/download/iphone\" r...</td>\n",
       "      <td>RT @dog_rates: This is Emmy. She was adopted t...</td>\n",
       "      <td>8.780576e+17</td>\n",
       "      <td>4.196984e+09</td>\n",
       "      <td>2017-06-23 01:10:23 +0000</td>\n",
       "      <td>https://twitter.com/dog_rates/status/878057613...</td>\n",
       "      <td>14</td>\n",
       "      <td>10</td>\n",
       "      <td>Emmy</td>\n",
       "      <td>None</td>\n",
       "      <td>None</td>\n",
       "      <td>None</td>\n",
       "      <td>None</td>\n",
       "      <td>6812</td>\n",
       "      <td>0</td>\n",
       "      <td>retweet</td>\n",
       "    </tr>\n",
       "    <tr>\n",
       "      <th>2267</th>\n",
       "      <td>667211855547486208</td>\n",
       "      <td>NaN</td>\n",
       "      <td>NaN</td>\n",
       "      <td>2015-11-19 05:24:37 +0000</td>\n",
       "      <td>&lt;a href=\"http://twitter.com/download/iphone\" r...</td>\n",
       "      <td>This is Genevieve. She is a golden retriever c...</td>\n",
       "      <td>NaN</td>\n",
       "      <td>NaN</td>\n",
       "      <td>NaN</td>\n",
       "      <td>https://twitter.com/dog_rates/status/667211855...</td>\n",
       "      <td>9</td>\n",
       "      <td>10</td>\n",
       "      <td>Genevieve</td>\n",
       "      <td>None</td>\n",
       "      <td>None</td>\n",
       "      <td>None</td>\n",
       "      <td>None</td>\n",
       "      <td>248</td>\n",
       "      <td>498</td>\n",
       "      <td>original</td>\n",
       "    </tr>\n",
       "    <tr>\n",
       "      <th>1839</th>\n",
       "      <td>675534494439489536</td>\n",
       "      <td>NaN</td>\n",
       "      <td>NaN</td>\n",
       "      <td>2015-12-12 04:35:48 +0000</td>\n",
       "      <td>&lt;a href=\"http://twitter.com/download/iphone\" r...</td>\n",
       "      <td>Seriously guys?! Only send in dogs. I only rat...</td>\n",
       "      <td>NaN</td>\n",
       "      <td>NaN</td>\n",
       "      <td>NaN</td>\n",
       "      <td>https://twitter.com/dog_rates/status/675534494...</td>\n",
       "      <td>11</td>\n",
       "      <td>10</td>\n",
       "      <td>a</td>\n",
       "      <td>None</td>\n",
       "      <td>None</td>\n",
       "      <td>None</td>\n",
       "      <td>None</td>\n",
       "      <td>445</td>\n",
       "      <td>1889</td>\n",
       "      <td>original</td>\n",
       "    </tr>\n",
       "    <tr>\n",
       "      <th>2018</th>\n",
       "      <td>671744970634719232</td>\n",
       "      <td>NaN</td>\n",
       "      <td>NaN</td>\n",
       "      <td>2015-12-01 17:37:36 +0000</td>\n",
       "      <td>&lt;a href=\"http://twitter.com/download/iphone\" r...</td>\n",
       "      <td>Very fit horned dog here. Looks powerful. Not ...</td>\n",
       "      <td>NaN</td>\n",
       "      <td>NaN</td>\n",
       "      <td>NaN</td>\n",
       "      <td>https://twitter.com/dog_rates/status/671744970...</td>\n",
       "      <td>6</td>\n",
       "      <td>10</td>\n",
       "      <td>None</td>\n",
       "      <td>None</td>\n",
       "      <td>None</td>\n",
       "      <td>None</td>\n",
       "      <td>None</td>\n",
       "      <td>802</td>\n",
       "      <td>1382</td>\n",
       "      <td>original</td>\n",
       "    </tr>\n",
       "    <tr>\n",
       "      <th>646</th>\n",
       "      <td>791774931465953280</td>\n",
       "      <td>NaN</td>\n",
       "      <td>NaN</td>\n",
       "      <td>2016-10-27 22:53:48 +0000</td>\n",
       "      <td>&lt;a href=\"http://vine.co\" rel=\"nofollow\"&gt;Vine -...</td>\n",
       "      <td>Vine will be deeply missed. This was by far my...</td>\n",
       "      <td>NaN</td>\n",
       "      <td>NaN</td>\n",
       "      <td>NaN</td>\n",
       "      <td>https://vine.co/v/ea0OwvPTx9l</td>\n",
       "      <td>14</td>\n",
       "      <td>10</td>\n",
       "      <td>None</td>\n",
       "      <td>None</td>\n",
       "      <td>None</td>\n",
       "      <td>None</td>\n",
       "      <td>None</td>\n",
       "      <td>24722</td>\n",
       "      <td>48874</td>\n",
       "      <td>original</td>\n",
       "    </tr>\n",
       "    <tr>\n",
       "      <th>153</th>\n",
       "      <td>860981674716409858</td>\n",
       "      <td>NaN</td>\n",
       "      <td>NaN</td>\n",
       "      <td>2017-05-06 22:16:42 +0000</td>\n",
       "      <td>&lt;a href=\"http://twitter.com/download/iphone\" r...</td>\n",
       "      <td>RT @dog_rates: Meet Lorenzo. He's an avid nift...</td>\n",
       "      <td>8.605638e+17</td>\n",
       "      <td>4.196984e+09</td>\n",
       "      <td>2017-05-05 18:36:06 +0000</td>\n",
       "      <td>https://www.gofundme.com/help-lorenzo-beat-can...</td>\n",
       "      <td>13</td>\n",
       "      <td>10</td>\n",
       "      <td>Lorenzo</td>\n",
       "      <td>None</td>\n",
       "      <td>None</td>\n",
       "      <td>None</td>\n",
       "      <td>None</td>\n",
       "      <td>2225</td>\n",
       "      <td>0</td>\n",
       "      <td>retweet</td>\n",
       "    </tr>\n",
       "    <tr>\n",
       "      <th>1162</th>\n",
       "      <td>719704490224398336</td>\n",
       "      <td>NaN</td>\n",
       "      <td>NaN</td>\n",
       "      <td>2016-04-12 01:51:36 +0000</td>\n",
       "      <td>&lt;a href=\"http://twitter.com/download/iphone\" r...</td>\n",
       "      <td>This is Clyde. He's making sure you're having ...</td>\n",
       "      <td>NaN</td>\n",
       "      <td>NaN</td>\n",
       "      <td>NaN</td>\n",
       "      <td>https://twitter.com/dog_rates/status/719704490...</td>\n",
       "      <td>12</td>\n",
       "      <td>10</td>\n",
       "      <td>Clyde</td>\n",
       "      <td>None</td>\n",
       "      <td>None</td>\n",
       "      <td>pupper</td>\n",
       "      <td>None</td>\n",
       "      <td>1566</td>\n",
       "      <td>4809</td>\n",
       "      <td>original</td>\n",
       "    </tr>\n",
       "    <tr>\n",
       "      <th>112</th>\n",
       "      <td>870374049280663552</td>\n",
       "      <td>NaN</td>\n",
       "      <td>NaN</td>\n",
       "      <td>2017-06-01 20:18:38 +0000</td>\n",
       "      <td>&lt;a href=\"http://twitter.com/download/iphone\" r...</td>\n",
       "      <td>This is Zoey. She really likes the planet. Wou...</td>\n",
       "      <td>NaN</td>\n",
       "      <td>NaN</td>\n",
       "      <td>NaN</td>\n",
       "      <td>https://twitter.com/dog_rates/status/870374049...</td>\n",
       "      <td>13</td>\n",
       "      <td>10</td>\n",
       "      <td>Zoey</td>\n",
       "      <td>None</td>\n",
       "      <td>None</td>\n",
       "      <td>None</td>\n",
       "      <td>None</td>\n",
       "      <td>26437</td>\n",
       "      <td>82628</td>\n",
       "      <td>original</td>\n",
       "    </tr>\n",
       "  </tbody>\n",
       "</table>\n",
       "</div>"
      ],
      "text/plain": [
       "                tweet_id  in_reply_to_status_id  in_reply_to_user_id  \\\n",
       "1179  717428917016076293                    NaN                  NaN   \n",
       "1467  693267061318012928                    NaN                  NaN   \n",
       "67    879130579576475649                    NaN                  NaN   \n",
       "2267  667211855547486208                    NaN                  NaN   \n",
       "1839  675534494439489536                    NaN                  NaN   \n",
       "2018  671744970634719232                    NaN                  NaN   \n",
       "646   791774931465953280                    NaN                  NaN   \n",
       "153   860981674716409858                    NaN                  NaN   \n",
       "1162  719704490224398336                    NaN                  NaN   \n",
       "112   870374049280663552                    NaN                  NaN   \n",
       "\n",
       "                      timestamp  \\\n",
       "1179  2016-04-05 19:09:17 +0000   \n",
       "1467  2016-01-30 02:58:42 +0000   \n",
       "67    2017-06-26 00:13:58 +0000   \n",
       "2267  2015-11-19 05:24:37 +0000   \n",
       "1839  2015-12-12 04:35:48 +0000   \n",
       "2018  2015-12-01 17:37:36 +0000   \n",
       "646   2016-10-27 22:53:48 +0000   \n",
       "153   2017-05-06 22:16:42 +0000   \n",
       "1162  2016-04-12 01:51:36 +0000   \n",
       "112   2017-06-01 20:18:38 +0000   \n",
       "\n",
       "                                                 source  \\\n",
       "1179  <a href=\"http://vine.co\" rel=\"nofollow\">Vine -...   \n",
       "1467  <a href=\"http://vine.co\" rel=\"nofollow\">Vine -...   \n",
       "67    <a href=\"http://twitter.com/download/iphone\" r...   \n",
       "2267  <a href=\"http://twitter.com/download/iphone\" r...   \n",
       "1839  <a href=\"http://twitter.com/download/iphone\" r...   \n",
       "2018  <a href=\"http://twitter.com/download/iphone\" r...   \n",
       "646   <a href=\"http://vine.co\" rel=\"nofollow\">Vine -...   \n",
       "153   <a href=\"http://twitter.com/download/iphone\" r...   \n",
       "1162  <a href=\"http://twitter.com/download/iphone\" r...   \n",
       "112   <a href=\"http://twitter.com/download/iphone\" r...   \n",
       "\n",
       "                                                   text  retweeted_status_id  \\\n",
       "1179  This is Skittle. He's trying to communicate. 1...                  NaN   \n",
       "1467  This is Oscar. He can wave. Friendly af. 12/10...                  NaN   \n",
       "67    RT @dog_rates: This is Emmy. She was adopted t...         8.780576e+17   \n",
       "2267  This is Genevieve. She is a golden retriever c...                  NaN   \n",
       "1839  Seriously guys?! Only send in dogs. I only rat...                  NaN   \n",
       "2018  Very fit horned dog here. Looks powerful. Not ...                  NaN   \n",
       "646   Vine will be deeply missed. This was by far my...                  NaN   \n",
       "153   RT @dog_rates: Meet Lorenzo. He's an avid nift...         8.605638e+17   \n",
       "1162  This is Clyde. He's making sure you're having ...                  NaN   \n",
       "112   This is Zoey. She really likes the planet. Wou...                  NaN   \n",
       "\n",
       "      retweeted_status_user_id retweeted_status_timestamp  \\\n",
       "1179                       NaN                        NaN   \n",
       "1467                       NaN                        NaN   \n",
       "67                4.196984e+09  2017-06-23 01:10:23 +0000   \n",
       "2267                       NaN                        NaN   \n",
       "1839                       NaN                        NaN   \n",
       "2018                       NaN                        NaN   \n",
       "646                        NaN                        NaN   \n",
       "153               4.196984e+09  2017-05-05 18:36:06 +0000   \n",
       "1162                       NaN                        NaN   \n",
       "112                        NaN                        NaN   \n",
       "\n",
       "                                          expanded_urls  rating_numerator  \\\n",
       "1179                      https://vine.co/v/iIhEU2lVqxz                11   \n",
       "1467                      https://vine.co/v/i5n2irFUYWv                12   \n",
       "67    https://twitter.com/dog_rates/status/878057613...                14   \n",
       "2267  https://twitter.com/dog_rates/status/667211855...                 9   \n",
       "1839  https://twitter.com/dog_rates/status/675534494...                11   \n",
       "2018  https://twitter.com/dog_rates/status/671744970...                 6   \n",
       "646                       https://vine.co/v/ea0OwvPTx9l                14   \n",
       "153   https://www.gofundme.com/help-lorenzo-beat-can...                13   \n",
       "1162  https://twitter.com/dog_rates/status/719704490...                12   \n",
       "112   https://twitter.com/dog_rates/status/870374049...                13   \n",
       "\n",
       "      rating_denominator       name doggo floofer  pupper puppo  \\\n",
       "1179                  10    Skittle  None    None    None  None   \n",
       "1467                  10      Oscar  None    None    None  None   \n",
       "67                    10       Emmy  None    None    None  None   \n",
       "2267                  10  Genevieve  None    None    None  None   \n",
       "1839                  10          a  None    None    None  None   \n",
       "2018                  10       None  None    None    None  None   \n",
       "646                   10       None  None    None    None  None   \n",
       "153                   10    Lorenzo  None    None    None  None   \n",
       "1162                  10      Clyde  None    None  pupper  None   \n",
       "112                   10       Zoey  None    None    None  None   \n",
       "\n",
       "      retweet_count  favourite_count tweet_type  \n",
       "1179            488             1688   original  \n",
       "1467            889             2531   original  \n",
       "67             6812                0    retweet  \n",
       "2267            248              498   original  \n",
       "1839            445             1889   original  \n",
       "2018            802             1382   original  \n",
       "646           24722            48874   original  \n",
       "153            2225                0    retweet  \n",
       "1162           1566             4809   original  \n",
       "112           26437            82628   original  "
      ]
     },
     "execution_count": 20,
     "metadata": {},
     "output_type": "execute_result"
    }
   ],
   "source": [
    "tw_archive_clean.sample(10)"
   ]
  },
  {
   "cell_type": "markdown",
   "metadata": {},
   "source": [
    "### Tidiness"
   ]
  },
  {
   "cell_type": "markdown",
   "metadata": {},
   "source": [
    "##### Define\n",
    "The dataset contsins \"none\" as as string object for missing values. Replace \"None\" for missing values in `tw_archive` with `np.NaN`"
   ]
  },
  {
   "cell_type": "markdown",
   "metadata": {},
   "source": [
    "##### Code:"
   ]
  },
  {
   "cell_type": "code",
   "execution_count": 21,
   "metadata": {},
   "outputs": [],
   "source": [
    "tw_archive_clean.replace(to_replace=\"None\", value=np.NaN, inplace=True)"
   ]
  },
  {
   "cell_type": "markdown",
   "metadata": {},
   "source": [
    "##### Test:"
   ]
  },
  {
   "cell_type": "code",
   "execution_count": 22,
   "metadata": {},
   "outputs": [
    {
     "data": {
      "text/html": [
       "<div>\n",
       "<style scoped>\n",
       "    .dataframe tbody tr th:only-of-type {\n",
       "        vertical-align: middle;\n",
       "    }\n",
       "\n",
       "    .dataframe tbody tr th {\n",
       "        vertical-align: top;\n",
       "    }\n",
       "\n",
       "    .dataframe thead th {\n",
       "        text-align: right;\n",
       "    }\n",
       "</style>\n",
       "<table border=\"1\" class=\"dataframe\">\n",
       "  <thead>\n",
       "    <tr style=\"text-align: right;\">\n",
       "      <th></th>\n",
       "      <th>tweet_id</th>\n",
       "      <th>in_reply_to_status_id</th>\n",
       "      <th>in_reply_to_user_id</th>\n",
       "      <th>timestamp</th>\n",
       "      <th>source</th>\n",
       "      <th>text</th>\n",
       "      <th>retweeted_status_id</th>\n",
       "      <th>retweeted_status_user_id</th>\n",
       "      <th>retweeted_status_timestamp</th>\n",
       "      <th>expanded_urls</th>\n",
       "      <th>rating_numerator</th>\n",
       "      <th>rating_denominator</th>\n",
       "      <th>name</th>\n",
       "      <th>doggo</th>\n",
       "      <th>floofer</th>\n",
       "      <th>pupper</th>\n",
       "      <th>puppo</th>\n",
       "      <th>retweet_count</th>\n",
       "      <th>favourite_count</th>\n",
       "      <th>tweet_type</th>\n",
       "    </tr>\n",
       "  </thead>\n",
       "  <tbody>\n",
       "    <tr>\n",
       "      <th>0</th>\n",
       "      <td>892420643555336193</td>\n",
       "      <td>NaN</td>\n",
       "      <td>NaN</td>\n",
       "      <td>2017-08-01 16:23:56 +0000</td>\n",
       "      <td>&lt;a href=\"http://twitter.com/download/iphone\" r...</td>\n",
       "      <td>This is Phineas. He's a mystical boy. Only eve...</td>\n",
       "      <td>NaN</td>\n",
       "      <td>NaN</td>\n",
       "      <td>NaN</td>\n",
       "      <td>https://twitter.com/dog_rates/status/892420643...</td>\n",
       "      <td>13</td>\n",
       "      <td>10</td>\n",
       "      <td>Phineas</td>\n",
       "      <td>NaN</td>\n",
       "      <td>NaN</td>\n",
       "      <td>NaN</td>\n",
       "      <td>NaN</td>\n",
       "      <td>8444</td>\n",
       "      <td>38429</td>\n",
       "      <td>original</td>\n",
       "    </tr>\n",
       "    <tr>\n",
       "      <th>1</th>\n",
       "      <td>892177421306343426</td>\n",
       "      <td>NaN</td>\n",
       "      <td>NaN</td>\n",
       "      <td>2017-08-01 00:17:27 +0000</td>\n",
       "      <td>&lt;a href=\"http://twitter.com/download/iphone\" r...</td>\n",
       "      <td>This is Tilly. She's just checking pup on you....</td>\n",
       "      <td>NaN</td>\n",
       "      <td>NaN</td>\n",
       "      <td>NaN</td>\n",
       "      <td>https://twitter.com/dog_rates/status/892177421...</td>\n",
       "      <td>13</td>\n",
       "      <td>10</td>\n",
       "      <td>Tilly</td>\n",
       "      <td>NaN</td>\n",
       "      <td>NaN</td>\n",
       "      <td>NaN</td>\n",
       "      <td>NaN</td>\n",
       "      <td>6224</td>\n",
       "      <td>32923</td>\n",
       "      <td>original</td>\n",
       "    </tr>\n",
       "    <tr>\n",
       "      <th>2</th>\n",
       "      <td>891815181378084864</td>\n",
       "      <td>NaN</td>\n",
       "      <td>NaN</td>\n",
       "      <td>2017-07-31 00:18:03 +0000</td>\n",
       "      <td>&lt;a href=\"http://twitter.com/download/iphone\" r...</td>\n",
       "      <td>This is Archie. He is a rare Norwegian Pouncin...</td>\n",
       "      <td>NaN</td>\n",
       "      <td>NaN</td>\n",
       "      <td>NaN</td>\n",
       "      <td>https://twitter.com/dog_rates/status/891815181...</td>\n",
       "      <td>12</td>\n",
       "      <td>10</td>\n",
       "      <td>Archie</td>\n",
       "      <td>NaN</td>\n",
       "      <td>NaN</td>\n",
       "      <td>NaN</td>\n",
       "      <td>NaN</td>\n",
       "      <td>4125</td>\n",
       "      <td>24810</td>\n",
       "      <td>original</td>\n",
       "    </tr>\n",
       "    <tr>\n",
       "      <th>3</th>\n",
       "      <td>891689557279858688</td>\n",
       "      <td>NaN</td>\n",
       "      <td>NaN</td>\n",
       "      <td>2017-07-30 15:58:51 +0000</td>\n",
       "      <td>&lt;a href=\"http://twitter.com/download/iphone\" r...</td>\n",
       "      <td>This is Darla. She commenced a snooze mid meal...</td>\n",
       "      <td>NaN</td>\n",
       "      <td>NaN</td>\n",
       "      <td>NaN</td>\n",
       "      <td>https://twitter.com/dog_rates/status/891689557...</td>\n",
       "      <td>13</td>\n",
       "      <td>10</td>\n",
       "      <td>Darla</td>\n",
       "      <td>NaN</td>\n",
       "      <td>NaN</td>\n",
       "      <td>NaN</td>\n",
       "      <td>NaN</td>\n",
       "      <td>8578</td>\n",
       "      <td>41777</td>\n",
       "      <td>original</td>\n",
       "    </tr>\n",
       "    <tr>\n",
       "      <th>4</th>\n",
       "      <td>891327558926688256</td>\n",
       "      <td>NaN</td>\n",
       "      <td>NaN</td>\n",
       "      <td>2017-07-29 16:00:24 +0000</td>\n",
       "      <td>&lt;a href=\"http://twitter.com/download/iphone\" r...</td>\n",
       "      <td>This is Franklin. He would like you to stop ca...</td>\n",
       "      <td>NaN</td>\n",
       "      <td>NaN</td>\n",
       "      <td>NaN</td>\n",
       "      <td>https://twitter.com/dog_rates/status/891327558...</td>\n",
       "      <td>12</td>\n",
       "      <td>10</td>\n",
       "      <td>Franklin</td>\n",
       "      <td>NaN</td>\n",
       "      <td>NaN</td>\n",
       "      <td>NaN</td>\n",
       "      <td>NaN</td>\n",
       "      <td>9307</td>\n",
       "      <td>39942</td>\n",
       "      <td>original</td>\n",
       "    </tr>\n",
       "  </tbody>\n",
       "</table>\n",
       "</div>"
      ],
      "text/plain": [
       "             tweet_id  in_reply_to_status_id  in_reply_to_user_id  \\\n",
       "0  892420643555336193                    NaN                  NaN   \n",
       "1  892177421306343426                    NaN                  NaN   \n",
       "2  891815181378084864                    NaN                  NaN   \n",
       "3  891689557279858688                    NaN                  NaN   \n",
       "4  891327558926688256                    NaN                  NaN   \n",
       "\n",
       "                   timestamp  \\\n",
       "0  2017-08-01 16:23:56 +0000   \n",
       "1  2017-08-01 00:17:27 +0000   \n",
       "2  2017-07-31 00:18:03 +0000   \n",
       "3  2017-07-30 15:58:51 +0000   \n",
       "4  2017-07-29 16:00:24 +0000   \n",
       "\n",
       "                                              source  \\\n",
       "0  <a href=\"http://twitter.com/download/iphone\" r...   \n",
       "1  <a href=\"http://twitter.com/download/iphone\" r...   \n",
       "2  <a href=\"http://twitter.com/download/iphone\" r...   \n",
       "3  <a href=\"http://twitter.com/download/iphone\" r...   \n",
       "4  <a href=\"http://twitter.com/download/iphone\" r...   \n",
       "\n",
       "                                                text  retweeted_status_id  \\\n",
       "0  This is Phineas. He's a mystical boy. Only eve...                  NaN   \n",
       "1  This is Tilly. She's just checking pup on you....                  NaN   \n",
       "2  This is Archie. He is a rare Norwegian Pouncin...                  NaN   \n",
       "3  This is Darla. She commenced a snooze mid meal...                  NaN   \n",
       "4  This is Franklin. He would like you to stop ca...                  NaN   \n",
       "\n",
       "   retweeted_status_user_id retweeted_status_timestamp  \\\n",
       "0                       NaN                        NaN   \n",
       "1                       NaN                        NaN   \n",
       "2                       NaN                        NaN   \n",
       "3                       NaN                        NaN   \n",
       "4                       NaN                        NaN   \n",
       "\n",
       "                                       expanded_urls  rating_numerator  \\\n",
       "0  https://twitter.com/dog_rates/status/892420643...                13   \n",
       "1  https://twitter.com/dog_rates/status/892177421...                13   \n",
       "2  https://twitter.com/dog_rates/status/891815181...                12   \n",
       "3  https://twitter.com/dog_rates/status/891689557...                13   \n",
       "4  https://twitter.com/dog_rates/status/891327558...                12   \n",
       "\n",
       "   rating_denominator      name doggo floofer pupper puppo  retweet_count  \\\n",
       "0                  10   Phineas   NaN     NaN    NaN   NaN           8444   \n",
       "1                  10     Tilly   NaN     NaN    NaN   NaN           6224   \n",
       "2                  10    Archie   NaN     NaN    NaN   NaN           4125   \n",
       "3                  10     Darla   NaN     NaN    NaN   NaN           8578   \n",
       "4                  10  Franklin   NaN     NaN    NaN   NaN           9307   \n",
       "\n",
       "   favourite_count tweet_type  \n",
       "0            38429   original  \n",
       "1            32923   original  \n",
       "2            24810   original  \n",
       "3            41777   original  \n",
       "4            39942   original  "
      ]
     },
     "execution_count": 22,
     "metadata": {},
     "output_type": "execute_result"
    }
   ],
   "source": [
    "tw_archive_clean.head()"
   ]
  },
  {
   "cell_type": "markdown",
   "metadata": {},
   "source": [
    "##### Define:"
   ]
  },
  {
   "cell_type": "markdown",
   "metadata": {},
   "source": [
    "Use pandas.melt function to get a single variable `dog_stage` from the four variables."
   ]
  },
  {
   "cell_type": "code",
   "execution_count": 23,
   "metadata": {},
   "outputs": [],
   "source": [
    "dog_stage_df = pd.melt(tw_archive_clean, id_vars=[\"tweet_id\"], \n",
    "                    value_vars=[\"doggo\", \"floofer\", \"pupper\", \"puppo\"],\n",
    "                   value_name=\"dog_stage\").dropna().drop(\"variable\", axis=1)\n",
    "tw_archive_clean = tw_archive_clean.merge(dog_stage_df, on=\"tweet_id\", how=\"left\")\n",
    "tw_archive_clean.dog_stage = tw_archive_clean.dog_stage.astype('category')\n",
    "tw_archive_clean.drop([\"doggo\", \"floofer\", \"pupper\", \"puppo\"], axis=1, inplace=True)\n"
   ]
  },
  {
   "cell_type": "markdown",
   "metadata": {},
   "source": [
    "##### Test:"
   ]
  },
  {
   "cell_type": "code",
   "execution_count": 24,
   "metadata": {},
   "outputs": [
    {
     "data": {
      "text/plain": [
       "pupper     255\n",
       "doggo       96\n",
       "puppo       30\n",
       "floofer     10\n",
       "Name: dog_stage, dtype: int64"
      ]
     },
     "execution_count": 24,
     "metadata": {},
     "output_type": "execute_result"
    }
   ],
   "source": [
    "tw_archive_clean.dog_stage.value_counts()"
   ]
  },
  {
   "cell_type": "markdown",
   "metadata": {},
   "source": [
    "##### Define:\n",
    "Some tweets had multiple dog stages. This might have happened if the tweet contained two or more of the keywords. As it is very difficult to determine where in the text the original dog stage might occur, consider the first stage as true and discard duplicates."
   ]
  },
  {
   "cell_type": "markdown",
   "metadata": {},
   "source": [
    "##### Code:"
   ]
  },
  {
   "cell_type": "code",
   "execution_count": 25,
   "metadata": {},
   "outputs": [],
   "source": [
    "tw_archive_clean.drop_duplicates(subset=\"tweet_id\", inplace=True)"
   ]
  },
  {
   "cell_type": "markdown",
   "metadata": {},
   "source": [
    "##### Test:"
   ]
  },
  {
   "cell_type": "code",
   "execution_count": 26,
   "metadata": {},
   "outputs": [
    {
     "data": {
      "text/plain": [
       "False"
      ]
     },
     "execution_count": 26,
     "metadata": {},
     "output_type": "execute_result"
    }
   ],
   "source": [
    "tw_archive_clean.duplicated(subset=[\"tweet_id\"]).any()"
   ]
  },
  {
   "cell_type": "markdown",
   "metadata": {},
   "source": [
    "##### Define:\n",
    "Short URL is with tweet text. Use Regular expressions to remove it from the text column and create a new `short_URL` column."
   ]
  },
  {
   "cell_type": "markdown",
   "metadata": {},
   "source": [
    "##### Code"
   ]
  },
  {
   "cell_type": "code",
   "execution_count": 27,
   "metadata": {},
   "outputs": [],
   "source": [
    "s_url = re.compile(r\"(https://t.co/.{10})\")\n",
    "tw_archive_clean[\"short_url\"] = tw_archive_clean.text.str.extract(s_url)\n",
    "tw_archive_clean.text = tw_archive_clean.text.str.replace(s_url, \"\")"
   ]
  },
  {
   "cell_type": "markdown",
   "metadata": {},
   "source": [
    "##### Test:"
   ]
  },
  {
   "cell_type": "code",
   "execution_count": 28,
   "metadata": {},
   "outputs": [
    {
     "data": {
      "text/html": [
       "<div>\n",
       "<style scoped>\n",
       "    .dataframe tbody tr th:only-of-type {\n",
       "        vertical-align: middle;\n",
       "    }\n",
       "\n",
       "    .dataframe tbody tr th {\n",
       "        vertical-align: top;\n",
       "    }\n",
       "\n",
       "    .dataframe thead th {\n",
       "        text-align: right;\n",
       "    }\n",
       "</style>\n",
       "<table border=\"1\" class=\"dataframe\">\n",
       "  <thead>\n",
       "    <tr style=\"text-align: right;\">\n",
       "      <th></th>\n",
       "      <th>tweet_id</th>\n",
       "      <th>short_url</th>\n",
       "      <th>text</th>\n",
       "    </tr>\n",
       "  </thead>\n",
       "  <tbody>\n",
       "    <tr>\n",
       "      <th>39</th>\n",
       "      <td>884562892145688576</td>\n",
       "      <td>https://t.co/1r4MFCbCX5</td>\n",
       "      <td>This is Kevin. He's just so happy. 13/10 what ...</td>\n",
       "    </tr>\n",
       "    <tr>\n",
       "      <th>83</th>\n",
       "      <td>876484053909872640</td>\n",
       "      <td>https://t.co/26BXueUgbs</td>\n",
       "      <td>This is Benedict. He wants to thank you for th...</td>\n",
       "    </tr>\n",
       "    <tr>\n",
       "      <th>1851</th>\n",
       "      <td>675707330206547968</td>\n",
       "      <td>https://t.co/ALJvbtcwf0</td>\n",
       "      <td>We've got ourselves a battle here. Watch out R...</td>\n",
       "    </tr>\n",
       "    <tr>\n",
       "      <th>555</th>\n",
       "      <td>802624713319034886</td>\n",
       "      <td>https://t.co/SuXcI9B7pQ</td>\n",
       "      <td>RT @dog_rates: \"Yep... just as I suspected. Yo...</td>\n",
       "    </tr>\n",
       "    <tr>\n",
       "      <th>728</th>\n",
       "      <td>781524693396357120</td>\n",
       "      <td>https://t.co/ya7bviQUUf</td>\n",
       "      <td>Idk why this keeps happening. We only rate dog...</td>\n",
       "    </tr>\n",
       "    <tr>\n",
       "      <th>1700</th>\n",
       "      <td>680940246314430465</td>\n",
       "      <td>https://t.co/VQXdwJfkyS</td>\n",
       "      <td>This is Alice. She's an idiot. 4/10</td>\n",
       "    </tr>\n",
       "    <tr>\n",
       "      <th>980</th>\n",
       "      <td>749395845976588288</td>\n",
       "      <td>https://t.co/lznl6QGkYc</td>\n",
       "      <td>This is George. He just remembered that bees a...</td>\n",
       "    </tr>\n",
       "    <tr>\n",
       "      <th>943</th>\n",
       "      <td>752519690950500352</td>\n",
       "      <td>https://t.co/G54yClasz2</td>\n",
       "      <td>Hopefully this puppo on a swing will help get ...</td>\n",
       "    </tr>\n",
       "    <tr>\n",
       "      <th>2057</th>\n",
       "      <td>671347597085433856</td>\n",
       "      <td>https://t.co/svlkUlg3NH</td>\n",
       "      <td>This is Lola. She was not fully prepared for t...</td>\n",
       "    </tr>\n",
       "    <tr>\n",
       "      <th>1261</th>\n",
       "      <td>710140971284037632</td>\n",
       "      <td>https://t.co/nLuPY3pY12</td>\n",
       "      <td>This is Tater. His underbite is fierce af. Doe...</td>\n",
       "    </tr>\n",
       "  </tbody>\n",
       "</table>\n",
       "</div>"
      ],
      "text/plain": [
       "                tweet_id                short_url  \\\n",
       "39    884562892145688576  https://t.co/1r4MFCbCX5   \n",
       "83    876484053909872640  https://t.co/26BXueUgbs   \n",
       "1851  675707330206547968  https://t.co/ALJvbtcwf0   \n",
       "555   802624713319034886  https://t.co/SuXcI9B7pQ   \n",
       "728   781524693396357120  https://t.co/ya7bviQUUf   \n",
       "1700  680940246314430465  https://t.co/VQXdwJfkyS   \n",
       "980   749395845976588288  https://t.co/lznl6QGkYc   \n",
       "943   752519690950500352  https://t.co/G54yClasz2   \n",
       "2057  671347597085433856  https://t.co/svlkUlg3NH   \n",
       "1261  710140971284037632  https://t.co/nLuPY3pY12   \n",
       "\n",
       "                                                   text  \n",
       "39    This is Kevin. He's just so happy. 13/10 what ...  \n",
       "83    This is Benedict. He wants to thank you for th...  \n",
       "1851  We've got ourselves a battle here. Watch out R...  \n",
       "555   RT @dog_rates: \"Yep... just as I suspected. Yo...  \n",
       "728   Idk why this keeps happening. We only rate dog...  \n",
       "1700               This is Alice. She's an idiot. 4/10   \n",
       "980   This is George. He just remembered that bees a...  \n",
       "943   Hopefully this puppo on a swing will help get ...  \n",
       "2057  This is Lola. She was not fully prepared for t...  \n",
       "1261  This is Tater. His underbite is fierce af. Doe...  "
      ]
     },
     "execution_count": 28,
     "metadata": {},
     "output_type": "execute_result"
    }
   ],
   "source": [
    "tw_archive_clean[[\"tweet_id\", \"short_url\", \"text\"]].sample(10)"
   ]
  },
  {
   "cell_type": "markdown",
   "metadata": {},
   "source": [
    "##### Define\n",
    "Some columns in the tables are of incorrect datatypes. Correct them as follows: <br>\n",
    "\n",
    "`tw_archive` table:<br>\n",
    " - `timestamp`: DateTime<br>\n",
    " - `retweeted_status_timestamp`: DateTime<br>\n",
    " \n",
    "`im_predict` table:<br>\n",
    " - `p1`, `p2`, `p3`: Category"
   ]
  },
  {
   "cell_type": "code",
   "execution_count": 29,
   "metadata": {},
   "outputs": [],
   "source": [
    "tw_archive_clean.timestamp = pd.to_datetime(tw_archive_clean.timestamp)\n",
    "tw_archive_clean.retweeted_status_timestamp = pd.to_datetime(tw_archive_clean.retweeted_status_timestamp)"
   ]
  },
  {
   "cell_type": "code",
   "execution_count": 30,
   "metadata": {},
   "outputs": [],
   "source": [
    "im_predict_clean.p1 = im_predict_clean.p1.astype('category')\n",
    "im_predict_clean.p2 = im_predict_clean.p2.astype('category')\n",
    "im_predict_clean.p3 = im_predict_clean.p3.astype('category')"
   ]
  },
  {
   "cell_type": "markdown",
   "metadata": {},
   "source": [
    "##### Test:"
   ]
  },
  {
   "cell_type": "code",
   "execution_count": 31,
   "metadata": {},
   "outputs": [
    {
     "name": "stdout",
     "output_type": "stream",
     "text": [
      "<class 'pandas.core.frame.DataFrame'>\n",
      "Int64Index: 2341 entries, 0 to 2354\n",
      "Data columns (total 18 columns):\n",
      "tweet_id                      2341 non-null object\n",
      "in_reply_to_status_id         78 non-null float64\n",
      "in_reply_to_user_id           78 non-null float64\n",
      "timestamp                     2341 non-null datetime64[ns]\n",
      "source                        2341 non-null object\n",
      "text                          2341 non-null object\n",
      "retweeted_status_id           167 non-null float64\n",
      "retweeted_status_user_id      167 non-null float64\n",
      "retweeted_status_timestamp    167 non-null datetime64[ns]\n",
      "expanded_urls                 2282 non-null object\n",
      "rating_numerator              2341 non-null int64\n",
      "rating_denominator            2341 non-null int64\n",
      "name                          1604 non-null object\n",
      "retweet_count                 2341 non-null int64\n",
      "favourite_count               2341 non-null int64\n",
      "tweet_type                    2341 non-null object\n",
      "dog_stage                     377 non-null category\n",
      "short_url                     2205 non-null object\n",
      "dtypes: category(1), datetime64[ns](2), float64(4), int64(4), object(7)\n",
      "memory usage: 331.7+ KB\n"
     ]
    }
   ],
   "source": [
    "tw_archive_clean.info()"
   ]
  },
  {
   "cell_type": "code",
   "execution_count": 32,
   "metadata": {},
   "outputs": [
    {
     "name": "stdout",
     "output_type": "stream",
     "text": [
      "<class 'pandas.core.frame.DataFrame'>\n",
      "RangeIndex: 2075 entries, 0 to 2074\n",
      "Data columns (total 12 columns):\n",
      "tweet_id    2075 non-null object\n",
      "jpg_url     2075 non-null object\n",
      "img_num     2075 non-null int64\n",
      "p1          2075 non-null category\n",
      "p1_conf     2075 non-null float64\n",
      "p1_dog      2075 non-null bool\n",
      "p2          2075 non-null category\n",
      "p2_conf     2075 non-null float64\n",
      "p2_dog      2075 non-null bool\n",
      "p3          2075 non-null category\n",
      "p3_conf     2075 non-null float64\n",
      "p3_dog      2075 non-null bool\n",
      "dtypes: bool(3), category(3), float64(3), int64(1), object(2)\n",
      "memory usage: 174.9+ KB\n"
     ]
    }
   ],
   "source": [
    "im_predict_clean.info()"
   ]
  },
  {
   "cell_type": "markdown",
   "metadata": {},
   "source": [
    "##### Define:\n",
    "Source of the tweet has has the entire HTML tag. Remove the redundant tags and only keep the text. `source` is also not very descriptive, so change column name to `tweet_source`."
   ]
  },
  {
   "cell_type": "markdown",
   "metadata": {},
   "source": [
    "##### Code:"
   ]
  },
  {
   "cell_type": "code",
   "execution_count": 33,
   "metadata": {},
   "outputs": [],
   "source": [
    "source_regex = re.compile(r\">(.+)<\")\n",
    "tw_archive_clean[\"tweet_source\"] = tw_archive_clean.source.str.extract(source_regex)\n",
    "tw_archive_clean.drop(\"source\", axis=1, inplace=True)"
   ]
  },
  {
   "cell_type": "markdown",
   "metadata": {},
   "source": [
    "##### Test:"
   ]
  },
  {
   "cell_type": "code",
   "execution_count": 34,
   "metadata": {},
   "outputs": [
    {
     "data": {
      "text/html": [
       "<div>\n",
       "<style scoped>\n",
       "    .dataframe tbody tr th:only-of-type {\n",
       "        vertical-align: middle;\n",
       "    }\n",
       "\n",
       "    .dataframe tbody tr th {\n",
       "        vertical-align: top;\n",
       "    }\n",
       "\n",
       "    .dataframe thead th {\n",
       "        text-align: right;\n",
       "    }\n",
       "</style>\n",
       "<table border=\"1\" class=\"dataframe\">\n",
       "  <thead>\n",
       "    <tr style=\"text-align: right;\">\n",
       "      <th></th>\n",
       "      <th>tweet_id</th>\n",
       "      <th>tweet_source</th>\n",
       "    </tr>\n",
       "  </thead>\n",
       "  <tbody>\n",
       "    <tr>\n",
       "      <th>144</th>\n",
       "      <td>863079547188785154</td>\n",
       "      <td>Twitter for iPhone</td>\n",
       "    </tr>\n",
       "    <tr>\n",
       "      <th>2325</th>\n",
       "      <td>666411507551481857</td>\n",
       "      <td>Twitter for iPhone</td>\n",
       "    </tr>\n",
       "    <tr>\n",
       "      <th>890</th>\n",
       "      <td>759446261539934208</td>\n",
       "      <td>Twitter for iPhone</td>\n",
       "    </tr>\n",
       "    <tr>\n",
       "      <th>548</th>\n",
       "      <td>803773340896923648</td>\n",
       "      <td>Twitter for iPhone</td>\n",
       "    </tr>\n",
       "    <tr>\n",
       "      <th>742</th>\n",
       "      <td>780092040432480260</td>\n",
       "      <td>Twitter for iPhone</td>\n",
       "    </tr>\n",
       "    <tr>\n",
       "      <th>809</th>\n",
       "      <td>771136648247640064</td>\n",
       "      <td>Twitter for iPhone</td>\n",
       "    </tr>\n",
       "    <tr>\n",
       "      <th>806</th>\n",
       "      <td>771500966810099713</td>\n",
       "      <td>Twitter for iPhone</td>\n",
       "    </tr>\n",
       "    <tr>\n",
       "      <th>1511</th>\n",
       "      <td>691321916024623104</td>\n",
       "      <td>Twitter for iPhone</td>\n",
       "    </tr>\n",
       "    <tr>\n",
       "      <th>700</th>\n",
       "      <td>785639753186217984</td>\n",
       "      <td>Twitter for iPhone</td>\n",
       "    </tr>\n",
       "    <tr>\n",
       "      <th>2112</th>\n",
       "      <td>670434127938719744</td>\n",
       "      <td>Twitter for iPhone</td>\n",
       "    </tr>\n",
       "  </tbody>\n",
       "</table>\n",
       "</div>"
      ],
      "text/plain": [
       "                tweet_id        tweet_source\n",
       "144   863079547188785154  Twitter for iPhone\n",
       "2325  666411507551481857  Twitter for iPhone\n",
       "890   759446261539934208  Twitter for iPhone\n",
       "548   803773340896923648  Twitter for iPhone\n",
       "742   780092040432480260  Twitter for iPhone\n",
       "809   771136648247640064  Twitter for iPhone\n",
       "806   771500966810099713  Twitter for iPhone\n",
       "1511  691321916024623104  Twitter for iPhone\n",
       "700   785639753186217984  Twitter for iPhone\n",
       "2112  670434127938719744  Twitter for iPhone"
      ]
     },
     "execution_count": 34,
     "metadata": {},
     "output_type": "execute_result"
    }
   ],
   "source": [
    "tw_archive_clean[[\"tweet_id\", \"tweet_source\"]].sample(10)"
   ]
  },
  {
   "cell_type": "markdown",
   "metadata": {},
   "source": [
    "### Quality"
   ]
  },
  {
   "cell_type": "markdown",
   "metadata": {},
   "source": [
    "##### Define:\n",
    "Some tweets have other fractions in the text. Use better regex to correct errors in rating_numerator and rating_denominator."
   ]
  },
  {
   "cell_type": "markdown",
   "metadata": {},
   "source": [
    "##### Code:"
   ]
  },
  {
   "cell_type": "code",
   "execution_count": 35,
   "metadata": {},
   "outputs": [],
   "source": [
    "rating_num_regex = re.compile(r\"(\\d+\\.?\\d?)\\/\\d\\d\\d?\")\n",
    "rating_den_regex = re.compile(r\"\\d+\\.?\\d?\\/(\\d\\d\\d?)\")\n",
    "tw_archive_clean.rating_numerator = tw_archive_clean.text.str.extract(rating_num_regex).astype(\"int32\", errors=\"ignore\")\n",
    "tw_archive_clean.rating_denominator = tw_archive_clean.text.str.extract(rating_den_regex).astype(\"int32\", errors=\"ignore\")\n"
   ]
  },
  {
   "cell_type": "markdown",
   "metadata": {},
   "source": [
    "##### Test:"
   ]
  },
  {
   "cell_type": "code",
   "execution_count": 36,
   "metadata": {},
   "outputs": [
    {
     "data": {
      "text/plain": [
       "12      553\n",
       "11      464\n",
       "10      461\n",
       "13      345\n",
       "9       158\n",
       "8       102\n",
       "7        54\n",
       "14       51\n",
       "5        35\n",
       "6        32\n",
       "3        19\n",
       "4        17\n",
       "2         9\n",
       "1         8\n",
       "15        2\n",
       "75        2\n",
       "0         2\n",
       "420       2\n",
       "143       1\n",
       "20        1\n",
       "84        1\n",
       "26        1\n",
       "99        1\n",
       "666       1\n",
       "80        1\n",
       "27        1\n",
       "17        1\n",
       "165       1\n",
       "204       1\n",
       "45        1\n",
       "121       1\n",
       "007       1\n",
       "144       1\n",
       "50        1\n",
       "960       1\n",
       "13.5      1\n",
       "182       1\n",
       "1776      1\n",
       "9.5       1\n",
       "60        1\n",
       "44        1\n",
       "88        1\n",
       "Name: rating_numerator, dtype: int64"
      ]
     },
     "execution_count": 36,
     "metadata": {},
     "output_type": "execute_result"
    }
   ],
   "source": [
    "tw_archive_clean.rating_numerator.value_counts()"
   ]
  },
  {
   "cell_type": "markdown",
   "metadata": {},
   "source": [
    "##### Define:\n",
    "`name` is sometimes an article or a preposition. Replace these with blanks.<br>\n",
    "`name` is also not a descriptive column header. Replace with `dog_name`."
   ]
  },
  {
   "cell_type": "markdown",
   "metadata": {},
   "source": [
    "##### Code"
   ]
  },
  {
   "cell_type": "code",
   "execution_count": 37,
   "metadata": {},
   "outputs": [],
   "source": [
    "bad_dog_names = [\"a\", \"with\", \"an\", \"the\", \"all\", 'Hk']\n",
    "dog_name_regex = r\"(?:^|(?<= ))\" + r'|'.join(bad_dog_names) + r\"(?:(?= )|$)\"\n",
    "tw_archive_clean[\"dog_name\"] = tw_archive_clean.name.str.replace(dog_name_regex, str(np.nan), regex=True)\n",
    "tw_archive_clean.drop(\"name\", axis=1, inplace=True) "
   ]
  },
  {
   "cell_type": "markdown",
   "metadata": {},
   "source": [
    "##### Test"
   ]
  },
  {
   "cell_type": "code",
   "execution_count": 38,
   "metadata": {},
   "outputs": [
    {
     "data": {
      "text/plain": [
       "False"
      ]
     },
     "execution_count": 38,
     "metadata": {},
     "output_type": "execute_result"
    }
   ],
   "source": [
    "tw_archive_clean.dog_name.isin(bad_dog_names).any()"
   ]
  },
  {
   "cell_type": "markdown",
   "metadata": {},
   "source": [
    "##### Define:\n",
    "`expanded_urls` sometimes have duplicated urls present seperated by commas. Since commas arent normally used in urls, everything after the comma, including it is deleted."
   ]
  },
  {
   "cell_type": "code",
   "execution_count": 39,
   "metadata": {},
   "outputs": [
    {
     "data": {
      "text/plain": [
       "'https://twitter.com/dog_rates/status/891327558926688256/photo/1,https://twitter.com/dog_rates/status/891327558926688256/photo/1'"
      ]
     },
     "execution_count": 39,
     "metadata": {},
     "output_type": "execute_result"
    }
   ],
   "source": [
    "tw_archive_clean.iloc[4].expanded_urls"
   ]
  },
  {
   "cell_type": "markdown",
   "metadata": {},
   "source": [
    "##### Code:"
   ]
  },
  {
   "cell_type": "code",
   "execution_count": 40,
   "metadata": {},
   "outputs": [],
   "source": [
    "tw_archive_clean.expanded_urls = tw_archive_clean.expanded_urls.str.replace(r\",.+\", \"\", regex=True)"
   ]
  },
  {
   "cell_type": "markdown",
   "metadata": {},
   "source": [
    "##### Test:\n"
   ]
  },
  {
   "cell_type": "code",
   "execution_count": 41,
   "metadata": {},
   "outputs": [
    {
     "data": {
      "text/plain": [
       "'https://twitter.com/dog_rates/status/891327558926688256/photo/1'"
      ]
     },
     "execution_count": 41,
     "metadata": {},
     "output_type": "execute_result"
    }
   ],
   "source": [
    "tw_archive_clean.iloc[4].expanded_urls"
   ]
  },
  {
   "cell_type": "markdown",
   "metadata": {},
   "source": [
    "##### Define:\n",
    "The `expanded_url` is missing for some tweets. Use the requests library to get the full URL of the tweet. The requests library will also handle any redirects that occur and give us the final URL."
   ]
  },
  {
   "cell_type": "markdown",
   "metadata": {},
   "source": [
    "##### Code:"
   ]
  },
  {
   "cell_type": "code",
   "execution_count": 42,
   "metadata": {},
   "outputs": [],
   "source": [
    "null_expn_urls = tw_archive_clean[pd.isnull(tw_archive_clean.expanded_urls)][\"tweet_id\"].tolist()\n",
    "t_url = r\"https://twitter.com/dog_rates/status/\"\n",
    "\n",
    "for tweet in null_expn_urls:\n",
    "    response = requests.get(t_url + str(tweet))\n",
    "    tw_archive_clean.loc[tw_archive_clean[\"tweet_id\"]==tweet, \"expanded_urls\"] = response.url"
   ]
  },
  {
   "cell_type": "markdown",
   "metadata": {},
   "source": [
    "##### Test:"
   ]
  },
  {
   "cell_type": "code",
   "execution_count": 43,
   "metadata": {},
   "outputs": [
    {
     "data": {
      "text/plain": [
       "False"
      ]
     },
     "execution_count": 43,
     "metadata": {},
     "output_type": "execute_result"
    }
   ],
   "source": [
    "pd.isnull(tw_archive_clean.expanded_urls).any()"
   ]
  },
  {
   "cell_type": "markdown",
   "metadata": {},
   "source": [
    "##### Define:\n",
    "The words in `p1`, `p2`, `p3`, columns in `im_predict` table are seperated by underscores (\\_). Replace the underscores with spaces. <br>\n",
    "The first letters of each word should also be be capatalised for consistency."
   ]
  },
  {
   "cell_type": "code",
   "execution_count": 44,
   "metadata": {},
   "outputs": [],
   "source": [
    "tw_archive_clean.to_csv(\"twitter_archive_master.csv\", index=False)"
   ]
  },
  {
   "cell_type": "markdown",
   "metadata": {},
   "source": [
    "##### Code:"
   ]
  },
  {
   "cell_type": "code",
   "execution_count": 45,
   "metadata": {},
   "outputs": [],
   "source": [
    "im_predict_clean.p1 = im_predict_clean.p1.str.replace(r\"_\", \" \", regex=True).str.title()\n",
    "im_predict_clean.p2 = im_predict_clean.p2.str.replace(r\"_\", \" \", regex=True).str.title()\n",
    "im_predict_clean.p3 = im_predict_clean.p3.str.replace(r\"_\", \" \", regex=True).str.title()"
   ]
  },
  {
   "cell_type": "markdown",
   "metadata": {},
   "source": [
    "##### Test:"
   ]
  },
  {
   "cell_type": "code",
   "execution_count": 46,
   "metadata": {},
   "outputs": [
    {
     "data": {
      "text/html": [
       "<div>\n",
       "<style scoped>\n",
       "    .dataframe tbody tr th:only-of-type {\n",
       "        vertical-align: middle;\n",
       "    }\n",
       "\n",
       "    .dataframe tbody tr th {\n",
       "        vertical-align: top;\n",
       "    }\n",
       "\n",
       "    .dataframe thead th {\n",
       "        text-align: right;\n",
       "    }\n",
       "</style>\n",
       "<table border=\"1\" class=\"dataframe\">\n",
       "  <thead>\n",
       "    <tr style=\"text-align: right;\">\n",
       "      <th></th>\n",
       "      <th>p1</th>\n",
       "      <th>p2</th>\n",
       "      <th>p3</th>\n",
       "    </tr>\n",
       "  </thead>\n",
       "  <tbody>\n",
       "    <tr>\n",
       "      <th>628</th>\n",
       "      <td>Shetland Sheepdog</td>\n",
       "      <td>Collie</td>\n",
       "      <td>Pomeranian</td>\n",
       "    </tr>\n",
       "    <tr>\n",
       "      <th>220</th>\n",
       "      <td>German Short-Haired Pointer</td>\n",
       "      <td>Staffordshire Bullterrier</td>\n",
       "      <td>Bluetick</td>\n",
       "    </tr>\n",
       "    <tr>\n",
       "      <th>533</th>\n",
       "      <td>Hamster</td>\n",
       "      <td>Guinea Pig</td>\n",
       "      <td>Macaque</td>\n",
       "    </tr>\n",
       "    <tr>\n",
       "      <th>691</th>\n",
       "      <td>Llama</td>\n",
       "      <td>Ram</td>\n",
       "      <td>Hog</td>\n",
       "    </tr>\n",
       "    <tr>\n",
       "      <th>72</th>\n",
       "      <td>Golden Retriever</td>\n",
       "      <td>Labrador Retriever</td>\n",
       "      <td>Kuvasz</td>\n",
       "    </tr>\n",
       "    <tr>\n",
       "      <th>1884</th>\n",
       "      <td>Cardigan</td>\n",
       "      <td>Boston Bull</td>\n",
       "      <td>Doormat</td>\n",
       "    </tr>\n",
       "    <tr>\n",
       "      <th>143</th>\n",
       "      <td>Crash Helmet</td>\n",
       "      <td>Toaster</td>\n",
       "      <td>Mouse</td>\n",
       "    </tr>\n",
       "    <tr>\n",
       "      <th>934</th>\n",
       "      <td>Golden Retriever</td>\n",
       "      <td>Standard Poodle</td>\n",
       "      <td>Tibetan Mastiff</td>\n",
       "    </tr>\n",
       "    <tr>\n",
       "      <th>740</th>\n",
       "      <td>Seat Belt</td>\n",
       "      <td>Great Dane</td>\n",
       "      <td>Weimaraner</td>\n",
       "    </tr>\n",
       "    <tr>\n",
       "      <th>855</th>\n",
       "      <td>Car Mirror</td>\n",
       "      <td>Chesapeake Bay Retriever</td>\n",
       "      <td>Vizsla</td>\n",
       "    </tr>\n",
       "  </tbody>\n",
       "</table>\n",
       "</div>"
      ],
      "text/plain": [
       "                               p1                         p2               p3\n",
       "628             Shetland Sheepdog                     Collie       Pomeranian\n",
       "220   German Short-Haired Pointer  Staffordshire Bullterrier         Bluetick\n",
       "533                       Hamster                 Guinea Pig          Macaque\n",
       "691                         Llama                        Ram              Hog\n",
       "72               Golden Retriever         Labrador Retriever           Kuvasz\n",
       "1884                     Cardigan                Boston Bull          Doormat\n",
       "143                  Crash Helmet                    Toaster            Mouse\n",
       "934              Golden Retriever            Standard Poodle  Tibetan Mastiff\n",
       "740                     Seat Belt                 Great Dane       Weimaraner\n",
       "855                    Car Mirror   Chesapeake Bay Retriever           Vizsla"
      ]
     },
     "execution_count": 46,
     "metadata": {},
     "output_type": "execute_result"
    }
   ],
   "source": [
    "im_predict_clean[[\"p1\", \"p2\", \"p3\"]].sample(10)"
   ]
  },
  {
   "cell_type": "markdown",
   "metadata": {},
   "source": [
    "##### Define:\n",
    "Rating numerator for tweet_id 695064344191721472 and 722974582966214656 is 13 and not 4."
   ]
  },
  {
   "cell_type": "markdown",
   "metadata": {},
   "source": [
    "##### Code:"
   ]
  },
  {
   "cell_type": "code",
   "execution_count": 47,
   "metadata": {},
   "outputs": [],
   "source": [
    "tw_archive_clean.loc[tw_archive_clean.tweet_id == \"695064344191721472\", \"rating_numerator\"] = 13\n",
    "tw_archive_clean.loc[tw_archive_clean.tweet_id == \"722974582966214656\", \"rating_numerator\"] = 13"
   ]
  },
  {
   "cell_type": "markdown",
   "metadata": {},
   "source": [
    "##### Test:"
   ]
  },
  {
   "cell_type": "code",
   "execution_count": 48,
   "metadata": {},
   "outputs": [
    {
     "data": {
      "text/html": [
       "<div>\n",
       "<style scoped>\n",
       "    .dataframe tbody tr th:only-of-type {\n",
       "        vertical-align: middle;\n",
       "    }\n",
       "\n",
       "    .dataframe tbody tr th {\n",
       "        vertical-align: top;\n",
       "    }\n",
       "\n",
       "    .dataframe thead th {\n",
       "        text-align: right;\n",
       "    }\n",
       "</style>\n",
       "<table border=\"1\" class=\"dataframe\">\n",
       "  <thead>\n",
       "    <tr style=\"text-align: right;\">\n",
       "      <th></th>\n",
       "      <th>tweet_id</th>\n",
       "      <th>in_reply_to_status_id</th>\n",
       "      <th>in_reply_to_user_id</th>\n",
       "      <th>timestamp</th>\n",
       "      <th>text</th>\n",
       "      <th>retweeted_status_id</th>\n",
       "      <th>retweeted_status_user_id</th>\n",
       "      <th>retweeted_status_timestamp</th>\n",
       "      <th>expanded_urls</th>\n",
       "      <th>rating_numerator</th>\n",
       "      <th>rating_denominator</th>\n",
       "      <th>retweet_count</th>\n",
       "      <th>favourite_count</th>\n",
       "      <th>tweet_type</th>\n",
       "      <th>dog_stage</th>\n",
       "      <th>short_url</th>\n",
       "      <th>tweet_source</th>\n",
       "      <th>dog_name</th>\n",
       "    </tr>\n",
       "  </thead>\n",
       "  <tbody>\n",
       "    <tr>\n",
       "      <th>1164</th>\n",
       "      <td>722974582966214656</td>\n",
       "      <td>NaN</td>\n",
       "      <td>NaN</td>\n",
       "      <td>2016-04-21 02:25:47</td>\n",
       "      <td>Happy 4/20 from the squad! 13/10 for all</td>\n",
       "      <td>NaN</td>\n",
       "      <td>NaN</td>\n",
       "      <td>NaT</td>\n",
       "      <td>https://twitter.com/dog_rates/status/722974582...</td>\n",
       "      <td>13</td>\n",
       "      <td>20</td>\n",
       "      <td>1695</td>\n",
       "      <td>4340</td>\n",
       "      <td>original</td>\n",
       "      <td>NaN</td>\n",
       "      <td>https://t.co/eV1diwds8a</td>\n",
       "      <td>Twitter for iPhone</td>\n",
       "      <td>NaN</td>\n",
       "    </tr>\n",
       "    <tr>\n",
       "      <th>1458</th>\n",
       "      <td>695064344191721472</td>\n",
       "      <td>NaN</td>\n",
       "      <td>NaN</td>\n",
       "      <td>2016-02-04 02:00:27</td>\n",
       "      <td>This may be the greatest video I've ever been ...</td>\n",
       "      <td>NaN</td>\n",
       "      <td>NaN</td>\n",
       "      <td>NaT</td>\n",
       "      <td>https://twitter.com/dog_rates/status/695064344...</td>\n",
       "      <td>13</td>\n",
       "      <td>10</td>\n",
       "      <td>652</td>\n",
       "      <td>1706</td>\n",
       "      <td>original</td>\n",
       "      <td>NaN</td>\n",
       "      <td>https://t.co/uaJmNgXR2P</td>\n",
       "      <td>Twitter for iPhone</td>\n",
       "      <td>NaN</td>\n",
       "    </tr>\n",
       "  </tbody>\n",
       "</table>\n",
       "</div>"
      ],
      "text/plain": [
       "                tweet_id  in_reply_to_status_id  in_reply_to_user_id  \\\n",
       "1164  722974582966214656                    NaN                  NaN   \n",
       "1458  695064344191721472                    NaN                  NaN   \n",
       "\n",
       "               timestamp                                               text  \\\n",
       "1164 2016-04-21 02:25:47          Happy 4/20 from the squad! 13/10 for all    \n",
       "1458 2016-02-04 02:00:27  This may be the greatest video I've ever been ...   \n",
       "\n",
       "      retweeted_status_id  retweeted_status_user_id  \\\n",
       "1164                  NaN                       NaN   \n",
       "1458                  NaN                       NaN   \n",
       "\n",
       "     retweeted_status_timestamp  \\\n",
       "1164                        NaT   \n",
       "1458                        NaT   \n",
       "\n",
       "                                          expanded_urls rating_numerator  \\\n",
       "1164  https://twitter.com/dog_rates/status/722974582...               13   \n",
       "1458  https://twitter.com/dog_rates/status/695064344...               13   \n",
       "\n",
       "     rating_denominator  retweet_count  favourite_count tweet_type dog_stage  \\\n",
       "1164                 20           1695             4340   original       NaN   \n",
       "1458                 10            652             1706   original       NaN   \n",
       "\n",
       "                    short_url        tweet_source dog_name  \n",
       "1164  https://t.co/eV1diwds8a  Twitter for iPhone      NaN  \n",
       "1458  https://t.co/uaJmNgXR2P  Twitter for iPhone      NaN  "
      ]
     },
     "execution_count": 48,
     "metadata": {},
     "output_type": "execute_result"
    }
   ],
   "source": [
    "tw_archive_clean.loc[tw_archive_clean.tweet_id.isin([\"695064344191721472\", \"722974582966214656\"])]"
   ]
  },
  {
   "cell_type": "markdown",
   "metadata": {},
   "source": [
    "Going forward, I need a combined dataset of `tw_archive_clean` and `im_predict_clean`. There's also some columns in the `tw_archive_clean` dataset that arent necessary for our analysis. <br>\n",
    "These columns are not necessarily useless, so I will first save the cleaned tables as csv files. While combining the datasets, I'd like to only get tweets that are of dogs. All other tweets are not needed and will be dropped."
   ]
  },
  {
   "cell_type": "code",
   "execution_count": 49,
   "metadata": {},
   "outputs": [],
   "source": [
    "tw_archive_clean.to_csv(\"twitter-archive-cleaned.csv\", index=False)\n",
    "im_predict_clean.to_csv(\"image-predictions-cleaned.csv\", index=False)"
   ]
  },
  {
   "cell_type": "code",
   "execution_count": 50,
   "metadata": {},
   "outputs": [],
   "source": [
    "tw_archive_clean = pd.read_csv(\"twitter-archive-cleaned.csv\")\n",
    "im_predict_clean = pd.read_csv(\"image-predictions-cleaned.csv\")"
   ]
  },
  {
   "cell_type": "markdown",
   "metadata": {},
   "source": [
    "##### Define:\n",
    "The datasets contain columns that are not required for our analysis. I will drop all such columns.<br>\n",
    "`tw_archive` table:\n",
    " - expanded_urls\n",
    " - in_reply_to_status_id\n",
    " - in_reply_to_user_id\n",
    " - rating_denominator\n",
    " - retweeted_status_id\n",
    " - retweeted_status_user_id\n",
    " - retweeted_status_timestamp\n",
    " - tweet_type\n",
    " - short_url\n",
    " - tweet_source\n",
    " \n",
    "Also, any tweet that is not \"original\" is not required. Therefore drop all retweets and replies."
   ]
  },
  {
   "cell_type": "markdown",
   "metadata": {},
   "source": [
    "##### Code:"
   ]
  },
  {
   "cell_type": "code",
   "execution_count": 51,
   "metadata": {},
   "outputs": [],
   "source": [
    "tw_archive_clean = tw_archive_clean[tw_archive_clean.tweet_type == \"original\"]\n",
    "tw_archive_clean.drop([\"expanded_urls\",\n",
    "                       \"in_reply_to_status_id\",\n",
    "                       \"in_reply_to_user_id\",\n",
    "                       \"rating_denominator\",\n",
    "                       \"retweeted_status_id\",\n",
    "                       \"retweeted_status_user_id\",\n",
    "                       \"retweeted_status_timestamp\",\n",
    "                       \"tweet_type\",\n",
    "                       \"short_url\",\n",
    "                       \"tweet_source\"], axis=1, inplace=True)\n"
   ]
  },
  {
   "cell_type": "markdown",
   "metadata": {},
   "source": [
    "##### Test:"
   ]
  },
  {
   "cell_type": "code",
   "execution_count": 52,
   "metadata": {},
   "outputs": [
    {
     "name": "stdout",
     "output_type": "stream",
     "text": [
      "<class 'pandas.core.frame.DataFrame'>\n",
      "Int64Index: 2151 entries, 0 to 2340\n",
      "Data columns (total 8 columns):\n",
      "tweet_id            2151 non-null int64\n",
      "timestamp           2151 non-null object\n",
      "text                2151 non-null object\n",
      "rating_numerator    2150 non-null float64\n",
      "retweet_count       2151 non-null int64\n",
      "favourite_count     2151 non-null int64\n",
      "dog_stage           342 non-null object\n",
      "dog_name            1431 non-null object\n",
      "dtypes: float64(1), int64(3), object(4)\n",
      "memory usage: 151.2+ KB\n"
     ]
    }
   ],
   "source": [
    "tw_archive_clean.info()"
   ]
  },
  {
   "cell_type": "markdown",
   "metadata": {},
   "source": [
    "##### Define\n",
    "the im_predict table contain no dogs at all. \n",
    "The `im_predict` table contains predictions of dog breeds contained in the media. It also contains tweets with no dogs at all. As I am interested in dogs only, I will only add the dog breed with the highest confidence value; i.e. the p_conf values of each prediction."
   ]
  },
  {
   "cell_type": "markdown",
   "metadata": {},
   "source": [
    "##### Code:"
   ]
  },
  {
   "cell_type": "code",
   "execution_count": 53,
   "metadata": {},
   "outputs": [],
   "source": [
    "im_predict_clean = im_predict_clean[im_predict_clean[[\"p1_dog\", \"p2_dog\", \"p3_dog\"]].any(axis=1)]\n",
    "dog_breed_list = []\n",
    "for index, tweet in im_predict_clean.iterrows():\n",
    "    if tweet.p1_dog:\n",
    "        dog_breed = tweet.p1\n",
    "        conf = tweet.p1_conf\n",
    "\n",
    "    elif tweet.p2_dog:\n",
    "        dog_breed = tweet.p2\n",
    "        conf = tweet.p2_conf\n",
    "        \n",
    "    elif tweet.p3_dog:\n",
    "        dog_breed = tweet.p3\n",
    "        conf = tweet.p3_conf\n",
    "        \n",
    "    dog_breed_list.append({\"tweet_id\": tweet.tweet_id,\n",
    "                           \"dog_breed\": dog_breed,\n",
    "                           \"breed_confidence\": conf,\n",
    "                           \"jpg_url\": tweet.jpg_url})\n",
    "dog_breed_df = pd.DataFrame(dog_breed_list, columns=[\"tweet_id\", \"dog_breed\", \"breed_confidence\", \"jpg_url\"])"
   ]
  },
  {
   "cell_type": "markdown",
   "metadata": {},
   "source": [
    "##### Test"
   ]
  },
  {
   "cell_type": "code",
   "execution_count": 54,
   "metadata": {},
   "outputs": [
    {
     "data": {
      "text/html": [
       "<div>\n",
       "<style scoped>\n",
       "    .dataframe tbody tr th:only-of-type {\n",
       "        vertical-align: middle;\n",
       "    }\n",
       "\n",
       "    .dataframe tbody tr th {\n",
       "        vertical-align: top;\n",
       "    }\n",
       "\n",
       "    .dataframe thead th {\n",
       "        text-align: right;\n",
       "    }\n",
       "</style>\n",
       "<table border=\"1\" class=\"dataframe\">\n",
       "  <thead>\n",
       "    <tr style=\"text-align: right;\">\n",
       "      <th></th>\n",
       "      <th>tweet_id</th>\n",
       "      <th>dog_breed</th>\n",
       "      <th>breed_confidence</th>\n",
       "      <th>jpg_url</th>\n",
       "    </tr>\n",
       "  </thead>\n",
       "  <tbody>\n",
       "    <tr>\n",
       "      <th>0</th>\n",
       "      <td>666020888022790149</td>\n",
       "      <td>Welsh Springer Spaniel</td>\n",
       "      <td>0.465074</td>\n",
       "      <td>https://pbs.twimg.com/media/CT4udn0WwAA0aMy.jpg</td>\n",
       "    </tr>\n",
       "    <tr>\n",
       "      <th>1</th>\n",
       "      <td>666029285002620928</td>\n",
       "      <td>Redbone</td>\n",
       "      <td>0.506826</td>\n",
       "      <td>https://pbs.twimg.com/media/CT42GRgUYAA5iDo.jpg</td>\n",
       "    </tr>\n",
       "    <tr>\n",
       "      <th>2</th>\n",
       "      <td>666033412701032449</td>\n",
       "      <td>German Shepherd</td>\n",
       "      <td>0.596461</td>\n",
       "      <td>https://pbs.twimg.com/media/CT4521TWwAEvMyu.jpg</td>\n",
       "    </tr>\n",
       "    <tr>\n",
       "      <th>3</th>\n",
       "      <td>666044226329800704</td>\n",
       "      <td>Rhodesian Ridgeback</td>\n",
       "      <td>0.408143</td>\n",
       "      <td>https://pbs.twimg.com/media/CT5Dr8HUEAA-lEu.jpg</td>\n",
       "    </tr>\n",
       "    <tr>\n",
       "      <th>4</th>\n",
       "      <td>666049248165822465</td>\n",
       "      <td>Miniature Pinscher</td>\n",
       "      <td>0.560311</td>\n",
       "      <td>https://pbs.twimg.com/media/CT5IQmsXIAAKY4A.jpg</td>\n",
       "    </tr>\n",
       "    <tr>\n",
       "      <th>5</th>\n",
       "      <td>666050758794694657</td>\n",
       "      <td>Bernese Mountain Dog</td>\n",
       "      <td>0.651137</td>\n",
       "      <td>https://pbs.twimg.com/media/CT5Jof1WUAEuVxN.jpg</td>\n",
       "    </tr>\n",
       "    <tr>\n",
       "      <th>6</th>\n",
       "      <td>666055525042405380</td>\n",
       "      <td>Chow</td>\n",
       "      <td>0.692517</td>\n",
       "      <td>https://pbs.twimg.com/media/CT5N9tpXIAAifs1.jpg</td>\n",
       "    </tr>\n",
       "    <tr>\n",
       "      <th>7</th>\n",
       "      <td>666057090499244032</td>\n",
       "      <td>Golden Retriever</td>\n",
       "      <td>0.007959</td>\n",
       "      <td>https://pbs.twimg.com/media/CT5PY90WoAAQGLo.jpg</td>\n",
       "    </tr>\n",
       "    <tr>\n",
       "      <th>8</th>\n",
       "      <td>666058600524156928</td>\n",
       "      <td>Miniature Poodle</td>\n",
       "      <td>0.201493</td>\n",
       "      <td>https://pbs.twimg.com/media/CT5Qw94XAAA_2dP.jpg</td>\n",
       "    </tr>\n",
       "    <tr>\n",
       "      <th>9</th>\n",
       "      <td>666063827256086533</td>\n",
       "      <td>Golden Retriever</td>\n",
       "      <td>0.775930</td>\n",
       "      <td>https://pbs.twimg.com/media/CT5Vg_wXIAAXfnj.jpg</td>\n",
       "    </tr>\n",
       "  </tbody>\n",
       "</table>\n",
       "</div>"
      ],
      "text/plain": [
       "             tweet_id               dog_breed  breed_confidence  \\\n",
       "0  666020888022790149  Welsh Springer Spaniel          0.465074   \n",
       "1  666029285002620928                 Redbone          0.506826   \n",
       "2  666033412701032449         German Shepherd          0.596461   \n",
       "3  666044226329800704     Rhodesian Ridgeback          0.408143   \n",
       "4  666049248165822465      Miniature Pinscher          0.560311   \n",
       "5  666050758794694657    Bernese Mountain Dog          0.651137   \n",
       "6  666055525042405380                    Chow          0.692517   \n",
       "7  666057090499244032        Golden Retriever          0.007959   \n",
       "8  666058600524156928        Miniature Poodle          0.201493   \n",
       "9  666063827256086533        Golden Retriever          0.775930   \n",
       "\n",
       "                                           jpg_url  \n",
       "0  https://pbs.twimg.com/media/CT4udn0WwAA0aMy.jpg  \n",
       "1  https://pbs.twimg.com/media/CT42GRgUYAA5iDo.jpg  \n",
       "2  https://pbs.twimg.com/media/CT4521TWwAEvMyu.jpg  \n",
       "3  https://pbs.twimg.com/media/CT5Dr8HUEAA-lEu.jpg  \n",
       "4  https://pbs.twimg.com/media/CT5IQmsXIAAKY4A.jpg  \n",
       "5  https://pbs.twimg.com/media/CT5Jof1WUAEuVxN.jpg  \n",
       "6  https://pbs.twimg.com/media/CT5N9tpXIAAifs1.jpg  \n",
       "7  https://pbs.twimg.com/media/CT5PY90WoAAQGLo.jpg  \n",
       "8  https://pbs.twimg.com/media/CT5Qw94XAAA_2dP.jpg  \n",
       "9  https://pbs.twimg.com/media/CT5Vg_wXIAAXfnj.jpg  "
      ]
     },
     "execution_count": 54,
     "metadata": {},
     "output_type": "execute_result"
    }
   ],
   "source": [
    "dog_breed_df.head(10)"
   ]
  },
  {
   "cell_type": "markdown",
   "metadata": {},
   "source": [
    "##### Define:\n",
    "Create a `tw_archive_master` table with all the important columns. Use inner join on the `tw_archive` table and ``dog_breed_df` table"
   ]
  },
  {
   "cell_type": "markdown",
   "metadata": {},
   "source": [
    "##### Code:"
   ]
  },
  {
   "cell_type": "code",
   "execution_count": 55,
   "metadata": {},
   "outputs": [],
   "source": [
    "tw_archive_master = tw_archive_clean.merge(dog_breed_df, how=\"inner\", on=\"tweet_id\")\n",
    "tw_archive_master.tweet_id = tw_archive_master.tweet_id.astype(str)\n",
    "tw_archive_master = tw_archive_master[['timestamp',\n",
    "                                       'dog_name', \n",
    "                                       'rating_numerator', \n",
    "                                       'dog_breed', \n",
    "                                       'dog_stage',\n",
    "                                       'tweet_id',\n",
    "                                       'text', \n",
    "                                       'retweet_count', \n",
    "                                       'favourite_count', \n",
    "                                       'breed_confidence', \n",
    "                                       'jpg_url']]"
   ]
  },
  {
   "cell_type": "markdown",
   "metadata": {},
   "source": [
    "##### Test:"
   ]
  },
  {
   "cell_type": "code",
   "execution_count": 56,
   "metadata": {},
   "outputs": [
    {
     "data": {
      "text/html": [
       "<div>\n",
       "<style scoped>\n",
       "    .dataframe tbody tr th:only-of-type {\n",
       "        vertical-align: middle;\n",
       "    }\n",
       "\n",
       "    .dataframe tbody tr th {\n",
       "        vertical-align: top;\n",
       "    }\n",
       "\n",
       "    .dataframe thead th {\n",
       "        text-align: right;\n",
       "    }\n",
       "</style>\n",
       "<table border=\"1\" class=\"dataframe\">\n",
       "  <thead>\n",
       "    <tr style=\"text-align: right;\">\n",
       "      <th></th>\n",
       "      <th>timestamp</th>\n",
       "      <th>dog_name</th>\n",
       "      <th>rating_numerator</th>\n",
       "      <th>dog_breed</th>\n",
       "      <th>dog_stage</th>\n",
       "      <th>tweet_id</th>\n",
       "      <th>text</th>\n",
       "      <th>retweet_count</th>\n",
       "      <th>favourite_count</th>\n",
       "      <th>breed_confidence</th>\n",
       "      <th>jpg_url</th>\n",
       "    </tr>\n",
       "  </thead>\n",
       "  <tbody>\n",
       "    <tr>\n",
       "      <th>0</th>\n",
       "      <td>2017-08-01 00:17:27</td>\n",
       "      <td>Tilly</td>\n",
       "      <td>13.0</td>\n",
       "      <td>Chihuahua</td>\n",
       "      <td>NaN</td>\n",
       "      <td>892177421306343426</td>\n",
       "      <td>This is Tilly. She's just checking pup on you....</td>\n",
       "      <td>6224</td>\n",
       "      <td>32923</td>\n",
       "      <td>0.323581</td>\n",
       "      <td>https://pbs.twimg.com/media/DGGmoV4XsAAUL6n.jpg</td>\n",
       "    </tr>\n",
       "    <tr>\n",
       "      <th>1</th>\n",
       "      <td>2017-07-31 00:18:03</td>\n",
       "      <td>Archie</td>\n",
       "      <td>12.0</td>\n",
       "      <td>Chihuahua</td>\n",
       "      <td>NaN</td>\n",
       "      <td>891815181378084864</td>\n",
       "      <td>This is Archie. He is a rare Norwegian Pouncin...</td>\n",
       "      <td>4125</td>\n",
       "      <td>24810</td>\n",
       "      <td>0.716012</td>\n",
       "      <td>https://pbs.twimg.com/media/DGBdLU1WsAANxJ9.jpg</td>\n",
       "    </tr>\n",
       "    <tr>\n",
       "      <th>2</th>\n",
       "      <td>2017-07-30 15:58:51</td>\n",
       "      <td>Darla</td>\n",
       "      <td>13.0</td>\n",
       "      <td>Labrador Retriever</td>\n",
       "      <td>NaN</td>\n",
       "      <td>891689557279858688</td>\n",
       "      <td>This is Darla. She commenced a snooze mid meal...</td>\n",
       "      <td>8578</td>\n",
       "      <td>41777</td>\n",
       "      <td>0.168086</td>\n",
       "      <td>https://pbs.twimg.com/media/DF_q7IAWsAEuuN8.jpg</td>\n",
       "    </tr>\n",
       "    <tr>\n",
       "      <th>3</th>\n",
       "      <td>2017-07-29 16:00:24</td>\n",
       "      <td>Frnanklin</td>\n",
       "      <td>12.0</td>\n",
       "      <td>Basset</td>\n",
       "      <td>NaN</td>\n",
       "      <td>891327558926688256</td>\n",
       "      <td>This is Franklin. He would like you to stop ca...</td>\n",
       "      <td>9307</td>\n",
       "      <td>39942</td>\n",
       "      <td>0.555712</td>\n",
       "      <td>https://pbs.twimg.com/media/DF6hr6BUMAAzZgT.jpg</td>\n",
       "    </tr>\n",
       "    <tr>\n",
       "      <th>4</th>\n",
       "      <td>2017-07-29 00:08:17</td>\n",
       "      <td>NaN</td>\n",
       "      <td>13.0</td>\n",
       "      <td>Chesapeake Bay Retriever</td>\n",
       "      <td>NaN</td>\n",
       "      <td>891087950875897856</td>\n",
       "      <td>Here we have a majestic great white breaching ...</td>\n",
       "      <td>3085</td>\n",
       "      <td>20052</td>\n",
       "      <td>0.425595</td>\n",
       "      <td>https://pbs.twimg.com/media/DF3HwyEWsAABqE6.jpg</td>\n",
       "    </tr>\n",
       "  </tbody>\n",
       "</table>\n",
       "</div>"
      ],
      "text/plain": [
       "             timestamp   dog_name  rating_numerator                 dog_breed  \\\n",
       "0  2017-08-01 00:17:27      Tilly              13.0                 Chihuahua   \n",
       "1  2017-07-31 00:18:03     Archie              12.0                 Chihuahua   \n",
       "2  2017-07-30 15:58:51      Darla              13.0        Labrador Retriever   \n",
       "3  2017-07-29 16:00:24  Frnanklin              12.0                    Basset   \n",
       "4  2017-07-29 00:08:17        NaN              13.0  Chesapeake Bay Retriever   \n",
       "\n",
       "  dog_stage            tweet_id  \\\n",
       "0       NaN  892177421306343426   \n",
       "1       NaN  891815181378084864   \n",
       "2       NaN  891689557279858688   \n",
       "3       NaN  891327558926688256   \n",
       "4       NaN  891087950875897856   \n",
       "\n",
       "                                                text  retweet_count  \\\n",
       "0  This is Tilly. She's just checking pup on you....           6224   \n",
       "1  This is Archie. He is a rare Norwegian Pouncin...           4125   \n",
       "2  This is Darla. She commenced a snooze mid meal...           8578   \n",
       "3  This is Franklin. He would like you to stop ca...           9307   \n",
       "4  Here we have a majestic great white breaching ...           3085   \n",
       "\n",
       "   favourite_count  breed_confidence  \\\n",
       "0            32923          0.323581   \n",
       "1            24810          0.716012   \n",
       "2            41777          0.168086   \n",
       "3            39942          0.555712   \n",
       "4            20052          0.425595   \n",
       "\n",
       "                                           jpg_url  \n",
       "0  https://pbs.twimg.com/media/DGGmoV4XsAAUL6n.jpg  \n",
       "1  https://pbs.twimg.com/media/DGBdLU1WsAANxJ9.jpg  \n",
       "2  https://pbs.twimg.com/media/DF_q7IAWsAEuuN8.jpg  \n",
       "3  https://pbs.twimg.com/media/DF6hr6BUMAAzZgT.jpg  \n",
       "4  https://pbs.twimg.com/media/DF3HwyEWsAABqE6.jpg  "
      ]
     },
     "execution_count": 56,
     "metadata": {},
     "output_type": "execute_result"
    }
   ],
   "source": [
    "tw_archive_master.head()"
   ]
  },
  {
   "cell_type": "markdown",
   "metadata": {},
   "source": [
    "Saving the cleaned and combined data in a master csv file"
   ]
  },
  {
   "cell_type": "code",
   "execution_count": 57,
   "metadata": {},
   "outputs": [],
   "source": [
    "tw_archive_master.to_csv(\"twitter_archive_master.csv\", index=False, index_label=False)"
   ]
  },
  {
   "cell_type": "markdown",
   "metadata": {},
   "source": [
    "This concludes the Data Wrangling process. I now have a dataframe with clean, tidy data which can be analysed without troubles."
   ]
  },
  {
   "cell_type": "markdown",
   "metadata": {},
   "source": [
    "# Analyze"
   ]
  },
  {
   "cell_type": "markdown",
   "metadata": {},
   "source": [
    "I would first like to know the distribution for dog ratings."
   ]
  },
  {
   "cell_type": "code",
   "execution_count": 58,
   "metadata": {},
   "outputs": [],
   "source": [
    "df = pd.read_csv(\"twitter_archive_master.csv\").set_index(\"tweet_id\")\n",
    "df.dog_stage = df.dog_stage.astype('category')\n",
    "df.timestamp = pd.to_datetime(df.timestamp)"
   ]
  },
  {
   "cell_type": "code",
   "execution_count": 59,
   "metadata": {},
   "outputs": [
    {
     "name": "stdout",
     "output_type": "stream",
     "text": [
      "<class 'pandas.core.frame.DataFrame'>\n",
      "Int64Index: 1685 entries, 892177421306343426 to 666020888022790149\n",
      "Data columns (total 10 columns):\n",
      "timestamp           1685 non-null datetime64[ns]\n",
      "dog_name            1213 non-null object\n",
      "rating_numerator    1684 non-null float64\n",
      "dog_breed           1685 non-null object\n",
      "dog_stage           260 non-null category\n",
      "text                1685 non-null object\n",
      "retweet_count       1685 non-null int64\n",
      "favourite_count     1685 non-null int64\n",
      "breed_confidence    1685 non-null float64\n",
      "jpg_url             1685 non-null object\n",
      "dtypes: category(1), datetime64[ns](1), float64(2), int64(2), object(4)\n",
      "memory usage: 133.5+ KB\n"
     ]
    }
   ],
   "source": [
    "df.info()"
   ]
  },
  {
   "cell_type": "markdown",
   "metadata": {},
   "source": [
    "Let me first check some descriptive statistics on the important columns."
   ]
  },
  {
   "cell_type": "code",
   "execution_count": 60,
   "metadata": {},
   "outputs": [
    {
     "data": {
      "text/html": [
       "<div>\n",
       "<style scoped>\n",
       "    .dataframe tbody tr th:only-of-type {\n",
       "        vertical-align: middle;\n",
       "    }\n",
       "\n",
       "    .dataframe tbody tr th {\n",
       "        vertical-align: top;\n",
       "    }\n",
       "\n",
       "    .dataframe thead th {\n",
       "        text-align: right;\n",
       "    }\n",
       "</style>\n",
       "<table border=\"1\" class=\"dataframe\">\n",
       "  <thead>\n",
       "    <tr style=\"text-align: right;\">\n",
       "      <th></th>\n",
       "      <th>rating_numerator</th>\n",
       "      <th>retweet_count</th>\n",
       "      <th>favourite_count</th>\n",
       "      <th>breed_confidence</th>\n",
       "    </tr>\n",
       "  </thead>\n",
       "  <tbody>\n",
       "    <tr>\n",
       "      <th>count</th>\n",
       "      <td>1684.000000</td>\n",
       "      <td>1685.000000</td>\n",
       "      <td>1685.000000</td>\n",
       "      <td>1685.000000</td>\n",
       "    </tr>\n",
       "    <tr>\n",
       "      <th>mean</th>\n",
       "      <td>11.481295</td>\n",
       "      <td>2739.262315</td>\n",
       "      <td>9136.054599</td>\n",
       "      <td>0.549905</td>\n",
       "    </tr>\n",
       "    <tr>\n",
       "      <th>std</th>\n",
       "      <td>8.098699</td>\n",
       "      <td>4930.085162</td>\n",
       "      <td>13283.640276</td>\n",
       "      <td>0.299357</td>\n",
       "    </tr>\n",
       "    <tr>\n",
       "      <th>min</th>\n",
       "      <td>0.000000</td>\n",
       "      <td>12.000000</td>\n",
       "      <td>80.000000</td>\n",
       "      <td>0.000010</td>\n",
       "    </tr>\n",
       "    <tr>\n",
       "      <th>25%</th>\n",
       "      <td>10.000000</td>\n",
       "      <td>614.000000</td>\n",
       "      <td>2086.000000</td>\n",
       "      <td>0.302685</td>\n",
       "    </tr>\n",
       "    <tr>\n",
       "      <th>50%</th>\n",
       "      <td>11.000000</td>\n",
       "      <td>1369.000000</td>\n",
       "      <td>4294.000000</td>\n",
       "      <td>0.550506</td>\n",
       "    </tr>\n",
       "    <tr>\n",
       "      <th>75%</th>\n",
       "      <td>12.000000</td>\n",
       "      <td>3104.000000</td>\n",
       "      <td>11312.000000</td>\n",
       "      <td>0.822048</td>\n",
       "    </tr>\n",
       "    <tr>\n",
       "      <th>max</th>\n",
       "      <td>165.000000</td>\n",
       "      <td>84548.000000</td>\n",
       "      <td>164596.000000</td>\n",
       "      <td>0.999956</td>\n",
       "    </tr>\n",
       "  </tbody>\n",
       "</table>\n",
       "</div>"
      ],
      "text/plain": [
       "       rating_numerator  retweet_count  favourite_count  breed_confidence\n",
       "count       1684.000000    1685.000000      1685.000000       1685.000000\n",
       "mean          11.481295    2739.262315      9136.054599          0.549905\n",
       "std            8.098699    4930.085162     13283.640276          0.299357\n",
       "min            0.000000      12.000000        80.000000          0.000010\n",
       "25%           10.000000     614.000000      2086.000000          0.302685\n",
       "50%           11.000000    1369.000000      4294.000000          0.550506\n",
       "75%           12.000000    3104.000000     11312.000000          0.822048\n",
       "max          165.000000   84548.000000    164596.000000          0.999956"
      ]
     },
     "execution_count": 60,
     "metadata": {},
     "output_type": "execute_result"
    }
   ],
   "source": [
    "df.describe()"
   ]
  },
  {
   "cell_type": "code",
   "execution_count": 61,
   "metadata": {},
   "outputs": [
    {
     "data": {
      "text/plain": [
       "Lucy       10\n",
       "Cooper     10\n",
       "Oliver      9\n",
       "Charlie     9\n",
       "Tucker      9\n",
       "Name: dog_name, dtype: int64"
      ]
     },
     "execution_count": 61,
     "metadata": {},
     "output_type": "execute_result"
    }
   ],
   "source": [
    "df.dog_name.value_counts().nlargest(5)"
   ]
  },
  {
   "cell_type": "code",
   "execution_count": 62,
   "metadata": {},
   "outputs": [
    {
     "data": {
      "text/plain": [
       "Golden Retriever      158\n",
       "Labrador Retriever    108\n",
       "Pembroke               95\n",
       "Chihuahua              91\n",
       "Pug                    62\n",
       "Name: dog_breed, dtype: int64"
      ]
     },
     "execution_count": 62,
     "metadata": {},
     "output_type": "execute_result"
    }
   ],
   "source": [
    "df.dog_breed.value_counts().nlargest(5)"
   ]
  },
  {
   "cell_type": "markdown",
   "metadata": {},
   "source": [
    "There are a few that things that become apparent here.\n",
    "\n",
    "1. The five most common dog names are:\n",
    "    - Cooper\n",
    "    - Lucy\n",
    "    - Charlie\n",
    "    - Oliver\n",
    "    - Tucker\n",
    "    \n",
    "    \n",
    "2. The five most common dog breeds are:\n",
    "    - Golden Retriever\n",
    "    - Labrador Retriever\n",
    "    - Pembroke\n",
    "    - Chihuahua\n",
    "    - Pug\n",
    "    \n",
    "    \n",
    "3. There are a few outliers on in both rating numerator, rating denominator. \n",
    "   Most interestingly, there are a few ratings below 10.\n",
    "   \n",
    "4. Least amount of retweets are 12, while the maximum is 84,113.\n",
    "\n",
    "5. Least amount of favourites is 80, while the maximum is 161,869."
   ]
  },
  {
   "cell_type": "markdown",
   "metadata": {},
   "source": [
    "### Some Questions:\n",
    "    \n",
    "    Why was a dog rated 0, and which dog got a rating of 165?\n",
    "    Who is twitter's most favorite dog, and did it get the maximum retweets as \n",
    "    well?\n",
    "    Which dog breed is Twitter's most favourite, and are they also rated the highest?"
   ]
  },
  {
   "cell_type": "markdown",
   "metadata": {},
   "source": [
    "First let us take a look at the tweet which rated a dog 0."
   ]
  },
  {
   "cell_type": "code",
   "execution_count": 63,
   "metadata": {},
   "outputs": [
    {
     "data": {
      "text/html": [
       "<blockquote class=\"twitter-tweet\"><p lang=\"en\" dir=\"ltr\">When you&#39;re so blinded by your systematic plagiarism that you forget what day it is. 0/10 <a href=\"https://t.co/YbEJPkg4Ag\">pic.twitter.com/YbEJPkg4Ag</a></p>&mdash; WeRateDogs™ (@dog_rates) <a href=\"https://twitter.com/dog_rates/status/835152434251116546?ref_src=twsrc%5Etfw\">February 24, 2017</a></blockquote>\n",
       "<script async src=\"https://platform.twitter.com/widgets.js\" charset=\"utf-8\"></script>\n"
      ],
      "text/plain": [
       "<__main__.embed_tweet at 0x251f5f94630>"
      ]
     },
     "execution_count": 63,
     "metadata": {},
     "output_type": "execute_result"
    }
   ],
   "source": [
    "# Get the html code to embed tweet using the oembed API from twitter.\n",
    "# Then display the tweet as an html object using the embed_tweet class defined earlier.\n",
    "\n",
    "dog0_index = df.loc[df.rating_numerator == 0].index.values[0]\n",
    "dog0_tweet = requests.get(\"https://api.twitter.com/1.1/statuses/oembed.json?id=\" + str(dog0_index)).json()[\"html\"]\n",
    "embed_tweet(dog0_tweet)"
   ]
  },
  {
   "cell_type": "markdown",
   "metadata": {},
   "source": [
    "Looks like the tweet is about plagiarism, and no dogs have been given a rating \n",
    "of 0. <br>\n",
    "Now, which dog has a rating of 165?"
   ]
  },
  {
   "cell_type": "code",
   "execution_count": 64,
   "metadata": {},
   "outputs": [
    {
     "data": {
      "text/html": [
       "<blockquote class=\"twitter-tweet\"><p lang=\"en\" dir=\"ltr\">Why does this never happen at my front door... 165/150 <a href=\"https://t.co/HmwrdfEfUE\">pic.twitter.com/HmwrdfEfUE</a></p>&mdash; WeRateDogs™ (@dog_rates) <a href=\"https://twitter.com/dog_rates/status/758467244762497024?ref_src=twsrc%5Etfw\">July 28, 2016</a></blockquote>\n",
       "<script async src=\"https://platform.twitter.com/widgets.js\" charset=\"utf-8\"></script>\n"
      ],
      "text/plain": [
       "<__main__.embed_tweet at 0x251f5fd5b38>"
      ]
     },
     "execution_count": 64,
     "metadata": {},
     "output_type": "execute_result"
    }
   ],
   "source": [
    "dog165_index = df.loc[df.rating_numerator == 165].index.values[0]\n",
    "dog165_tweet = requests.get(\"https://api.twitter.com/1.1/statuses/oembed.json?id=\" + str(dog165_index)).json()[\"html\"]\n",
    "embed_tweet(dog165_tweet)"
   ]
  },
  {
   "cell_type": "markdown",
   "metadata": {},
   "source": [
    "Looks like it's a bunch of dogs at the ownwer's front door. Truely adorable and \n",
    "worthy of such a high rating!"
   ]
  },
  {
   "cell_type": "markdown",
   "metadata": {},
   "source": [
    "Who is twitter's most favourite dog?\n"
   ]
  },
  {
   "cell_type": "code",
   "execution_count": 65,
   "metadata": {},
   "outputs": [
    {
     "data": {
      "text/html": [
       "<blockquote class=\"twitter-tweet\"><p lang=\"en\" dir=\"ltr\">Here&#39;s a doggo realizing you can stand in a pool. 13/10 enlightened af (vid by Tina Conrad) <a href=\"https://t.co/7wE9LTEXC4\">pic.twitter.com/7wE9LTEXC4</a></p>&mdash; WeRateDogs™ (@dog_rates) <a href=\"https://twitter.com/dog_rates/status/744234799360020481?ref_src=twsrc%5Etfw\">June 18, 2016</a></blockquote>\n",
       "<script async src=\"https://platform.twitter.com/widgets.js\" charset=\"utf-8\"></script>\n"
      ],
      "text/plain": [
       "<__main__.embed_tweet at 0x251f5f94438>"
      ]
     },
     "execution_count": 65,
     "metadata": {},
     "output_type": "execute_result"
    }
   ],
   "source": [
    "dog_favourite_index = df.loc[df.favourite_count == max(df.favourite_count)].index.values[0]\n",
    "dog_favourite_tweet = requests.get(\"https://api.twitter.com/1.1/statuses/oembed.json?id=\" + str(dog_favourite_index)).json()[\"html\"]\n",
    "embed_tweet(dog_favourite_tweet)"
   ]
  },
  {
   "cell_type": "markdown",
   "metadata": {},
   "source": [
    "Did this dog also get the maximum retweets?"
   ]
  },
  {
   "cell_type": "code",
   "execution_count": 66,
   "metadata": {},
   "outputs": [
    {
     "data": {
      "text/plain": [
       "tweet_id\n",
       "744234799360020481    True\n",
       "dtype: bool"
      ]
     },
     "execution_count": 66,
     "metadata": {},
     "output_type": "execute_result"
    }
   ],
   "source": [
    " (df.loc[df.favourite_count == max(df.favourite_count)].dropna(axis=1) == df.loc[df.retweet_count == max(df.retweet_count)].dropna(axis=1)).all(axis=1)"
   ]
  },
  {
   "cell_type": "markdown",
   "metadata": {},
   "source": [
    "He is! What an adorable realisation indeed."
   ]
  },
  {
   "cell_type": "markdown",
   "metadata": {},
   "source": [
    "Let's check some relationships between the data. I'd like to know which breed of dog is favourited the most. To see this, I'll add the `favourite_count` for all breeds. As there are more than 100 breeds in the dataset, I'll only take a look at the top 10 most common breeds. The rest of the breeds will be tagged as `others`."
   ]
  },
  {
   "cell_type": "code",
   "execution_count": 67,
   "metadata": {},
   "outputs": [],
   "source": [
    "# Make new column in dataset to indicate top 10 most common breed.\n",
    "# Then use the new column to get the sum of all other values grouped by the new catagories.\n",
    "\n",
    "df.dog_breed = df.dog_breed.astype(\"category\")\n",
    "breed_top10 = df.dog_breed.value_counts().nlargest(10).index.tolist()\n",
    "df[\"breed_top10\"] = np.where(df.dog_breed.isin(breed_top10), df.dog_breed, \"other\")\n",
    "df.breed_top10 = df.breed_top10.astype(\"category\")\n",
    "\n",
    "x = df.groupby(\"breed_top10\").sum()  # `x` holds the \"sum\" dataset.\n",
    "x.index.name = \"Breeds\""
   ]
  },
  {
   "cell_type": "code",
   "execution_count": 70,
   "metadata": {},
   "outputs": [
    {
     "data": {
      "text/plain": [
       "<matplotlib.axes._subplots.AxesSubplot at 0x251f742b320>"
      ]
     },
     "execution_count": 70,
     "metadata": {},
     "output_type": "execute_result"
    },
    {
     "data": {
      "image/png": "[encoded data removed]",
      "text/plain": [
       "<Figure size 864x360 with 1 Axes>"
      ]
     },
     "metadata": {},
     "output_type": "display_data"
    }
   ],
   "source": [
    "# Plot \"sum of favourite_count\" by \"dog_breed\". Sort the data to make the plot more readable.\n",
    "# Dropped \"other\" category as the value will be large and skew the plot.\n",
    "\n",
    "x.sort_values(by=[\"favourite_count\"], inplace=True)\n",
    "plt.xlabel(\"Total favourites\")\n",
    "x.drop(\"other\")[\"favourite_count\"].plot(kind=\"barh\", color='#3A82F4', fontsize=13,\n",
    "                          title=\"Top favourite breeds.\",\n",
    "                          figsize=(12,5))"
   ]
  },
  {
   "cell_type": "markdown",
   "metadata": {},
   "source": [
    "It looks like Twitter likes Golden Retrievers the most with about 2,000,000 favourites, followed by Labrador Retrievers at around 1,500,000 favourites.\n",
    "\n",
    "Finally, let me look at the top rated dogs."
   ]
  },
  {
   "cell_type": "code",
   "execution_count": 69,
   "metadata": {},
   "outputs": [
    {
     "data": {
      "text/plain": [
       "<matplotlib.axes._subplots.AxesSubplot at 0x251f74354e0>"
      ]
     },
     "execution_count": 69,
     "metadata": {},
     "output_type": "execute_result"
    },
    {
     "data": {
      "image/png": "[encoded data removed]",
      "text/plain": [
       "<Figure size 864x360 with 1 Axes>"
      ]
     },
     "metadata": {},
     "output_type": "display_data"
    }
   ],
   "source": [
    "# Plot \"sum of rating_numerator\" vs \"dog_breed\".\n",
    "\n",
    "x.sort_values(by=[\"rating_numerator\"], inplace=True)\n",
    "plt.xlabel(\"Total Ratings\")\n",
    "x.drop(\"other\")[\"rating_numerator\"].plot(kind=\"barh\", color='#3A82F4', fontsize=13,\n",
    "                          title=\"Top rated breeds.\",\n",
    "                          figsize=(12,5))"
   ]
  },
  {
   "cell_type": "markdown",
   "metadata": {},
   "source": [
    "I guess it's not a surprise that the most favourited dogs will also be the top rated dogs."
   ]
  },
  {
   "cell_type": "markdown",
   "metadata": {},
   "source": [
    "This concludes my report on wrangling and analysing @WeRateDogs twitter archive data."
   ]
  },
  {
   "cell_type": "markdown",
   "metadata": {},
   "source": [
    "##### References:\n",
    "\n",
    "    https://stackoverflow.com/questions/36921951/truth-value-of-a-series-is-ambiguous-use-a-empty-a-bool-a-item-a-any-o\n",
    "    https://docs.python.org/2/library/json.html\n",
    "    https://developer.twitter.com/en/docs/tweets/post-and-engage/api-reference/get-statuses-oembed.html\n",
    "    https://pandas.pydata.org/pandas-docs/stable/generated/pandas.DataFrame.plot.html  \n",
    "    "
   ]
  }
 ],
 "metadata": {
  "kernelspec": {
   "display_name": "Python 3",
   "language": "python",
   "name": "python3"
  },
  "language_info": {
   "codemirror_mode": {
    "name": "ipython",
    "version": 3
   },
   "file_extension": ".py",
   "mimetype": "text/x-python",
   "name": "python",
   "nbconvert_exporter": "python",
   "pygments_lexer": "ipython3",
   "version": "3.6.5"
  }
 },
 "nbformat": 4,
 "nbformat_minor": 2
}
