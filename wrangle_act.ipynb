{
 "cells": [
  {
   "cell_type": "markdown",
   "metadata": {},
   "source": [
    "<center><h1> Wrangling and Analyzing @WeRateDogs Twitter Archive"
   ]
  },
  {
   "cell_type": "markdown",
   "metadata": {},
   "source": [
    "<div style=\"text-align: right\">\n",
    "    Parth Thakur<br>\n",
    "    11/09/2018<br>\n",
    "    <a href=https://github.com/ParthThakur/Wrangling-and-Analyzing-WeRateDogs-twitter-archive>Github</a>\n",
    "    <a href=https://www.linkedin.com/in/parth-thakur>LinkedIn</a>\n",
    "</div>"
   ]
  },
  {
   "cell_type": "markdown",
   "metadata": {},
   "source": [
    "In this workbook, I will gather data on `@WeRateDogs` tweets and clean this data to perform some analysis. <br>\n",
    "\n",
    "`@WeRateDogs` is a twitter account that rates dog pictures and videos. I have the archive data for this account, but it comes with various tidyness and Quality issues. The archive is also missing some crucial features. The goal of this project is to identify as many issues as possible and rectify the. "
   ]
  },
  {
   "cell_type": "code",
   "execution_count": 1,
   "metadata": {},
   "outputs": [],
   "source": [
    "# Import required libraries.\n",
    "\n",
    "import numpy as np\n",
    "import tweepy\n",
    "import pandas as pd\n",
    "import requests\n",
    "import json\n",
    "import re\n",
    "import ast\n",
    "import matplotlib.pyplot as plt\n",
    "\n",
    "# Set font size at 15 for all plots.\n",
    "plt.rcParams['font.size'] = 15 \n",
    "\n",
    "# Show matplotlib plots in workbook.\n",
    "%matplotlib inline"
   ]
  },
  {
   "cell_type": "code",
   "execution_count": 2,
   "metadata": {},
   "outputs": [],
   "source": [
    "# Setup twitter API\n",
    "\n",
    "with open('../API keys.json') as fo:\n",
    "    d = fo.read()\n",
    "    tw_keys = ast.literal_eval(d)['Twitter']\n",
    "\n",
    "auth = tweepy.OAuthHandler(tw_keys['consumer_key'], tw_keys['consumer_secret'])\n",
    "auth.set_access_token(tw_keys['access_token'], tw_keys['access_token_secret'])\n",
    "\n",
    "api = tweepy.API(auth,\n",
    "                wait_on_rate_limit=True,\n",
    "                wait_on_rate_limit_notify=True)"
   ]
  },
  {
   "cell_type": "code",
   "execution_count": 3,
   "metadata": {},
   "outputs": [],
   "source": [
    "# Function to load additional tweet data using twitter API.\n",
    "\n",
    "def get_tweet_data():\n",
    "    failed_tweets = {}\n",
    "    print(\"Querying Twitter API.\")\n",
    "    with open(\"datasets/tweet_json.txt\", \"w\") as fw:        \n",
    "        for tweet in tw_archive.tweet_id:\n",
    "            try:\n",
    "                twee = api.get_status(tweet, tweet_mode='extended')\n",
    "            except tweepy.TweepError as e:\n",
    "                print(tweet, \"failed to load.\")\n",
    "                failed_tweets[tweet] = repr(e)\n",
    "                continue\n",
    "            fw.write(json.dumps(twee._json))\n",
    "            fw.write('\\n')\n",
    "\n",
    "    return failed_tweets\n",
    "            \n",
    "\n",
    "# Function to read tweet_json.txt.\n",
    "\n",
    "def read_tweet_json():\n",
    "    tweet_info = []\n",
    "    print(\"Trying to open tweet_json.txt\")\n",
    "    with open(\"datasets/tweet_json.txt\", \"r\") as fr:\n",
    "        print(\"File found.\")\n",
    "        for tweet in fr:\n",
    "            twee = json.loads(tweet)\n",
    "            retweet_count = twee[\"retweet_count\"]\n",
    "            favourite_count = twee[\"favorite_count\"]\n",
    "            if twee[\"full_text\"][:4] == \"RT @\":\n",
    "                tweet_type = \"retweet\"\n",
    "            elif twee[\"full_text\"][0] == \"@\":\n",
    "                tweet_type = \"reply\"\n",
    "            else:\n",
    "                tweet_type = \"original\"\n",
    "            tweet_info.append({\"tweet_id\": str(twee[\"id\"]),\n",
    "                              \"retweet_count\": int(retweet_count),\n",
    "                              \"favourite_count\": int(favourite_count),\n",
    "                              \"tweet_type\": tweet_type})\n",
    "    tweet_info = pd.DataFrame(tweet_info, columns=[\"tweet_id\", \"retweet_count\", \"favourite_count\", \"tweet_type\"])\n",
    "    \n",
    "    return tweet_info"
   ]
  },
  {
   "cell_type": "code",
   "execution_count": 4,
   "metadata": {},
   "outputs": [],
   "source": [
    "# Class to embed tweets in the notebook.\n",
    "\n",
    "class embed_tweet(object):\n",
    "    def __init__(self, embed_code=None):\n",
    "        self.embed_code = embed_code\n",
    "\n",
    "    def _repr_html_(self):\n",
    "        return self.embed_code"
   ]
  },
  {
   "cell_type": "markdown",
   "metadata": {},
   "source": [
    "# Gather\n",
    "\n",
    "Gathering all the required data programitacally. "
   ]
  },
  {
   "cell_type": "code",
   "execution_count": 5,
   "metadata": {},
   "outputs": [],
   "source": [
    "# Load the twitter archive data for @WeRateDogs.\n",
    "\n",
    "tw_archive = pd.read_csv(\"datasets/raw/twitter-archive-enhanced.csv\") "
   ]
  },
  {
   "cell_type": "code",
   "execution_count": 6,
   "metadata": {},
   "outputs": [],
   "source": [
    "# Get \"image_predictions.tsv\" from Udacity's servers and load the data in a DataFrame\n",
    "\n",
    "URL_predict = \"https://d17h27t6h515a5.cloudfront.net/topher/2017/August/599fd2ad_image-predictions/image-predictions.tsv\"\n",
    "im_get = requests.get(URL_predict)\n",
    "with open(\"datasets/raw/image_predictions.tsv\", \"wb\") as fw:\n",
    "    fw.write(im_get.content)    "
   ]
  },
  {
   "cell_type": "code",
   "execution_count": 7,
   "metadata": {},
   "outputs": [],
   "source": [
    "# Load image prediction Data from image_predictions.tsv\n",
    "\n",
    "im_predict = pd.read_csv(\"datasets/raw/image_predictions.tsv\", delimiter=\"\\t\")"
   ]
  },
  {
   "cell_type": "code",
   "execution_count": 8,
   "metadata": {},
   "outputs": [
    {
     "name": "stdout",
     "output_type": "stream",
     "text": [
      "Trying to open tweet_json.txt\n",
      "File found.\n"
     ]
    }
   ],
   "source": [
    "# Load additional tweet data from \"tweet_json.txt\".\n",
    "try:\n",
    "    tweet_info = read_tweet_json()\n",
    "except FileNotFoundError:\n",
    "    print(\"tweet_json.txt was not found.\")\n",
    "    failed_tweets = get_tweet_data()\n",
    "    tweet_info = read_tweet_json()\n",
    "    with open (\"failed_tweets.json\", \"w\") as fw:\n",
    "        json.dump(failed_tweets, fw)"
   ]
  },
  {
   "cell_type": "markdown",
   "metadata": {},
   "source": [
    "\n",
    "# Assess\n",
    "Assessing the gathered data for quality, and tidyness issues."
   ]
  },
  {
   "cell_type": "markdown",
   "metadata": {},
   "source": [
    "I have three dasets loaded into pandas dataframes.\n",
    " - tw_archive which contains archive data for WeRateDogs twitter account.\n",
    " - im_predict which contains data on predicted dog species in the tweet.\n",
    " - tweet_info which contains additional data on the tweets."
   ]
  },
  {
   "cell_type": "code",
   "execution_count": 9,
   "metadata": {},
   "outputs": [
    {
     "name": "stdout",
     "output_type": "stream",
     "text": [
      "<class 'pandas.core.frame.DataFrame'>\n",
      "RangeIndex: 2356 entries, 0 to 2355\n",
      "Data columns (total 17 columns):\n",
      "tweet_id                      2356 non-null int64\n",
      "in_reply_to_status_id         78 non-null float64\n",
      "in_reply_to_user_id           78 non-null float64\n",
      "timestamp                     2356 non-null object\n",
      "source                        2356 non-null object\n",
      "text                          2356 non-null object\n",
      "retweeted_status_id           181 non-null float64\n",
      "retweeted_status_user_id      181 non-null float64\n",
      "retweeted_status_timestamp    181 non-null object\n",
      "expanded_urls                 2297 non-null object\n",
      "rating_numerator              2356 non-null int64\n",
      "rating_denominator            2356 non-null int64\n",
      "name                          2356 non-null object\n",
      "doggo                         2356 non-null object\n",
      "floofer                       2356 non-null object\n",
      "pupper                        2356 non-null object\n",
      "puppo                         2356 non-null object\n",
      "dtypes: float64(4), int64(3), object(10)\n",
      "memory usage: 313.0+ KB\n"
     ]
    }
   ],
   "source": [
    "tw_archive.info()"
   ]
  },
  {
   "cell_type": "code",
   "execution_count": 10,
   "metadata": {},
   "outputs": [
    {
     "name": "stdout",
     "output_type": "stream",
     "text": [
      "<class 'pandas.core.frame.DataFrame'>\n",
      "RangeIndex: 2075 entries, 0 to 2074\n",
      "Data columns (total 12 columns):\n",
      "tweet_id    2075 non-null int64\n",
      "jpg_url     2075 non-null object\n",
      "img_num     2075 non-null int64\n",
      "p1          2075 non-null object\n",
      "p1_conf     2075 non-null float64\n",
      "p1_dog      2075 non-null bool\n",
      "p2          2075 non-null object\n",
      "p2_conf     2075 non-null float64\n",
      "p2_dog      2075 non-null bool\n",
      "p3          2075 non-null object\n",
      "p3_conf     2075 non-null float64\n",
      "p3_dog      2075 non-null bool\n",
      "dtypes: bool(3), float64(3), int64(2), object(4)\n",
      "memory usage: 152.1+ KB\n"
     ]
    }
   ],
   "source": [
    "im_predict.info()"
   ]
  },
  {
   "cell_type": "code",
   "execution_count": 11,
   "metadata": {},
   "outputs": [
    {
     "data": {
      "text/html": [
       "<div>\n",
       "<style scoped>\n",
       "    .dataframe tbody tr th:only-of-type {\n",
       "        vertical-align: middle;\n",
       "    }\n",
       "\n",
       "    .dataframe tbody tr th {\n",
       "        vertical-align: top;\n",
       "    }\n",
       "\n",
       "    .dataframe thead th {\n",
       "        text-align: right;\n",
       "    }\n",
       "</style>\n",
       "<table border=\"1\" class=\"dataframe\">\n",
       "  <thead>\n",
       "    <tr style=\"text-align: right;\">\n",
       "      <th></th>\n",
       "      <th>tweet_id</th>\n",
       "      <th>in_reply_to_status_id</th>\n",
       "      <th>in_reply_to_user_id</th>\n",
       "      <th>timestamp</th>\n",
       "      <th>source</th>\n",
       "      <th>text</th>\n",
       "      <th>retweeted_status_id</th>\n",
       "      <th>retweeted_status_user_id</th>\n",
       "      <th>retweeted_status_timestamp</th>\n",
       "      <th>expanded_urls</th>\n",
       "      <th>rating_numerator</th>\n",
       "      <th>rating_denominator</th>\n",
       "      <th>name</th>\n",
       "      <th>doggo</th>\n",
       "      <th>floofer</th>\n",
       "      <th>pupper</th>\n",
       "      <th>puppo</th>\n",
       "    </tr>\n",
       "  </thead>\n",
       "  <tbody>\n",
       "    <tr>\n",
       "      <th>576</th>\n",
       "      <td>800859414831898624</td>\n",
       "      <td>8.008580e+17</td>\n",
       "      <td>291859009.0</td>\n",
       "      <td>2016-11-22 00:32:18 +0000</td>\n",
       "      <td>&lt;a href=\"http://twitter.com/download/iphone\" r...</td>\n",
       "      <td>@SkyWilliams doggo simply protecting you from ...</td>\n",
       "      <td>NaN</td>\n",
       "      <td>NaN</td>\n",
       "      <td>NaN</td>\n",
       "      <td>NaN</td>\n",
       "      <td>11</td>\n",
       "      <td>10</td>\n",
       "      <td>None</td>\n",
       "      <td>doggo</td>\n",
       "      <td>None</td>\n",
       "      <td>None</td>\n",
       "      <td>None</td>\n",
       "    </tr>\n",
       "    <tr>\n",
       "      <th>2097</th>\n",
       "      <td>670733412878163972</td>\n",
       "      <td>NaN</td>\n",
       "      <td>NaN</td>\n",
       "      <td>2015-11-28 22:38:01 +0000</td>\n",
       "      <td>&lt;a href=\"http://twitter.com/download/iphone\" r...</td>\n",
       "      <td>This is Jerry. He's a great listener. Low main...</td>\n",
       "      <td>NaN</td>\n",
       "      <td>NaN</td>\n",
       "      <td>NaN</td>\n",
       "      <td>https://twitter.com/dog_rates/status/670733412...</td>\n",
       "      <td>8</td>\n",
       "      <td>10</td>\n",
       "      <td>Jerry</td>\n",
       "      <td>None</td>\n",
       "      <td>None</td>\n",
       "      <td>None</td>\n",
       "      <td>None</td>\n",
       "    </tr>\n",
       "    <tr>\n",
       "      <th>1155</th>\n",
       "      <td>724983749226668032</td>\n",
       "      <td>NaN</td>\n",
       "      <td>NaN</td>\n",
       "      <td>2016-04-26 15:29:30 +0000</td>\n",
       "      <td>&lt;a href=\"http://twitter.com/download/iphone\" r...</td>\n",
       "      <td>This is Fred-Rick. He dabbles in parkour. The ...</td>\n",
       "      <td>NaN</td>\n",
       "      <td>NaN</td>\n",
       "      <td>NaN</td>\n",
       "      <td>https://twitter.com/dog_rates/status/724983749...</td>\n",
       "      <td>12</td>\n",
       "      <td>10</td>\n",
       "      <td>Fred</td>\n",
       "      <td>None</td>\n",
       "      <td>None</td>\n",
       "      <td>None</td>\n",
       "      <td>None</td>\n",
       "    </tr>\n",
       "    <tr>\n",
       "      <th>575</th>\n",
       "      <td>801115127852503040</td>\n",
       "      <td>NaN</td>\n",
       "      <td>NaN</td>\n",
       "      <td>2016-11-22 17:28:25 +0000</td>\n",
       "      <td>&lt;a href=\"http://twitter.com/download/iphone\" r...</td>\n",
       "      <td>This is Bones. He's being haunted by another d...</td>\n",
       "      <td>NaN</td>\n",
       "      <td>NaN</td>\n",
       "      <td>NaN</td>\n",
       "      <td>https://twitter.com/dog_rates/status/801115127...</td>\n",
       "      <td>12</td>\n",
       "      <td>10</td>\n",
       "      <td>Bones</td>\n",
       "      <td>doggo</td>\n",
       "      <td>None</td>\n",
       "      <td>pupper</td>\n",
       "      <td>None</td>\n",
       "    </tr>\n",
       "    <tr>\n",
       "      <th>1636</th>\n",
       "      <td>684200372118904832</td>\n",
       "      <td>NaN</td>\n",
       "      <td>NaN</td>\n",
       "      <td>2016-01-05 02:30:55 +0000</td>\n",
       "      <td>&lt;a href=\"http://twitter.com/download/iphone\" r...</td>\n",
       "      <td>Gang of fearless hoofed puppers here. Straight...</td>\n",
       "      <td>NaN</td>\n",
       "      <td>NaN</td>\n",
       "      <td>NaN</td>\n",
       "      <td>https://twitter.com/dog_rates/status/684200372...</td>\n",
       "      <td>6</td>\n",
       "      <td>10</td>\n",
       "      <td>None</td>\n",
       "      <td>None</td>\n",
       "      <td>None</td>\n",
       "      <td>None</td>\n",
       "      <td>None</td>\n",
       "    </tr>\n",
       "    <tr>\n",
       "      <th>919</th>\n",
       "      <td>756526248105566208</td>\n",
       "      <td>NaN</td>\n",
       "      <td>NaN</td>\n",
       "      <td>2016-07-22 16:28:07 +0000</td>\n",
       "      <td>&lt;a href=\"http://twitter.com/download/iphone\" r...</td>\n",
       "      <td>All hail sky doggo. 13/10 would jump super hig...</td>\n",
       "      <td>NaN</td>\n",
       "      <td>NaN</td>\n",
       "      <td>NaN</td>\n",
       "      <td>https://twitter.com/dog_rates/status/756526248...</td>\n",
       "      <td>13</td>\n",
       "      <td>10</td>\n",
       "      <td>None</td>\n",
       "      <td>doggo</td>\n",
       "      <td>None</td>\n",
       "      <td>None</td>\n",
       "      <td>None</td>\n",
       "    </tr>\n",
       "    <tr>\n",
       "      <th>490</th>\n",
       "      <td>813812741911748608</td>\n",
       "      <td>NaN</td>\n",
       "      <td>NaN</td>\n",
       "      <td>2016-12-27 18:24:12 +0000</td>\n",
       "      <td>&lt;a href=\"http://twitter.com/download/iphone\" r...</td>\n",
       "      <td>Meet Gary, Carrie Fisher's dog. Idk what I can...</td>\n",
       "      <td>NaN</td>\n",
       "      <td>NaN</td>\n",
       "      <td>NaN</td>\n",
       "      <td>https://twitter.com/dog_rates/status/813812741...</td>\n",
       "      <td>14</td>\n",
       "      <td>10</td>\n",
       "      <td>Gary</td>\n",
       "      <td>None</td>\n",
       "      <td>None</td>\n",
       "      <td>None</td>\n",
       "      <td>None</td>\n",
       "    </tr>\n",
       "    <tr>\n",
       "      <th>643</th>\n",
       "      <td>793195938047070209</td>\n",
       "      <td>NaN</td>\n",
       "      <td>NaN</td>\n",
       "      <td>2016-10-31 21:00:23 +0000</td>\n",
       "      <td>&lt;a href=\"http://twitter.com/download/iphone\" r...</td>\n",
       "      <td>Say hello to Lily. She's pupset that her costu...</td>\n",
       "      <td>NaN</td>\n",
       "      <td>NaN</td>\n",
       "      <td>NaN</td>\n",
       "      <td>https://twitter.com/dog_rates/status/793195938...</td>\n",
       "      <td>12</td>\n",
       "      <td>10</td>\n",
       "      <td>Lily</td>\n",
       "      <td>None</td>\n",
       "      <td>None</td>\n",
       "      <td>None</td>\n",
       "      <td>puppo</td>\n",
       "    </tr>\n",
       "    <tr>\n",
       "      <th>1902</th>\n",
       "      <td>674644256330530816</td>\n",
       "      <td>NaN</td>\n",
       "      <td>NaN</td>\n",
       "      <td>2015-12-09 17:38:19 +0000</td>\n",
       "      <td>&lt;a href=\"http://twitter.com/download/iphone\" r...</td>\n",
       "      <td>When you see sophomores in high school driving...</td>\n",
       "      <td>NaN</td>\n",
       "      <td>NaN</td>\n",
       "      <td>NaN</td>\n",
       "      <td>https://twitter.com/dog_rates/status/674644256...</td>\n",
       "      <td>11</td>\n",
       "      <td>10</td>\n",
       "      <td>None</td>\n",
       "      <td>None</td>\n",
       "      <td>None</td>\n",
       "      <td>None</td>\n",
       "      <td>None</td>\n",
       "    </tr>\n",
       "    <tr>\n",
       "      <th>592</th>\n",
       "      <td>798933969379225600</td>\n",
       "      <td>NaN</td>\n",
       "      <td>NaN</td>\n",
       "      <td>2016-11-16 17:01:16 +0000</td>\n",
       "      <td>&lt;a href=\"http://twitter.com/download/iphone\" r...</td>\n",
       "      <td>This is Iroh. He's in a predicament. 12/10 som...</td>\n",
       "      <td>NaN</td>\n",
       "      <td>NaN</td>\n",
       "      <td>NaN</td>\n",
       "      <td>https://twitter.com/dog_rates/status/798933969...</td>\n",
       "      <td>12</td>\n",
       "      <td>10</td>\n",
       "      <td>Iroh</td>\n",
       "      <td>None</td>\n",
       "      <td>None</td>\n",
       "      <td>None</td>\n",
       "      <td>None</td>\n",
       "    </tr>\n",
       "    <tr>\n",
       "      <th>382</th>\n",
       "      <td>827228250799742977</td>\n",
       "      <td>NaN</td>\n",
       "      <td>NaN</td>\n",
       "      <td>2017-02-02 18:52:38 +0000</td>\n",
       "      <td>&lt;a href=\"http://twitter.com/download/iphone\" r...</td>\n",
       "      <td>RT @dog_rates: This is Phil. He's an important...</td>\n",
       "      <td>6.946697e+17</td>\n",
       "      <td>4.196984e+09</td>\n",
       "      <td>2016-02-02 23:52:22 +0000</td>\n",
       "      <td>https://twitter.com/dog_rates/status/694669722...</td>\n",
       "      <td>12</td>\n",
       "      <td>10</td>\n",
       "      <td>Phil</td>\n",
       "      <td>None</td>\n",
       "      <td>None</td>\n",
       "      <td>None</td>\n",
       "      <td>None</td>\n",
       "    </tr>\n",
       "    <tr>\n",
       "      <th>617</th>\n",
       "      <td>796387464403357696</td>\n",
       "      <td>NaN</td>\n",
       "      <td>NaN</td>\n",
       "      <td>2016-11-09 16:22:22 +0000</td>\n",
       "      <td>&lt;a href=\"http://twitter.com/download/iphone\" r...</td>\n",
       "      <td>This is Snicku. He's having trouble reading be...</td>\n",
       "      <td>NaN</td>\n",
       "      <td>NaN</td>\n",
       "      <td>NaN</td>\n",
       "      <td>https://twitter.com/dog_rates/status/796387464...</td>\n",
       "      <td>12</td>\n",
       "      <td>10</td>\n",
       "      <td>Snicku</td>\n",
       "      <td>None</td>\n",
       "      <td>None</td>\n",
       "      <td>None</td>\n",
       "      <td>None</td>\n",
       "    </tr>\n",
       "    <tr>\n",
       "      <th>1683</th>\n",
       "      <td>681694085539872773</td>\n",
       "      <td>NaN</td>\n",
       "      <td>NaN</td>\n",
       "      <td>2015-12-29 04:31:49 +0000</td>\n",
       "      <td>&lt;a href=\"http://twitter.com/download/iphone\" r...</td>\n",
       "      <td>This is Bo. He's a Benedoop Cumbersnatch. Seem...</td>\n",
       "      <td>NaN</td>\n",
       "      <td>NaN</td>\n",
       "      <td>NaN</td>\n",
       "      <td>https://twitter.com/dog_rates/status/681694085...</td>\n",
       "      <td>11</td>\n",
       "      <td>10</td>\n",
       "      <td>Bo</td>\n",
       "      <td>None</td>\n",
       "      <td>None</td>\n",
       "      <td>pupper</td>\n",
       "      <td>None</td>\n",
       "    </tr>\n",
       "    <tr>\n",
       "      <th>2311</th>\n",
       "      <td>666781792255496192</td>\n",
       "      <td>NaN</td>\n",
       "      <td>NaN</td>\n",
       "      <td>2015-11-18 00:55:42 +0000</td>\n",
       "      <td>&lt;a href=\"http://twitter.com/download/iphone\" r...</td>\n",
       "      <td>This is a purebred Bacardi named Octaviath. Ca...</td>\n",
       "      <td>NaN</td>\n",
       "      <td>NaN</td>\n",
       "      <td>NaN</td>\n",
       "      <td>https://twitter.com/dog_rates/status/666781792...</td>\n",
       "      <td>10</td>\n",
       "      <td>10</td>\n",
       "      <td>a</td>\n",
       "      <td>None</td>\n",
       "      <td>None</td>\n",
       "      <td>None</td>\n",
       "      <td>None</td>\n",
       "    </tr>\n",
       "    <tr>\n",
       "      <th>984</th>\n",
       "      <td>749317047558017024</td>\n",
       "      <td>NaN</td>\n",
       "      <td>NaN</td>\n",
       "      <td>2016-07-02 19:01:20 +0000</td>\n",
       "      <td>&lt;a href=\"http://twitter.com/download/iphone\" r...</td>\n",
       "      <td>This is Blu. He's a wild bush Floofer. I wish ...</td>\n",
       "      <td>NaN</td>\n",
       "      <td>NaN</td>\n",
       "      <td>NaN</td>\n",
       "      <td>https://twitter.com/dog_rates/status/749317047...</td>\n",
       "      <td>12</td>\n",
       "      <td>10</td>\n",
       "      <td>Blu</td>\n",
       "      <td>None</td>\n",
       "      <td>floofer</td>\n",
       "      <td>None</td>\n",
       "      <td>None</td>\n",
       "    </tr>\n",
       "  </tbody>\n",
       "</table>\n",
       "</div>"
      ],
      "text/plain": [
       "                tweet_id  in_reply_to_status_id  in_reply_to_user_id  \\\n",
       "576   800859414831898624           8.008580e+17          291859009.0   \n",
       "2097  670733412878163972                    NaN                  NaN   \n",
       "1155  724983749226668032                    NaN                  NaN   \n",
       "575   801115127852503040                    NaN                  NaN   \n",
       "1636  684200372118904832                    NaN                  NaN   \n",
       "919   756526248105566208                    NaN                  NaN   \n",
       "490   813812741911748608                    NaN                  NaN   \n",
       "643   793195938047070209                    NaN                  NaN   \n",
       "1902  674644256330530816                    NaN                  NaN   \n",
       "592   798933969379225600                    NaN                  NaN   \n",
       "382   827228250799742977                    NaN                  NaN   \n",
       "617   796387464403357696                    NaN                  NaN   \n",
       "1683  681694085539872773                    NaN                  NaN   \n",
       "2311  666781792255496192                    NaN                  NaN   \n",
       "984   749317047558017024                    NaN                  NaN   \n",
       "\n",
       "                      timestamp  \\\n",
       "576   2016-11-22 00:32:18 +0000   \n",
       "2097  2015-11-28 22:38:01 +0000   \n",
       "1155  2016-04-26 15:29:30 +0000   \n",
       "575   2016-11-22 17:28:25 +0000   \n",
       "1636  2016-01-05 02:30:55 +0000   \n",
       "919   2016-07-22 16:28:07 +0000   \n",
       "490   2016-12-27 18:24:12 +0000   \n",
       "643   2016-10-31 21:00:23 +0000   \n",
       "1902  2015-12-09 17:38:19 +0000   \n",
       "592   2016-11-16 17:01:16 +0000   \n",
       "382   2017-02-02 18:52:38 +0000   \n",
       "617   2016-11-09 16:22:22 +0000   \n",
       "1683  2015-12-29 04:31:49 +0000   \n",
       "2311  2015-11-18 00:55:42 +0000   \n",
       "984   2016-07-02 19:01:20 +0000   \n",
       "\n",
       "                                                 source  \\\n",
       "576   <a href=\"http://twitter.com/download/iphone\" r...   \n",
       "2097  <a href=\"http://twitter.com/download/iphone\" r...   \n",
       "1155  <a href=\"http://twitter.com/download/iphone\" r...   \n",
       "575   <a href=\"http://twitter.com/download/iphone\" r...   \n",
       "1636  <a href=\"http://twitter.com/download/iphone\" r...   \n",
       "919   <a href=\"http://twitter.com/download/iphone\" r...   \n",
       "490   <a href=\"http://twitter.com/download/iphone\" r...   \n",
       "643   <a href=\"http://twitter.com/download/iphone\" r...   \n",
       "1902  <a href=\"http://twitter.com/download/iphone\" r...   \n",
       "592   <a href=\"http://twitter.com/download/iphone\" r...   \n",
       "382   <a href=\"http://twitter.com/download/iphone\" r...   \n",
       "617   <a href=\"http://twitter.com/download/iphone\" r...   \n",
       "1683  <a href=\"http://twitter.com/download/iphone\" r...   \n",
       "2311  <a href=\"http://twitter.com/download/iphone\" r...   \n",
       "984   <a href=\"http://twitter.com/download/iphone\" r...   \n",
       "\n",
       "                                                   text  retweeted_status_id  \\\n",
       "576   @SkyWilliams doggo simply protecting you from ...                  NaN   \n",
       "2097  This is Jerry. He's a great listener. Low main...                  NaN   \n",
       "1155  This is Fred-Rick. He dabbles in parkour. The ...                  NaN   \n",
       "575   This is Bones. He's being haunted by another d...                  NaN   \n",
       "1636  Gang of fearless hoofed puppers here. Straight...                  NaN   \n",
       "919   All hail sky doggo. 13/10 would jump super hig...                  NaN   \n",
       "490   Meet Gary, Carrie Fisher's dog. Idk what I can...                  NaN   \n",
       "643   Say hello to Lily. She's pupset that her costu...                  NaN   \n",
       "1902  When you see sophomores in high school driving...                  NaN   \n",
       "592   This is Iroh. He's in a predicament. 12/10 som...                  NaN   \n",
       "382   RT @dog_rates: This is Phil. He's an important...         6.946697e+17   \n",
       "617   This is Snicku. He's having trouble reading be...                  NaN   \n",
       "1683  This is Bo. He's a Benedoop Cumbersnatch. Seem...                  NaN   \n",
       "2311  This is a purebred Bacardi named Octaviath. Ca...                  NaN   \n",
       "984   This is Blu. He's a wild bush Floofer. I wish ...                  NaN   \n",
       "\n",
       "      retweeted_status_user_id retweeted_status_timestamp  \\\n",
       "576                        NaN                        NaN   \n",
       "2097                       NaN                        NaN   \n",
       "1155                       NaN                        NaN   \n",
       "575                        NaN                        NaN   \n",
       "1636                       NaN                        NaN   \n",
       "919                        NaN                        NaN   \n",
       "490                        NaN                        NaN   \n",
       "643                        NaN                        NaN   \n",
       "1902                       NaN                        NaN   \n",
       "592                        NaN                        NaN   \n",
       "382               4.196984e+09  2016-02-02 23:52:22 +0000   \n",
       "617                        NaN                        NaN   \n",
       "1683                       NaN                        NaN   \n",
       "2311                       NaN                        NaN   \n",
       "984                        NaN                        NaN   \n",
       "\n",
       "                                          expanded_urls  rating_numerator  \\\n",
       "576                                                 NaN                11   \n",
       "2097  https://twitter.com/dog_rates/status/670733412...                 8   \n",
       "1155  https://twitter.com/dog_rates/status/724983749...                12   \n",
       "575   https://twitter.com/dog_rates/status/801115127...                12   \n",
       "1636  https://twitter.com/dog_rates/status/684200372...                 6   \n",
       "919   https://twitter.com/dog_rates/status/756526248...                13   \n",
       "490   https://twitter.com/dog_rates/status/813812741...                14   \n",
       "643   https://twitter.com/dog_rates/status/793195938...                12   \n",
       "1902  https://twitter.com/dog_rates/status/674644256...                11   \n",
       "592   https://twitter.com/dog_rates/status/798933969...                12   \n",
       "382   https://twitter.com/dog_rates/status/694669722...                12   \n",
       "617   https://twitter.com/dog_rates/status/796387464...                12   \n",
       "1683  https://twitter.com/dog_rates/status/681694085...                11   \n",
       "2311  https://twitter.com/dog_rates/status/666781792...                10   \n",
       "984   https://twitter.com/dog_rates/status/749317047...                12   \n",
       "\n",
       "      rating_denominator    name  doggo  floofer  pupper  puppo  \n",
       "576                   10    None  doggo     None    None   None  \n",
       "2097                  10   Jerry   None     None    None   None  \n",
       "1155                  10    Fred   None     None    None   None  \n",
       "575                   10   Bones  doggo     None  pupper   None  \n",
       "1636                  10    None   None     None    None   None  \n",
       "919                   10    None  doggo     None    None   None  \n",
       "490                   10    Gary   None     None    None   None  \n",
       "643                   10    Lily   None     None    None  puppo  \n",
       "1902                  10    None   None     None    None   None  \n",
       "592                   10    Iroh   None     None    None   None  \n",
       "382                   10    Phil   None     None    None   None  \n",
       "617                   10  Snicku   None     None    None   None  \n",
       "1683                  10      Bo   None     None  pupper   None  \n",
       "2311                  10       a   None     None    None   None  \n",
       "984                   10     Blu   None  floofer    None   None  "
      ]
     },
     "execution_count": 11,
     "metadata": {},
     "output_type": "execute_result"
    }
   ],
   "source": [
    "tw_archive.sample(15)"
   ]
  },
  {
   "cell_type": "code",
   "execution_count": 12,
   "metadata": {},
   "outputs": [
    {
     "data": {
      "text/html": [
       "<div>\n",
       "<style scoped>\n",
       "    .dataframe tbody tr th:only-of-type {\n",
       "        vertical-align: middle;\n",
       "    }\n",
       "\n",
       "    .dataframe tbody tr th {\n",
       "        vertical-align: top;\n",
       "    }\n",
       "\n",
       "    .dataframe thead th {\n",
       "        text-align: right;\n",
       "    }\n",
       "</style>\n",
       "<table border=\"1\" class=\"dataframe\">\n",
       "  <thead>\n",
       "    <tr style=\"text-align: right;\">\n",
       "      <th></th>\n",
       "      <th>tweet_id</th>\n",
       "      <th>jpg_url</th>\n",
       "      <th>img_num</th>\n",
       "      <th>p1</th>\n",
       "      <th>p1_conf</th>\n",
       "      <th>p1_dog</th>\n",
       "      <th>p2</th>\n",
       "      <th>p2_conf</th>\n",
       "      <th>p2_dog</th>\n",
       "      <th>p3</th>\n",
       "      <th>p3_conf</th>\n",
       "      <th>p3_dog</th>\n",
       "    </tr>\n",
       "  </thead>\n",
       "  <tbody>\n",
       "    <tr>\n",
       "      <th>2046</th>\n",
       "      <td>886680336477933568</td>\n",
       "      <td>https://pbs.twimg.com/media/DE4fEDzWAAAyHMM.jpg</td>\n",
       "      <td>1</td>\n",
       "      <td>convertible</td>\n",
       "      <td>0.738995</td>\n",
       "      <td>False</td>\n",
       "      <td>sports_car</td>\n",
       "      <td>0.139952</td>\n",
       "      <td>False</td>\n",
       "      <td>car_wheel</td>\n",
       "      <td>0.044173</td>\n",
       "      <td>False</td>\n",
       "    </tr>\n",
       "    <tr>\n",
       "      <th>89</th>\n",
       "      <td>667534815156183040</td>\n",
       "      <td>https://pbs.twimg.com/media/CUOPYI5UcAAj_nO.jpg</td>\n",
       "      <td>1</td>\n",
       "      <td>Pembroke</td>\n",
       "      <td>0.435254</td>\n",
       "      <td>True</td>\n",
       "      <td>Cardigan</td>\n",
       "      <td>0.307407</td>\n",
       "      <td>True</td>\n",
       "      <td>cocker_spaniel</td>\n",
       "      <td>0.033158</td>\n",
       "      <td>True</td>\n",
       "    </tr>\n",
       "    <tr>\n",
       "      <th>22</th>\n",
       "      <td>666337882303524864</td>\n",
       "      <td>https://pbs.twimg.com/media/CT9OwFIWEAMuRje.jpg</td>\n",
       "      <td>1</td>\n",
       "      <td>ox</td>\n",
       "      <td>0.416669</td>\n",
       "      <td>False</td>\n",
       "      <td>Newfoundland</td>\n",
       "      <td>0.278407</td>\n",
       "      <td>True</td>\n",
       "      <td>groenendael</td>\n",
       "      <td>0.102643</td>\n",
       "      <td>True</td>\n",
       "    </tr>\n",
       "    <tr>\n",
       "      <th>1144</th>\n",
       "      <td>730211855403241472</td>\n",
       "      <td>https://pbs.twimg.com/media/CiI7zVZUoAEzGW7.jpg</td>\n",
       "      <td>1</td>\n",
       "      <td>pug</td>\n",
       "      <td>0.341663</td>\n",
       "      <td>True</td>\n",
       "      <td>Norwegian_elkhound</td>\n",
       "      <td>0.171222</td>\n",
       "      <td>True</td>\n",
       "      <td>German_shepherd</td>\n",
       "      <td>0.124687</td>\n",
       "      <td>True</td>\n",
       "    </tr>\n",
       "    <tr>\n",
       "      <th>41</th>\n",
       "      <td>666701168228331520</td>\n",
       "      <td>https://pbs.twimg.com/media/CUCZLHlUAAAeAig.jpg</td>\n",
       "      <td>1</td>\n",
       "      <td>Labrador_retriever</td>\n",
       "      <td>0.887707</td>\n",
       "      <td>True</td>\n",
       "      <td>Chihuahua</td>\n",
       "      <td>0.029307</td>\n",
       "      <td>True</td>\n",
       "      <td>French_bulldog</td>\n",
       "      <td>0.020756</td>\n",
       "      <td>True</td>\n",
       "    </tr>\n",
       "    <tr>\n",
       "      <th>1082</th>\n",
       "      <td>718454725339934721</td>\n",
       "      <td>https://pbs.twimg.com/media/Cfh2w6HWIAIIYAF.jpg</td>\n",
       "      <td>1</td>\n",
       "      <td>hammer</td>\n",
       "      <td>0.169865</td>\n",
       "      <td>False</td>\n",
       "      <td>hatchet</td>\n",
       "      <td>0.115744</td>\n",
       "      <td>False</td>\n",
       "      <td>chime</td>\n",
       "      <td>0.068092</td>\n",
       "      <td>False</td>\n",
       "    </tr>\n",
       "    <tr>\n",
       "      <th>180</th>\n",
       "      <td>669327207240699904</td>\n",
       "      <td>https://pbs.twimg.com/media/CUntin8WIAADmLk.jpg</td>\n",
       "      <td>1</td>\n",
       "      <td>golden_retriever</td>\n",
       "      <td>0.919584</td>\n",
       "      <td>True</td>\n",
       "      <td>Labrador_retriever</td>\n",
       "      <td>0.049669</td>\n",
       "      <td>True</td>\n",
       "      <td>kuvasz</td>\n",
       "      <td>0.010216</td>\n",
       "      <td>True</td>\n",
       "    </tr>\n",
       "    <tr>\n",
       "      <th>969</th>\n",
       "      <td>706516534877929472</td>\n",
       "      <td>https://pbs.twimg.com/media/Cc4NCQiXEAEx2eJ.jpg</td>\n",
       "      <td>1</td>\n",
       "      <td>golden_retriever</td>\n",
       "      <td>0.772685</td>\n",
       "      <td>True</td>\n",
       "      <td>Labrador_retriever</td>\n",
       "      <td>0.071665</td>\n",
       "      <td>True</td>\n",
       "      <td>golfcart</td>\n",
       "      <td>0.020993</td>\n",
       "      <td>False</td>\n",
       "    </tr>\n",
       "    <tr>\n",
       "      <th>1332</th>\n",
       "      <td>757725642876129280</td>\n",
       "      <td>https://pbs.twimg.com/media/CoP7c4bWcAAr55g.jpg</td>\n",
       "      <td>2</td>\n",
       "      <td>seat_belt</td>\n",
       "      <td>0.425176</td>\n",
       "      <td>False</td>\n",
       "      <td>Labrador_retriever</td>\n",
       "      <td>0.128128</td>\n",
       "      <td>True</td>\n",
       "      <td>Siamese_cat</td>\n",
       "      <td>0.091241</td>\n",
       "      <td>False</td>\n",
       "    </tr>\n",
       "    <tr>\n",
       "      <th>720</th>\n",
       "      <td>685943807276412928</td>\n",
       "      <td>https://pbs.twimg.com/ext_tw_video_thumb/68594...</td>\n",
       "      <td>1</td>\n",
       "      <td>papillon</td>\n",
       "      <td>0.200812</td>\n",
       "      <td>True</td>\n",
       "      <td>toy_terrier</td>\n",
       "      <td>0.114512</td>\n",
       "      <td>True</td>\n",
       "      <td>Cardigan</td>\n",
       "      <td>0.094520</td>\n",
       "      <td>True</td>\n",
       "    </tr>\n",
       "    <tr>\n",
       "      <th>676</th>\n",
       "      <td>683462770029932544</td>\n",
       "      <td>https://pbs.twimg.com/media/CXwlw9MWsAAc-JB.jpg</td>\n",
       "      <td>1</td>\n",
       "      <td>Italian_greyhound</td>\n",
       "      <td>0.399560</td>\n",
       "      <td>True</td>\n",
       "      <td>whippet</td>\n",
       "      <td>0.267153</td>\n",
       "      <td>True</td>\n",
       "      <td>German_short-haired_pointer</td>\n",
       "      <td>0.081319</td>\n",
       "      <td>True</td>\n",
       "    </tr>\n",
       "    <tr>\n",
       "      <th>109</th>\n",
       "      <td>667885044254572545</td>\n",
       "      <td>https://pbs.twimg.com/media/CUTN5V4XAAAIa4R.jpg</td>\n",
       "      <td>1</td>\n",
       "      <td>malamute</td>\n",
       "      <td>0.088530</td>\n",
       "      <td>True</td>\n",
       "      <td>golden_retriever</td>\n",
       "      <td>0.087499</td>\n",
       "      <td>True</td>\n",
       "      <td>muzzle</td>\n",
       "      <td>0.075008</td>\n",
       "      <td>False</td>\n",
       "    </tr>\n",
       "    <tr>\n",
       "      <th>438</th>\n",
       "      <td>674422304705744896</td>\n",
       "      <td>https://pbs.twimg.com/media/CVwHgblWcAACWOD.jpg</td>\n",
       "      <td>1</td>\n",
       "      <td>golden_retriever</td>\n",
       "      <td>0.964497</td>\n",
       "      <td>True</td>\n",
       "      <td>Labrador_retriever</td>\n",
       "      <td>0.009006</td>\n",
       "      <td>True</td>\n",
       "      <td>tennis_ball</td>\n",
       "      <td>0.007139</td>\n",
       "      <td>False</td>\n",
       "    </tr>\n",
       "    <tr>\n",
       "      <th>269</th>\n",
       "      <td>670815497391357952</td>\n",
       "      <td>https://pbs.twimg.com/media/CU83IZ8W4AEIh4y.jpg</td>\n",
       "      <td>1</td>\n",
       "      <td>American_Staffordshire_terrier</td>\n",
       "      <td>0.919714</td>\n",
       "      <td>True</td>\n",
       "      <td>Staffordshire_bullterrier</td>\n",
       "      <td>0.073430</td>\n",
       "      <td>True</td>\n",
       "      <td>bull_mastiff</td>\n",
       "      <td>0.000906</td>\n",
       "      <td>True</td>\n",
       "    </tr>\n",
       "    <tr>\n",
       "      <th>288</th>\n",
       "      <td>671159727754231808</td>\n",
       "      <td>https://pbs.twimg.com/media/CVBwNjVWwAAlUFQ.jpg</td>\n",
       "      <td>1</td>\n",
       "      <td>pitcher</td>\n",
       "      <td>0.117446</td>\n",
       "      <td>False</td>\n",
       "      <td>sunglasses</td>\n",
       "      <td>0.062487</td>\n",
       "      <td>False</td>\n",
       "      <td>mask</td>\n",
       "      <td>0.059517</td>\n",
       "      <td>False</td>\n",
       "    </tr>\n",
       "  </tbody>\n",
       "</table>\n",
       "</div>"
      ],
      "text/plain": [
       "                tweet_id                                            jpg_url  \\\n",
       "2046  886680336477933568    https://pbs.twimg.com/media/DE4fEDzWAAAyHMM.jpg   \n",
       "89    667534815156183040    https://pbs.twimg.com/media/CUOPYI5UcAAj_nO.jpg   \n",
       "22    666337882303524864    https://pbs.twimg.com/media/CT9OwFIWEAMuRje.jpg   \n",
       "1144  730211855403241472    https://pbs.twimg.com/media/CiI7zVZUoAEzGW7.jpg   \n",
       "41    666701168228331520    https://pbs.twimg.com/media/CUCZLHlUAAAeAig.jpg   \n",
       "1082  718454725339934721    https://pbs.twimg.com/media/Cfh2w6HWIAIIYAF.jpg   \n",
       "180   669327207240699904    https://pbs.twimg.com/media/CUntin8WIAADmLk.jpg   \n",
       "969   706516534877929472    https://pbs.twimg.com/media/Cc4NCQiXEAEx2eJ.jpg   \n",
       "1332  757725642876129280    https://pbs.twimg.com/media/CoP7c4bWcAAr55g.jpg   \n",
       "720   685943807276412928  https://pbs.twimg.com/ext_tw_video_thumb/68594...   \n",
       "676   683462770029932544    https://pbs.twimg.com/media/CXwlw9MWsAAc-JB.jpg   \n",
       "109   667885044254572545    https://pbs.twimg.com/media/CUTN5V4XAAAIa4R.jpg   \n",
       "438   674422304705744896    https://pbs.twimg.com/media/CVwHgblWcAACWOD.jpg   \n",
       "269   670815497391357952    https://pbs.twimg.com/media/CU83IZ8W4AEIh4y.jpg   \n",
       "288   671159727754231808    https://pbs.twimg.com/media/CVBwNjVWwAAlUFQ.jpg   \n",
       "\n",
       "      img_num                              p1   p1_conf  p1_dog  \\\n",
       "2046        1                     convertible  0.738995   False   \n",
       "89          1                        Pembroke  0.435254    True   \n",
       "22          1                              ox  0.416669   False   \n",
       "1144        1                             pug  0.341663    True   \n",
       "41          1              Labrador_retriever  0.887707    True   \n",
       "1082        1                          hammer  0.169865   False   \n",
       "180         1                golden_retriever  0.919584    True   \n",
       "969         1                golden_retriever  0.772685    True   \n",
       "1332        2                       seat_belt  0.425176   False   \n",
       "720         1                        papillon  0.200812    True   \n",
       "676         1               Italian_greyhound  0.399560    True   \n",
       "109         1                        malamute  0.088530    True   \n",
       "438         1                golden_retriever  0.964497    True   \n",
       "269         1  American_Staffordshire_terrier  0.919714    True   \n",
       "288         1                         pitcher  0.117446   False   \n",
       "\n",
       "                             p2   p2_conf  p2_dog  \\\n",
       "2046                 sports_car  0.139952   False   \n",
       "89                     Cardigan  0.307407    True   \n",
       "22                 Newfoundland  0.278407    True   \n",
       "1144         Norwegian_elkhound  0.171222    True   \n",
       "41                    Chihuahua  0.029307    True   \n",
       "1082                    hatchet  0.115744   False   \n",
       "180          Labrador_retriever  0.049669    True   \n",
       "969          Labrador_retriever  0.071665    True   \n",
       "1332         Labrador_retriever  0.128128    True   \n",
       "720                 toy_terrier  0.114512    True   \n",
       "676                     whippet  0.267153    True   \n",
       "109            golden_retriever  0.087499    True   \n",
       "438          Labrador_retriever  0.009006    True   \n",
       "269   Staffordshire_bullterrier  0.073430    True   \n",
       "288                  sunglasses  0.062487   False   \n",
       "\n",
       "                               p3   p3_conf  p3_dog  \n",
       "2046                    car_wheel  0.044173   False  \n",
       "89                 cocker_spaniel  0.033158    True  \n",
       "22                    groenendael  0.102643    True  \n",
       "1144              German_shepherd  0.124687    True  \n",
       "41                 French_bulldog  0.020756    True  \n",
       "1082                        chime  0.068092   False  \n",
       "180                        kuvasz  0.010216    True  \n",
       "969                      golfcart  0.020993   False  \n",
       "1332                  Siamese_cat  0.091241   False  \n",
       "720                      Cardigan  0.094520    True  \n",
       "676   German_short-haired_pointer  0.081319    True  \n",
       "109                        muzzle  0.075008   False  \n",
       "438                   tennis_ball  0.007139   False  \n",
       "269                  bull_mastiff  0.000906    True  \n",
       "288                          mask  0.059517   False  "
      ]
     },
     "execution_count": 12,
     "metadata": {},
     "output_type": "execute_result"
    }
   ],
   "source": [
    "im_predict.sample(15)"
   ]
  },
  {
   "cell_type": "code",
   "execution_count": 13,
   "metadata": {},
   "outputs": [
    {
     "data": {
      "text/plain": [
       "10     2333\n",
       "11        3\n",
       "50        3\n",
       "80        2\n",
       "20        2\n",
       "2         1\n",
       "16        1\n",
       "40        1\n",
       "70        1\n",
       "15        1\n",
       "90        1\n",
       "110       1\n",
       "120       1\n",
       "130       1\n",
       "150       1\n",
       "170       1\n",
       "7         1\n",
       "0         1\n",
       "Name: rating_denominator, dtype: int64"
      ]
     },
     "execution_count": 13,
     "metadata": {},
     "output_type": "execute_result"
    }
   ],
   "source": [
    "tw_archive.rating_denominator.value_counts()"
   ]
  },
  {
   "cell_type": "code",
   "execution_count": 14,
   "metadata": {},
   "outputs": [
    {
     "data": {
      "text/plain": [
       "12      558\n",
       "11      464\n",
       "10      461\n",
       "13      351\n",
       "9       158\n",
       "8       102\n",
       "7        55\n",
       "14       54\n",
       "5        37\n",
       "6        32\n",
       "3        19\n",
       "4        17\n",
       "1         9\n",
       "2         9\n",
       "420       2\n",
       "0         2\n",
       "15        2\n",
       "75        2\n",
       "80        1\n",
       "20        1\n",
       "24        1\n",
       "26        1\n",
       "44        1\n",
       "50        1\n",
       "60        1\n",
       "165       1\n",
       "84        1\n",
       "88        1\n",
       "144       1\n",
       "182       1\n",
       "143       1\n",
       "666       1\n",
       "960       1\n",
       "1776      1\n",
       "17        1\n",
       "27        1\n",
       "45        1\n",
       "99        1\n",
       "121       1\n",
       "204       1\n",
       "Name: rating_numerator, dtype: int64"
      ]
     },
     "execution_count": 14,
     "metadata": {},
     "output_type": "execute_result"
    }
   ],
   "source": [
    "tw_archive.rating_numerator.value_counts()"
   ]
  },
  {
   "cell_type": "code",
   "execution_count": 15,
   "metadata": {},
   "outputs": [
    {
     "data": {
      "text/plain": [
       "<a href=\"http://twitter.com/download/iphone\" rel=\"nofollow\">Twitter for iPhone</a>     2221\n",
       "<a href=\"http://vine.co\" rel=\"nofollow\">Vine - Make a Scene</a>                          91\n",
       "<a href=\"http://twitter.com\" rel=\"nofollow\">Twitter Web Client</a>                       33\n",
       "<a href=\"https://about.twitter.com/products/tweetdeck\" rel=\"nofollow\">TweetDeck</a>      11\n",
       "Name: source, dtype: int64"
      ]
     },
     "execution_count": 15,
     "metadata": {},
     "output_type": "execute_result"
    }
   ],
   "source": [
    "tw_archive.source.value_counts()"
   ]
  },
  {
   "cell_type": "markdown",
   "metadata": {},
   "source": [
    "### Quality:\n",
    "\n",
    "##### `tw_archive` table:\n",
    " - `rating_denominator` is not always 10.\n",
    " - `rating_numerator` is not always greater than 10.\n",
    " - `expanded_url` contain duplicate data sometimes.\n",
    " - `name` is sometimes missing or a preposition. _(Can't fix missing names.)_\n",
    " - `expanded_url` sometimes missing.\n",
    " - No column to determine type of tweet; i.e. Original, Retweet, or Reply.\n",
    " - `dog_stage` sometimes missing. _(Can't fix currently.)_\n",
    " - Some column headers aren't very descriptive.\n",
    " \n",
    " \n",
    "##### `im_predict` table:\n",
    " - Underscore (\\_) between words.\n",
    " - Some tweets contain no dogs."
   ]
  },
  {
   "cell_type": "markdown",
   "metadata": {},
   "source": [
    "### Tidiness:\n",
    "\n",
    "##### `tw_archive` table:\n",
    " - Missing values are \"None\".\n",
    " - Single variable `dog_stage` in four seperate columns.\n",
    " - Multiple `dog_stage` in some tweets.\n",
    " - Short URL is in `text` column.\n",
    " - `source` has full links.\n",
    " - `tweet_id`, `timestamp`, `retweeted_status_timestamp` columns are int64.\n",
    " \n",
    "##### `im_predict` table:\n",
    " - `p1`, `p2`, `p3`, are objects."
   ]
  },
  {
   "cell_type": "markdown",
   "metadata": {},
   "source": [
    "# Clean\n",
    "Cleaning the issues found in the assessment section."
   ]
  },
  {
   "cell_type": "code",
   "execution_count": 16,
   "metadata": {},
   "outputs": [],
   "source": [
    "# Create copies of original dataset for cleaning.\n",
    "\n",
    "tw_archive_clean = tw_archive.copy()\n",
    "im_predict_clean = im_predict.copy()"
   ]
  },
  {
   "cell_type": "markdown",
   "metadata": {},
   "source": [
    "##### Define:\n",
    "`tweet_id` in both tables is `int64`. Since I am nott going to perform any mathematical operatioons on the, convert them to `str`."
   ]
  },
  {
   "cell_type": "markdown",
   "metadata": {},
   "source": [
    "##### Code:"
   ]
  },
  {
   "cell_type": "code",
   "execution_count": 17,
   "metadata": {},
   "outputs": [],
   "source": [
    "tw_archive_clean.tweet_id = tw_archive_clean.tweet_id.astype(\"str\")\n",
    "im_predict_clean.tweet_id = im_predict_clean.tweet_id.astype(\"str\")"
   ]
  },
  {
   "cell_type": "markdown",
   "metadata": {},
   "source": [
    "##### Test:"
   ]
  },
  {
   "cell_type": "code",
   "execution_count": 18,
   "metadata": {},
   "outputs": [
    {
     "data": {
      "text/plain": [
       "(0    892420643555336193\n",
       " 1    892177421306343426\n",
       " 2    891815181378084864\n",
       " 3    891689557279858688\n",
       " 4    891327558926688256\n",
       " Name: tweet_id, dtype: object, 0    666020888022790149\n",
       " 1    666029285002620928\n",
       " 2    666033412701032449\n",
       " 3    666044226329800704\n",
       " 4    666049248165822465\n",
       " Name: tweet_id, dtype: object)"
      ]
     },
     "execution_count": 18,
     "metadata": {},
     "output_type": "execute_result"
    }
   ],
   "source": [
    "tw_archive_clean.tweet_id.head(), im_predict_clean.tweet_id.head()"
   ]
  },
  {
   "cell_type": "markdown",
   "metadata": {},
   "source": [
    "### Missing data\n",
    "\n",
    "`tw_archive` missing retweet count and favourite count.\n",
    "\n",
    "##### Define:\n",
    "The twitter-archive-enhanced.csv dataset did not have favourite count and retweet count for the tweet data. I gathered it using the Twitter API. Using the JSON data, I also determined if the tweet is an original, reply, or a retweet. <br>\n",
    "Use `pandas.merge()` to mearge `tweet_info` with `tw_archive` to add this data to our dataset.\n"
   ]
  },
  {
   "cell_type": "markdown",
   "metadata": {},
   "source": [
    "##### Code"
   ]
  },
  {
   "cell_type": "code",
   "execution_count": 19,
   "metadata": {},
   "outputs": [],
   "source": [
    "tw_archive_clean = tw_archive_clean.merge(tweet_info, how=\"inner\", on=\"tweet_id\")"
   ]
  },
  {
   "cell_type": "markdown",
   "metadata": {},
   "source": [
    "##### Test:"
   ]
  },
  {
   "cell_type": "code",
   "execution_count": 20,
   "metadata": {},
   "outputs": [
    {
     "data": {
      "text/html": [
       "<div>\n",
       "<style scoped>\n",
       "    .dataframe tbody tr th:only-of-type {\n",
       "        vertical-align: middle;\n",
       "    }\n",
       "\n",
       "    .dataframe tbody tr th {\n",
       "        vertical-align: top;\n",
       "    }\n",
       "\n",
       "    .dataframe thead th {\n",
       "        text-align: right;\n",
       "    }\n",
       "</style>\n",
       "<table border=\"1\" class=\"dataframe\">\n",
       "  <thead>\n",
       "    <tr style=\"text-align: right;\">\n",
       "      <th></th>\n",
       "      <th>tweet_id</th>\n",
       "      <th>in_reply_to_status_id</th>\n",
       "      <th>in_reply_to_user_id</th>\n",
       "      <th>timestamp</th>\n",
       "      <th>source</th>\n",
       "      <th>text</th>\n",
       "      <th>retweeted_status_id</th>\n",
       "      <th>retweeted_status_user_id</th>\n",
       "      <th>retweeted_status_timestamp</th>\n",
       "      <th>expanded_urls</th>\n",
       "      <th>rating_numerator</th>\n",
       "      <th>rating_denominator</th>\n",
       "      <th>name</th>\n",
       "      <th>doggo</th>\n",
       "      <th>floofer</th>\n",
       "      <th>pupper</th>\n",
       "      <th>puppo</th>\n",
       "      <th>retweet_count</th>\n",
       "      <th>favourite_count</th>\n",
       "      <th>tweet_type</th>\n",
       "    </tr>\n",
       "  </thead>\n",
       "  <tbody>\n",
       "    <tr>\n",
       "      <th>1719</th>\n",
       "      <td>679736210798047232</td>\n",
       "      <td>NaN</td>\n",
       "      <td>NaN</td>\n",
       "      <td>2015-12-23 18:51:56 +0000</td>\n",
       "      <td>&lt;a href=\"http://twitter.com/download/iphone\" r...</td>\n",
       "      <td>This pup's name is Sabertooth (parents must be...</td>\n",
       "      <td>NaN</td>\n",
       "      <td>NaN</td>\n",
       "      <td>NaN</td>\n",
       "      <td>https://twitter.com/dog_rates/status/679736210...</td>\n",
       "      <td>9</td>\n",
       "      <td>10</td>\n",
       "      <td>None</td>\n",
       "      <td>None</td>\n",
       "      <td>None</td>\n",
       "      <td>None</td>\n",
       "      <td>None</td>\n",
       "      <td>864</td>\n",
       "      <td>2213</td>\n",
       "      <td>original</td>\n",
       "    </tr>\n",
       "    <tr>\n",
       "      <th>1635</th>\n",
       "      <td>683515932363329536</td>\n",
       "      <td>NaN</td>\n",
       "      <td>NaN</td>\n",
       "      <td>2016-01-03 05:11:12 +0000</td>\n",
       "      <td>&lt;a href=\"http://vine.co\" rel=\"nofollow\"&gt;Vine -...</td>\n",
       "      <td>HEY PUP WHAT'S THE PART OF THE HUMAN BODY THAT...</td>\n",
       "      <td>NaN</td>\n",
       "      <td>NaN</td>\n",
       "      <td>NaN</td>\n",
       "      <td>https://vine.co/v/ibvnzrauFuV</td>\n",
       "      <td>11</td>\n",
       "      <td>10</td>\n",
       "      <td>None</td>\n",
       "      <td>None</td>\n",
       "      <td>None</td>\n",
       "      <td>None</td>\n",
       "      <td>None</td>\n",
       "      <td>3153</td>\n",
       "      <td>7808</td>\n",
       "      <td>original</td>\n",
       "    </tr>\n",
       "    <tr>\n",
       "      <th>1855</th>\n",
       "      <td>675149409102012420</td>\n",
       "      <td>NaN</td>\n",
       "      <td>NaN</td>\n",
       "      <td>2015-12-11 03:05:37 +0000</td>\n",
       "      <td>&lt;a href=\"http://twitter.com/download/iphone\" r...</td>\n",
       "      <td>holy shit 12/10 https://t.co/p6O8X93bTQ</td>\n",
       "      <td>NaN</td>\n",
       "      <td>NaN</td>\n",
       "      <td>NaN</td>\n",
       "      <td>https://twitter.com/dog_rates/status/675149409...</td>\n",
       "      <td>12</td>\n",
       "      <td>10</td>\n",
       "      <td>None</td>\n",
       "      <td>None</td>\n",
       "      <td>None</td>\n",
       "      <td>None</td>\n",
       "      <td>None</td>\n",
       "      <td>1785</td>\n",
       "      <td>3886</td>\n",
       "      <td>original</td>\n",
       "    </tr>\n",
       "    <tr>\n",
       "      <th>2185</th>\n",
       "      <td>668655139528511488</td>\n",
       "      <td>NaN</td>\n",
       "      <td>NaN</td>\n",
       "      <td>2015-11-23 04:59:42 +0000</td>\n",
       "      <td>&lt;a href=\"http://twitter.com/download/iphone\" r...</td>\n",
       "      <td>Say hello to Winifred. He is a Papyrus Hydrang...</td>\n",
       "      <td>NaN</td>\n",
       "      <td>NaN</td>\n",
       "      <td>NaN</td>\n",
       "      <td>https://twitter.com/dog_rates/status/668655139...</td>\n",
       "      <td>11</td>\n",
       "      <td>10</td>\n",
       "      <td>Winifred</td>\n",
       "      <td>None</td>\n",
       "      <td>None</td>\n",
       "      <td>None</td>\n",
       "      <td>None</td>\n",
       "      <td>227</td>\n",
       "      <td>546</td>\n",
       "      <td>original</td>\n",
       "    </tr>\n",
       "    <tr>\n",
       "      <th>855</th>\n",
       "      <td>761745352076779520</td>\n",
       "      <td>NaN</td>\n",
       "      <td>NaN</td>\n",
       "      <td>2016-08-06 02:06:59 +0000</td>\n",
       "      <td>&lt;a href=\"http://twitter.com/download/iphone\" r...</td>\n",
       "      <td>Guys.. we only rate dogs. Pls don't send any m...</td>\n",
       "      <td>NaN</td>\n",
       "      <td>NaN</td>\n",
       "      <td>NaN</td>\n",
       "      <td>https://twitter.com/dog_rates/status/761745352...</td>\n",
       "      <td>11</td>\n",
       "      <td>10</td>\n",
       "      <td>None</td>\n",
       "      <td>None</td>\n",
       "      <td>None</td>\n",
       "      <td>None</td>\n",
       "      <td>None</td>\n",
       "      <td>940</td>\n",
       "      <td>4554</td>\n",
       "      <td>original</td>\n",
       "    </tr>\n",
       "    <tr>\n",
       "      <th>1721</th>\n",
       "      <td>679722016581222400</td>\n",
       "      <td>NaN</td>\n",
       "      <td>NaN</td>\n",
       "      <td>2015-12-23 17:55:32 +0000</td>\n",
       "      <td>&lt;a href=\"http://twitter.com/download/iphone\" r...</td>\n",
       "      <td>This is Mike. He is a Jordanian Frito Pilates....</td>\n",
       "      <td>NaN</td>\n",
       "      <td>NaN</td>\n",
       "      <td>NaN</td>\n",
       "      <td>https://twitter.com/dog_rates/status/679722016...</td>\n",
       "      <td>8</td>\n",
       "      <td>10</td>\n",
       "      <td>Mike</td>\n",
       "      <td>None</td>\n",
       "      <td>None</td>\n",
       "      <td>None</td>\n",
       "      <td>None</td>\n",
       "      <td>509</td>\n",
       "      <td>1748</td>\n",
       "      <td>original</td>\n",
       "    </tr>\n",
       "    <tr>\n",
       "      <th>2252</th>\n",
       "      <td>667524857454854144</td>\n",
       "      <td>NaN</td>\n",
       "      <td>NaN</td>\n",
       "      <td>2015-11-20 02:08:22 +0000</td>\n",
       "      <td>&lt;a href=\"http://twitter.com\" rel=\"nofollow\"&gt;Tw...</td>\n",
       "      <td>Another topnotch dog. His name is Big Jumpy Ra...</td>\n",
       "      <td>NaN</td>\n",
       "      <td>NaN</td>\n",
       "      <td>NaN</td>\n",
       "      <td>https://twitter.com/dog_rates/status/667524857...</td>\n",
       "      <td>12</td>\n",
       "      <td>10</td>\n",
       "      <td>None</td>\n",
       "      <td>None</td>\n",
       "      <td>None</td>\n",
       "      <td>None</td>\n",
       "      <td>None</td>\n",
       "      <td>1146</td>\n",
       "      <td>1727</td>\n",
       "      <td>original</td>\n",
       "    </tr>\n",
       "    <tr>\n",
       "      <th>807</th>\n",
       "      <td>770293558247038976</td>\n",
       "      <td>NaN</td>\n",
       "      <td>NaN</td>\n",
       "      <td>2016-08-29 16:14:30 +0000</td>\n",
       "      <td>&lt;a href=\"http://twitter.com/download/iphone\" r...</td>\n",
       "      <td>This is Jackson. There's nothing abnormal abou...</td>\n",
       "      <td>NaN</td>\n",
       "      <td>NaN</td>\n",
       "      <td>NaN</td>\n",
       "      <td>https://twitter.com/dog_rates/status/770293558...</td>\n",
       "      <td>10</td>\n",
       "      <td>10</td>\n",
       "      <td>Jackson</td>\n",
       "      <td>None</td>\n",
       "      <td>None</td>\n",
       "      <td>None</td>\n",
       "      <td>None</td>\n",
       "      <td>1643</td>\n",
       "      <td>6701</td>\n",
       "      <td>original</td>\n",
       "    </tr>\n",
       "    <tr>\n",
       "      <th>2111</th>\n",
       "      <td>670338931251150849</td>\n",
       "      <td>NaN</td>\n",
       "      <td>NaN</td>\n",
       "      <td>2015-11-27 20:30:30 +0000</td>\n",
       "      <td>&lt;a href=\"http://twitter.com/download/iphone\" r...</td>\n",
       "      <td>This is Butters. He's not ready for Thanksgivi...</td>\n",
       "      <td>NaN</td>\n",
       "      <td>NaN</td>\n",
       "      <td>NaN</td>\n",
       "      <td>https://twitter.com/dog_rates/status/670338931...</td>\n",
       "      <td>10</td>\n",
       "      <td>10</td>\n",
       "      <td>Butters</td>\n",
       "      <td>None</td>\n",
       "      <td>None</td>\n",
       "      <td>None</td>\n",
       "      <td>None</td>\n",
       "      <td>117</td>\n",
       "      <td>438</td>\n",
       "      <td>original</td>\n",
       "    </tr>\n",
       "    <tr>\n",
       "      <th>820</th>\n",
       "      <td>768473857036525572</td>\n",
       "      <td>NaN</td>\n",
       "      <td>NaN</td>\n",
       "      <td>2016-08-24 15:43:39 +0000</td>\n",
       "      <td>&lt;a href=\"http://twitter.com/download/iphone\" r...</td>\n",
       "      <td>Meet Chevy. He had a late breakfast and now ha...</td>\n",
       "      <td>NaN</td>\n",
       "      <td>NaN</td>\n",
       "      <td>NaN</td>\n",
       "      <td>https://twitter.com/dog_rates/status/768473857...</td>\n",
       "      <td>11</td>\n",
       "      <td>10</td>\n",
       "      <td>Chevy</td>\n",
       "      <td>None</td>\n",
       "      <td>None</td>\n",
       "      <td>None</td>\n",
       "      <td>None</td>\n",
       "      <td>3777</td>\n",
       "      <td>14626</td>\n",
       "      <td>original</td>\n",
       "    </tr>\n",
       "  </tbody>\n",
       "</table>\n",
       "</div>"
      ],
      "text/plain": [
       "                tweet_id  in_reply_to_status_id  in_reply_to_user_id  \\\n",
       "1719  679736210798047232                    NaN                  NaN   \n",
       "1635  683515932363329536                    NaN                  NaN   \n",
       "1855  675149409102012420                    NaN                  NaN   \n",
       "2185  668655139528511488                    NaN                  NaN   \n",
       "855   761745352076779520                    NaN                  NaN   \n",
       "1721  679722016581222400                    NaN                  NaN   \n",
       "2252  667524857454854144                    NaN                  NaN   \n",
       "807   770293558247038976                    NaN                  NaN   \n",
       "2111  670338931251150849                    NaN                  NaN   \n",
       "820   768473857036525572                    NaN                  NaN   \n",
       "\n",
       "                      timestamp  \\\n",
       "1719  2015-12-23 18:51:56 +0000   \n",
       "1635  2016-01-03 05:11:12 +0000   \n",
       "1855  2015-12-11 03:05:37 +0000   \n",
       "2185  2015-11-23 04:59:42 +0000   \n",
       "855   2016-08-06 02:06:59 +0000   \n",
       "1721  2015-12-23 17:55:32 +0000   \n",
       "2252  2015-11-20 02:08:22 +0000   \n",
       "807   2016-08-29 16:14:30 +0000   \n",
       "2111  2015-11-27 20:30:30 +0000   \n",
       "820   2016-08-24 15:43:39 +0000   \n",
       "\n",
       "                                                 source  \\\n",
       "1719  <a href=\"http://twitter.com/download/iphone\" r...   \n",
       "1635  <a href=\"http://vine.co\" rel=\"nofollow\">Vine -...   \n",
       "1855  <a href=\"http://twitter.com/download/iphone\" r...   \n",
       "2185  <a href=\"http://twitter.com/download/iphone\" r...   \n",
       "855   <a href=\"http://twitter.com/download/iphone\" r...   \n",
       "1721  <a href=\"http://twitter.com/download/iphone\" r...   \n",
       "2252  <a href=\"http://twitter.com\" rel=\"nofollow\">Tw...   \n",
       "807   <a href=\"http://twitter.com/download/iphone\" r...   \n",
       "2111  <a href=\"http://twitter.com/download/iphone\" r...   \n",
       "820   <a href=\"http://twitter.com/download/iphone\" r...   \n",
       "\n",
       "                                                   text  retweeted_status_id  \\\n",
       "1719  This pup's name is Sabertooth (parents must be...                  NaN   \n",
       "1635  HEY PUP WHAT'S THE PART OF THE HUMAN BODY THAT...                  NaN   \n",
       "1855            holy shit 12/10 https://t.co/p6O8X93bTQ                  NaN   \n",
       "2185  Say hello to Winifred. He is a Papyrus Hydrang...                  NaN   \n",
       "855   Guys.. we only rate dogs. Pls don't send any m...                  NaN   \n",
       "1721  This is Mike. He is a Jordanian Frito Pilates....                  NaN   \n",
       "2252  Another topnotch dog. His name is Big Jumpy Ra...                  NaN   \n",
       "807   This is Jackson. There's nothing abnormal abou...                  NaN   \n",
       "2111  This is Butters. He's not ready for Thanksgivi...                  NaN   \n",
       "820   Meet Chevy. He had a late breakfast and now ha...                  NaN   \n",
       "\n",
       "      retweeted_status_user_id retweeted_status_timestamp  \\\n",
       "1719                       NaN                        NaN   \n",
       "1635                       NaN                        NaN   \n",
       "1855                       NaN                        NaN   \n",
       "2185                       NaN                        NaN   \n",
       "855                        NaN                        NaN   \n",
       "1721                       NaN                        NaN   \n",
       "2252                       NaN                        NaN   \n",
       "807                        NaN                        NaN   \n",
       "2111                       NaN                        NaN   \n",
       "820                        NaN                        NaN   \n",
       "\n",
       "                                          expanded_urls  rating_numerator  \\\n",
       "1719  https://twitter.com/dog_rates/status/679736210...                 9   \n",
       "1635                      https://vine.co/v/ibvnzrauFuV                11   \n",
       "1855  https://twitter.com/dog_rates/status/675149409...                12   \n",
       "2185  https://twitter.com/dog_rates/status/668655139...                11   \n",
       "855   https://twitter.com/dog_rates/status/761745352...                11   \n",
       "1721  https://twitter.com/dog_rates/status/679722016...                 8   \n",
       "2252  https://twitter.com/dog_rates/status/667524857...                12   \n",
       "807   https://twitter.com/dog_rates/status/770293558...                10   \n",
       "2111  https://twitter.com/dog_rates/status/670338931...                10   \n",
       "820   https://twitter.com/dog_rates/status/768473857...                11   \n",
       "\n",
       "      rating_denominator      name doggo floofer pupper puppo  retweet_count  \\\n",
       "1719                  10      None  None    None   None  None            864   \n",
       "1635                  10      None  None    None   None  None           3153   \n",
       "1855                  10      None  None    None   None  None           1785   \n",
       "2185                  10  Winifred  None    None   None  None            227   \n",
       "855                   10      None  None    None   None  None            940   \n",
       "1721                  10      Mike  None    None   None  None            509   \n",
       "2252                  10      None  None    None   None  None           1146   \n",
       "807                   10   Jackson  None    None   None  None           1643   \n",
       "2111                  10   Butters  None    None   None  None            117   \n",
       "820                   10     Chevy  None    None   None  None           3777   \n",
       "\n",
       "      favourite_count tweet_type  \n",
       "1719             2213   original  \n",
       "1635             7808   original  \n",
       "1855             3886   original  \n",
       "2185              546   original  \n",
       "855              4554   original  \n",
       "1721             1748   original  \n",
       "2252             1727   original  \n",
       "807              6701   original  \n",
       "2111              438   original  \n",
       "820             14626   original  "
      ]
     },
     "execution_count": 20,
     "metadata": {},
     "output_type": "execute_result"
    }
   ],
   "source": [
    "tw_archive_clean.sample(10)"
   ]
  },
  {
   "cell_type": "markdown",
   "metadata": {},
   "source": [
    "### Tidiness"
   ]
  },
  {
   "cell_type": "markdown",
   "metadata": {},
   "source": [
    "##### Define\n",
    "The dataset contsins \"none\" as as string object for missing values. Replace \"None\" for missing values in `tw_archive` with `np.NaN`"
   ]
  },
  {
   "cell_type": "markdown",
   "metadata": {},
   "source": [
    "##### Code:"
   ]
  },
  {
   "cell_type": "code",
   "execution_count": 21,
   "metadata": {},
   "outputs": [],
   "source": [
    "tw_archive_clean.replace(to_replace=\"None\", value=np.NaN, inplace=True)"
   ]
  },
  {
   "cell_type": "markdown",
   "metadata": {},
   "source": [
    "##### Test:"
   ]
  },
  {
   "cell_type": "code",
   "execution_count": 22,
   "metadata": {},
   "outputs": [
    {
     "data": {
      "text/html": [
       "<div>\n",
       "<style scoped>\n",
       "    .dataframe tbody tr th:only-of-type {\n",
       "        vertical-align: middle;\n",
       "    }\n",
       "\n",
       "    .dataframe tbody tr th {\n",
       "        vertical-align: top;\n",
       "    }\n",
       "\n",
       "    .dataframe thead th {\n",
       "        text-align: right;\n",
       "    }\n",
       "</style>\n",
       "<table border=\"1\" class=\"dataframe\">\n",
       "  <thead>\n",
       "    <tr style=\"text-align: right;\">\n",
       "      <th></th>\n",
       "      <th>tweet_id</th>\n",
       "      <th>in_reply_to_status_id</th>\n",
       "      <th>in_reply_to_user_id</th>\n",
       "      <th>timestamp</th>\n",
       "      <th>source</th>\n",
       "      <th>text</th>\n",
       "      <th>retweeted_status_id</th>\n",
       "      <th>retweeted_status_user_id</th>\n",
       "      <th>retweeted_status_timestamp</th>\n",
       "      <th>expanded_urls</th>\n",
       "      <th>rating_numerator</th>\n",
       "      <th>rating_denominator</th>\n",
       "      <th>name</th>\n",
       "      <th>doggo</th>\n",
       "      <th>floofer</th>\n",
       "      <th>pupper</th>\n",
       "      <th>puppo</th>\n",
       "      <th>retweet_count</th>\n",
       "      <th>favourite_count</th>\n",
       "      <th>tweet_type</th>\n",
       "    </tr>\n",
       "  </thead>\n",
       "  <tbody>\n",
       "    <tr>\n",
       "      <th>0</th>\n",
       "      <td>892420643555336193</td>\n",
       "      <td>NaN</td>\n",
       "      <td>NaN</td>\n",
       "      <td>2017-08-01 16:23:56 +0000</td>\n",
       "      <td>&lt;a href=\"http://twitter.com/download/iphone\" r...</td>\n",
       "      <td>This is Phineas. He's a mystical boy. Only eve...</td>\n",
       "      <td>NaN</td>\n",
       "      <td>NaN</td>\n",
       "      <td>NaN</td>\n",
       "      <td>https://twitter.com/dog_rates/status/892420643...</td>\n",
       "      <td>13</td>\n",
       "      <td>10</td>\n",
       "      <td>Phineas</td>\n",
       "      <td>NaN</td>\n",
       "      <td>NaN</td>\n",
       "      <td>NaN</td>\n",
       "      <td>NaN</td>\n",
       "      <td>8444</td>\n",
       "      <td>38430</td>\n",
       "      <td>original</td>\n",
       "    </tr>\n",
       "    <tr>\n",
       "      <th>1</th>\n",
       "      <td>892177421306343426</td>\n",
       "      <td>NaN</td>\n",
       "      <td>NaN</td>\n",
       "      <td>2017-08-01 00:17:27 +0000</td>\n",
       "      <td>&lt;a href=\"http://twitter.com/download/iphone\" r...</td>\n",
       "      <td>This is Tilly. She's just checking pup on you....</td>\n",
       "      <td>NaN</td>\n",
       "      <td>NaN</td>\n",
       "      <td>NaN</td>\n",
       "      <td>https://twitter.com/dog_rates/status/892177421...</td>\n",
       "      <td>13</td>\n",
       "      <td>10</td>\n",
       "      <td>Tilly</td>\n",
       "      <td>NaN</td>\n",
       "      <td>NaN</td>\n",
       "      <td>NaN</td>\n",
       "      <td>NaN</td>\n",
       "      <td>6224</td>\n",
       "      <td>32923</td>\n",
       "      <td>original</td>\n",
       "    </tr>\n",
       "    <tr>\n",
       "      <th>2</th>\n",
       "      <td>891815181378084864</td>\n",
       "      <td>NaN</td>\n",
       "      <td>NaN</td>\n",
       "      <td>2017-07-31 00:18:03 +0000</td>\n",
       "      <td>&lt;a href=\"http://twitter.com/download/iphone\" r...</td>\n",
       "      <td>This is Archie. He is a rare Norwegian Pouncin...</td>\n",
       "      <td>NaN</td>\n",
       "      <td>NaN</td>\n",
       "      <td>NaN</td>\n",
       "      <td>https://twitter.com/dog_rates/status/891815181...</td>\n",
       "      <td>12</td>\n",
       "      <td>10</td>\n",
       "      <td>Archie</td>\n",
       "      <td>NaN</td>\n",
       "      <td>NaN</td>\n",
       "      <td>NaN</td>\n",
       "      <td>NaN</td>\n",
       "      <td>4125</td>\n",
       "      <td>24810</td>\n",
       "      <td>original</td>\n",
       "    </tr>\n",
       "    <tr>\n",
       "      <th>3</th>\n",
       "      <td>891689557279858688</td>\n",
       "      <td>NaN</td>\n",
       "      <td>NaN</td>\n",
       "      <td>2017-07-30 15:58:51 +0000</td>\n",
       "      <td>&lt;a href=\"http://twitter.com/download/iphone\" r...</td>\n",
       "      <td>This is Darla. She commenced a snooze mid meal...</td>\n",
       "      <td>NaN</td>\n",
       "      <td>NaN</td>\n",
       "      <td>NaN</td>\n",
       "      <td>https://twitter.com/dog_rates/status/891689557...</td>\n",
       "      <td>13</td>\n",
       "      <td>10</td>\n",
       "      <td>Darla</td>\n",
       "      <td>NaN</td>\n",
       "      <td>NaN</td>\n",
       "      <td>NaN</td>\n",
       "      <td>NaN</td>\n",
       "      <td>8578</td>\n",
       "      <td>41779</td>\n",
       "      <td>original</td>\n",
       "    </tr>\n",
       "    <tr>\n",
       "      <th>4</th>\n",
       "      <td>891327558926688256</td>\n",
       "      <td>NaN</td>\n",
       "      <td>NaN</td>\n",
       "      <td>2017-07-29 16:00:24 +0000</td>\n",
       "      <td>&lt;a href=\"http://twitter.com/download/iphone\" r...</td>\n",
       "      <td>This is Franklin. He would like you to stop ca...</td>\n",
       "      <td>NaN</td>\n",
       "      <td>NaN</td>\n",
       "      <td>NaN</td>\n",
       "      <td>https://twitter.com/dog_rates/status/891327558...</td>\n",
       "      <td>12</td>\n",
       "      <td>10</td>\n",
       "      <td>Franklin</td>\n",
       "      <td>NaN</td>\n",
       "      <td>NaN</td>\n",
       "      <td>NaN</td>\n",
       "      <td>NaN</td>\n",
       "      <td>9307</td>\n",
       "      <td>39944</td>\n",
       "      <td>original</td>\n",
       "    </tr>\n",
       "  </tbody>\n",
       "</table>\n",
       "</div>"
      ],
      "text/plain": [
       "             tweet_id  in_reply_to_status_id  in_reply_to_user_id  \\\n",
       "0  892420643555336193                    NaN                  NaN   \n",
       "1  892177421306343426                    NaN                  NaN   \n",
       "2  891815181378084864                    NaN                  NaN   \n",
       "3  891689557279858688                    NaN                  NaN   \n",
       "4  891327558926688256                    NaN                  NaN   \n",
       "\n",
       "                   timestamp  \\\n",
       "0  2017-08-01 16:23:56 +0000   \n",
       "1  2017-08-01 00:17:27 +0000   \n",
       "2  2017-07-31 00:18:03 +0000   \n",
       "3  2017-07-30 15:58:51 +0000   \n",
       "4  2017-07-29 16:00:24 +0000   \n",
       "\n",
       "                                              source  \\\n",
       "0  <a href=\"http://twitter.com/download/iphone\" r...   \n",
       "1  <a href=\"http://twitter.com/download/iphone\" r...   \n",
       "2  <a href=\"http://twitter.com/download/iphone\" r...   \n",
       "3  <a href=\"http://twitter.com/download/iphone\" r...   \n",
       "4  <a href=\"http://twitter.com/download/iphone\" r...   \n",
       "\n",
       "                                                text  retweeted_status_id  \\\n",
       "0  This is Phineas. He's a mystical boy. Only eve...                  NaN   \n",
       "1  This is Tilly. She's just checking pup on you....                  NaN   \n",
       "2  This is Archie. He is a rare Norwegian Pouncin...                  NaN   \n",
       "3  This is Darla. She commenced a snooze mid meal...                  NaN   \n",
       "4  This is Franklin. He would like you to stop ca...                  NaN   \n",
       "\n",
       "   retweeted_status_user_id retweeted_status_timestamp  \\\n",
       "0                       NaN                        NaN   \n",
       "1                       NaN                        NaN   \n",
       "2                       NaN                        NaN   \n",
       "3                       NaN                        NaN   \n",
       "4                       NaN                        NaN   \n",
       "\n",
       "                                       expanded_urls  rating_numerator  \\\n",
       "0  https://twitter.com/dog_rates/status/892420643...                13   \n",
       "1  https://twitter.com/dog_rates/status/892177421...                13   \n",
       "2  https://twitter.com/dog_rates/status/891815181...                12   \n",
       "3  https://twitter.com/dog_rates/status/891689557...                13   \n",
       "4  https://twitter.com/dog_rates/status/891327558...                12   \n",
       "\n",
       "   rating_denominator      name doggo floofer pupper puppo  retweet_count  \\\n",
       "0                  10   Phineas   NaN     NaN    NaN   NaN           8444   \n",
       "1                  10     Tilly   NaN     NaN    NaN   NaN           6224   \n",
       "2                  10    Archie   NaN     NaN    NaN   NaN           4125   \n",
       "3                  10     Darla   NaN     NaN    NaN   NaN           8578   \n",
       "4                  10  Franklin   NaN     NaN    NaN   NaN           9307   \n",
       "\n",
       "   favourite_count tweet_type  \n",
       "0            38430   original  \n",
       "1            32923   original  \n",
       "2            24810   original  \n",
       "3            41779   original  \n",
       "4            39944   original  "
      ]
     },
     "execution_count": 22,
     "metadata": {},
     "output_type": "execute_result"
    }
   ],
   "source": [
    "tw_archive_clean.head()"
   ]
  },
  {
   "cell_type": "markdown",
   "metadata": {},
   "source": [
    "##### Define:"
   ]
  },
  {
   "cell_type": "markdown",
   "metadata": {},
   "source": [
    "Use pandas.melt function to get a single variable `dog_stage` from the four variables."
   ]
  },
  {
   "cell_type": "code",
   "execution_count": 23,
   "metadata": {},
   "outputs": [],
   "source": [
    "dog_stage_df = pd.melt(tw_archive_clean, id_vars=[\"tweet_id\"], \n",
    "                    value_vars=[\"doggo\", \"floofer\", \"pupper\", \"puppo\"],\n",
    "                   value_name=\"dog_stage\").dropna().drop(\"variable\", axis=1)\n",
    "tw_archive_clean = tw_archive_clean.merge(dog_stage_df, on=\"tweet_id\", how=\"left\")\n",
    "tw_archive_clean.dog_stage = tw_archive_clean.dog_stage.astype('category')\n",
    "tw_archive_clean.drop([\"doggo\", \"floofer\", \"pupper\", \"puppo\"], axis=1, inplace=True)\n"
   ]
  },
  {
   "cell_type": "markdown",
   "metadata": {},
   "source": [
    "##### Test:"
   ]
  },
  {
   "cell_type": "code",
   "execution_count": 24,
   "metadata": {},
   "outputs": [
    {
     "data": {
      "text/plain": [
       "pupper     255\n",
       "doggo       96\n",
       "puppo       30\n",
       "floofer     10\n",
       "Name: dog_stage, dtype: int64"
      ]
     },
     "execution_count": 24,
     "metadata": {},
     "output_type": "execute_result"
    }
   ],
   "source": [
    "tw_archive_clean.dog_stage.value_counts()"
   ]
  },
  {
   "cell_type": "markdown",
   "metadata": {},
   "source": [
    "##### Define:\n",
    "Some tweets had multiple dog stages. This might have happened if the tweet contained two or more of the keywords. As it is very difficult to determine where in the text the original dog stage might occur, consider the first stage as true and discard duplicates."
   ]
  },
  {
   "cell_type": "markdown",
   "metadata": {},
   "source": [
    "##### Code:"
   ]
  },
  {
   "cell_type": "code",
   "execution_count": 25,
   "metadata": {},
   "outputs": [],
   "source": [
    "tw_archive_clean.drop_duplicates(subset=\"tweet_id\", inplace=True)"
   ]
  },
  {
   "cell_type": "markdown",
   "metadata": {},
   "source": [
    "##### Test:"
   ]
  },
  {
   "cell_type": "code",
   "execution_count": 26,
   "metadata": {},
   "outputs": [
    {
     "data": {
      "text/plain": [
       "False"
      ]
     },
     "execution_count": 26,
     "metadata": {},
     "output_type": "execute_result"
    }
   ],
   "source": [
    "tw_archive_clean.duplicated(subset=[\"tweet_id\"]).any()"
   ]
  },
  {
   "cell_type": "markdown",
   "metadata": {},
   "source": [
    "##### Define:\n",
    "Short URL is with tweet text. Use Regular expressions to remove it from the text column and create a new `short_URL` column."
   ]
  },
  {
   "cell_type": "markdown",
   "metadata": {},
   "source": [
    "##### Code"
   ]
  },
  {
   "cell_type": "code",
   "execution_count": 27,
   "metadata": {},
   "outputs": [],
   "source": [
    "s_url = re.compile(r\"(https://t.co/.{10})\")\n",
    "tw_archive_clean[\"short_url\"] = tw_archive_clean.text.str.extract(s_url)\n",
    "tw_archive_clean.text = tw_archive_clean.text.str.replace(s_url, \"\")"
   ]
  },
  {
   "cell_type": "markdown",
   "metadata": {},
   "source": [
    "##### Test:"
   ]
  },
  {
   "cell_type": "code",
   "execution_count": 28,
   "metadata": {},
   "outputs": [
    {
     "data": {
      "text/html": [
       "<div>\n",
       "<style scoped>\n",
       "    .dataframe tbody tr th:only-of-type {\n",
       "        vertical-align: middle;\n",
       "    }\n",
       "\n",
       "    .dataframe tbody tr th {\n",
       "        vertical-align: top;\n",
       "    }\n",
       "\n",
       "    .dataframe thead th {\n",
       "        text-align: right;\n",
       "    }\n",
       "</style>\n",
       "<table border=\"1\" class=\"dataframe\">\n",
       "  <thead>\n",
       "    <tr style=\"text-align: right;\">\n",
       "      <th></th>\n",
       "      <th>tweet_id</th>\n",
       "      <th>short_url</th>\n",
       "      <th>text</th>\n",
       "    </tr>\n",
       "  </thead>\n",
       "  <tbody>\n",
       "    <tr>\n",
       "      <th>423</th>\n",
       "      <td>820837357901512704</td>\n",
       "      <td>NaN</td>\n",
       "      <td>RT @dog_rates: This is Finn. He's wondering if...</td>\n",
       "    </tr>\n",
       "    <tr>\n",
       "      <th>1280</th>\n",
       "      <td>708810915978854401</td>\n",
       "      <td>https://t.co/2KcuJXL2r4</td>\n",
       "      <td>This is Mister. He's a wonderful father to his...</td>\n",
       "    </tr>\n",
       "    <tr>\n",
       "      <th>531</th>\n",
       "      <td>806629075125202948</td>\n",
       "      <td>https://t.co/f1h2Fsalv9</td>\n",
       "      <td>\"Good afternoon class today we're going to lea...</td>\n",
       "    </tr>\n",
       "    <tr>\n",
       "      <th>193</th>\n",
       "      <td>854365224396361728</td>\n",
       "      <td>https://t.co/mdaQhhfpv6</td>\n",
       "      <td>This is Einstein. He's having a really good da...</td>\n",
       "    </tr>\n",
       "    <tr>\n",
       "      <th>1647</th>\n",
       "      <td>683773439333797890</td>\n",
       "      <td>https://t.co/qipZbshNsR</td>\n",
       "      <td>This is Buddy. He's gaining strength. Currentl...</td>\n",
       "    </tr>\n",
       "    <tr>\n",
       "      <th>914</th>\n",
       "      <td>756939218950160384</td>\n",
       "      <td>https://t.co/KGdeHuFJnH</td>\n",
       "      <td>This is Jax. He is a majestic mountain pupper....</td>\n",
       "    </tr>\n",
       "    <tr>\n",
       "      <th>1463</th>\n",
       "      <td>694356675654983680</td>\n",
       "      <td>https://t.co/SQsEBWxPyG</td>\n",
       "      <td>This pupper only appears through the hole of a...</td>\n",
       "    </tr>\n",
       "    <tr>\n",
       "      <th>1497</th>\n",
       "      <td>692417313023332352</td>\n",
       "      <td>https://t.co/VGaIMktX10</td>\n",
       "      <td>Meet Herschel. He's slightly bigger than ur av...</td>\n",
       "    </tr>\n",
       "    <tr>\n",
       "      <th>616</th>\n",
       "      <td>796116448414461957</td>\n",
       "      <td>https://t.co/7i0bDMbrVN</td>\n",
       "      <td>I didn't believe it at first but now I can see...</td>\n",
       "    </tr>\n",
       "    <tr>\n",
       "      <th>1394</th>\n",
       "      <td>699801817392291840</td>\n",
       "      <td>https://t.co/qI8yvqKG02</td>\n",
       "      <td>This is Cooper. He began to tear up when his b...</td>\n",
       "    </tr>\n",
       "  </tbody>\n",
       "</table>\n",
       "</div>"
      ],
      "text/plain": [
       "                tweet_id                short_url  \\\n",
       "423   820837357901512704                      NaN   \n",
       "1280  708810915978854401  https://t.co/2KcuJXL2r4   \n",
       "531   806629075125202948  https://t.co/f1h2Fsalv9   \n",
       "193   854365224396361728  https://t.co/mdaQhhfpv6   \n",
       "1647  683773439333797890  https://t.co/qipZbshNsR   \n",
       "914   756939218950160384  https://t.co/KGdeHuFJnH   \n",
       "1463  694356675654983680  https://t.co/SQsEBWxPyG   \n",
       "1497  692417313023332352  https://t.co/VGaIMktX10   \n",
       "616   796116448414461957  https://t.co/7i0bDMbrVN   \n",
       "1394  699801817392291840  https://t.co/qI8yvqKG02   \n",
       "\n",
       "                                                   text  \n",
       "423   RT @dog_rates: This is Finn. He's wondering if...  \n",
       "1280  This is Mister. He's a wonderful father to his...  \n",
       "531   \"Good afternoon class today we're going to lea...  \n",
       "193   This is Einstein. He's having a really good da...  \n",
       "1647  This is Buddy. He's gaining strength. Currentl...  \n",
       "914   This is Jax. He is a majestic mountain pupper....  \n",
       "1463  This pupper only appears through the hole of a...  \n",
       "1497  Meet Herschel. He's slightly bigger than ur av...  \n",
       "616   I didn't believe it at first but now I can see...  \n",
       "1394  This is Cooper. He began to tear up when his b...  "
      ]
     },
     "execution_count": 28,
     "metadata": {},
     "output_type": "execute_result"
    }
   ],
   "source": [
    "tw_archive_clean[[\"tweet_id\", \"short_url\", \"text\"]].sample(10)"
   ]
  },
  {
   "cell_type": "markdown",
   "metadata": {},
   "source": [
    "##### Define\n",
    "Some columns in the tables are of incorrect datatypes. Correct them as follows: <br>\n",
    "\n",
    "`tw_archive` table:<br>\n",
    " - `timestamp`: DateTime<br>\n",
    " - `retweeted_status_timestamp`: DateTime<br>\n",
    " \n",
    "`im_predict` table:<br>\n",
    " - `p1`, `p2`, `p3`: Category"
   ]
  },
  {
   "cell_type": "code",
   "execution_count": 29,
   "metadata": {},
   "outputs": [],
   "source": [
    "tw_archive_clean.timestamp = pd.to_datetime(tw_archive_clean.timestamp)\n",
    "tw_archive_clean.retweeted_status_timestamp = pd.to_datetime(tw_archive_clean.retweeted_status_timestamp)"
   ]
  },
  {
   "cell_type": "code",
   "execution_count": 30,
   "metadata": {},
   "outputs": [],
   "source": [
    "im_predict_clean.p1 = im_predict_clean.p1.astype('category')\n",
    "im_predict_clean.p2 = im_predict_clean.p2.astype('category')\n",
    "im_predict_clean.p3 = im_predict_clean.p3.astype('category')"
   ]
  },
  {
   "cell_type": "markdown",
   "metadata": {},
   "source": [
    "##### Test:"
   ]
  },
  {
   "cell_type": "code",
   "execution_count": 31,
   "metadata": {},
   "outputs": [
    {
     "name": "stdout",
     "output_type": "stream",
     "text": [
      "<class 'pandas.core.frame.DataFrame'>\n",
      "Int64Index: 2341 entries, 0 to 2354\n",
      "Data columns (total 18 columns):\n",
      "tweet_id                      2341 non-null object\n",
      "in_reply_to_status_id         78 non-null float64\n",
      "in_reply_to_user_id           78 non-null float64\n",
      "timestamp                     2341 non-null datetime64[ns]\n",
      "source                        2341 non-null object\n",
      "text                          2341 non-null object\n",
      "retweeted_status_id           167 non-null float64\n",
      "retweeted_status_user_id      167 non-null float64\n",
      "retweeted_status_timestamp    167 non-null datetime64[ns]\n",
      "expanded_urls                 2282 non-null object\n",
      "rating_numerator              2341 non-null int64\n",
      "rating_denominator            2341 non-null int64\n",
      "name                          1604 non-null object\n",
      "retweet_count                 2341 non-null int64\n",
      "favourite_count               2341 non-null int64\n",
      "tweet_type                    2341 non-null object\n",
      "dog_stage                     377 non-null category\n",
      "short_url                     2205 non-null object\n",
      "dtypes: category(1), datetime64[ns](2), float64(4), int64(4), object(7)\n",
      "memory usage: 331.7+ KB\n"
     ]
    }
   ],
   "source": [
    "tw_archive_clean.info()"
   ]
  },
  {
   "cell_type": "code",
   "execution_count": 32,
   "metadata": {},
   "outputs": [
    {
     "name": "stdout",
     "output_type": "stream",
     "text": [
      "<class 'pandas.core.frame.DataFrame'>\n",
      "RangeIndex: 2075 entries, 0 to 2074\n",
      "Data columns (total 12 columns):\n",
      "tweet_id    2075 non-null object\n",
      "jpg_url     2075 non-null object\n",
      "img_num     2075 non-null int64\n",
      "p1          2075 non-null category\n",
      "p1_conf     2075 non-null float64\n",
      "p1_dog      2075 non-null bool\n",
      "p2          2075 non-null category\n",
      "p2_conf     2075 non-null float64\n",
      "p2_dog      2075 non-null bool\n",
      "p3          2075 non-null category\n",
      "p3_conf     2075 non-null float64\n",
      "p3_dog      2075 non-null bool\n",
      "dtypes: bool(3), category(3), float64(3), int64(1), object(2)\n",
      "memory usage: 174.9+ KB\n"
     ]
    }
   ],
   "source": [
    "im_predict_clean.info()"
   ]
  },
  {
   "cell_type": "markdown",
   "metadata": {},
   "source": [
    "##### Define:\n",
    "Source of the tweet has has the entire HTML tag. Remove the redundant tags and only keep the text. `source` is also not very descriptive, so change column name to `tweet_source`."
   ]
  },
  {
   "cell_type": "markdown",
   "metadata": {},
   "source": [
    "##### Code:"
   ]
  },
  {
   "cell_type": "code",
   "execution_count": 33,
   "metadata": {},
   "outputs": [],
   "source": [
    "source_regex = re.compile(r\">(.+)<\")\n",
    "tw_archive_clean[\"tweet_source\"] = tw_archive_clean.source.str.extract(source_regex)\n",
    "tw_archive_clean.drop(\"source\", axis=1, inplace=True)"
   ]
  },
  {
   "cell_type": "markdown",
   "metadata": {},
   "source": [
    "##### Test:"
   ]
  },
  {
   "cell_type": "code",
   "execution_count": 34,
   "metadata": {},
   "outputs": [
    {
     "data": {
      "text/html": [
       "<div>\n",
       "<style scoped>\n",
       "    .dataframe tbody tr th:only-of-type {\n",
       "        vertical-align: middle;\n",
       "    }\n",
       "\n",
       "    .dataframe tbody tr th {\n",
       "        vertical-align: top;\n",
       "    }\n",
       "\n",
       "    .dataframe thead th {\n",
       "        text-align: right;\n",
       "    }\n",
       "</style>\n",
       "<table border=\"1\" class=\"dataframe\">\n",
       "  <thead>\n",
       "    <tr style=\"text-align: right;\">\n",
       "      <th></th>\n",
       "      <th>tweet_id</th>\n",
       "      <th>tweet_source</th>\n",
       "    </tr>\n",
       "  </thead>\n",
       "  <tbody>\n",
       "    <tr>\n",
       "      <th>1959</th>\n",
       "      <td>673363615379013632</td>\n",
       "      <td>Twitter for iPhone</td>\n",
       "    </tr>\n",
       "    <tr>\n",
       "      <th>89</th>\n",
       "      <td>874680097055178752</td>\n",
       "      <td>Twitter for iPhone</td>\n",
       "    </tr>\n",
       "    <tr>\n",
       "      <th>2208</th>\n",
       "      <td>668623201287675904</td>\n",
       "      <td>Twitter for iPhone</td>\n",
       "    </tr>\n",
       "    <tr>\n",
       "      <th>1539</th>\n",
       "      <td>689659372465688576</td>\n",
       "      <td>Twitter for iPhone</td>\n",
       "    </tr>\n",
       "    <tr>\n",
       "      <th>538</th>\n",
       "      <td>805932879469572096</td>\n",
       "      <td>Twitter for iPhone</td>\n",
       "    </tr>\n",
       "    <tr>\n",
       "      <th>637</th>\n",
       "      <td>793210959003287553</td>\n",
       "      <td>Twitter for iPhone</td>\n",
       "    </tr>\n",
       "    <tr>\n",
       "      <th>765</th>\n",
       "      <td>777621514455814149</td>\n",
       "      <td>Twitter for iPhone</td>\n",
       "    </tr>\n",
       "    <tr>\n",
       "      <th>473</th>\n",
       "      <td>815736392542261248</td>\n",
       "      <td>Twitter for iPhone</td>\n",
       "    </tr>\n",
       "    <tr>\n",
       "      <th>656</th>\n",
       "      <td>791026214425268224</td>\n",
       "      <td>Twitter for iPhone</td>\n",
       "    </tr>\n",
       "    <tr>\n",
       "      <th>2047</th>\n",
       "      <td>671511350426865664</td>\n",
       "      <td>Twitter for iPhone</td>\n",
       "    </tr>\n",
       "  </tbody>\n",
       "</table>\n",
       "</div>"
      ],
      "text/plain": [
       "                tweet_id        tweet_source\n",
       "1959  673363615379013632  Twitter for iPhone\n",
       "89    874680097055178752  Twitter for iPhone\n",
       "2208  668623201287675904  Twitter for iPhone\n",
       "1539  689659372465688576  Twitter for iPhone\n",
       "538   805932879469572096  Twitter for iPhone\n",
       "637   793210959003287553  Twitter for iPhone\n",
       "765   777621514455814149  Twitter for iPhone\n",
       "473   815736392542261248  Twitter for iPhone\n",
       "656   791026214425268224  Twitter for iPhone\n",
       "2047  671511350426865664  Twitter for iPhone"
      ]
     },
     "execution_count": 34,
     "metadata": {},
     "output_type": "execute_result"
    }
   ],
   "source": [
    "tw_archive_clean[[\"tweet_id\", \"tweet_source\"]].sample(10)"
   ]
  },
  {
   "cell_type": "markdown",
   "metadata": {},
   "source": [
    "### Quality"
   ]
  },
  {
   "cell_type": "markdown",
   "metadata": {},
   "source": [
    "##### Define:\n",
    "Some tweets have other fractions in the text. Use better regex to correct errors in rating_numerator and rating_denominator."
   ]
  },
  {
   "cell_type": "markdown",
   "metadata": {},
   "source": [
    "##### Code:"
   ]
  },
  {
   "cell_type": "code",
   "execution_count": 35,
   "metadata": {},
   "outputs": [],
   "source": [
    "rating_num_regex = re.compile(r\"(\\d+\\.?\\d?)\\/\\d\\d\\d?\")\n",
    "rating_den_regex = re.compile(r\"\\d+\\.?\\d?\\/(\\d\\d\\d?)\")\n",
    "tw_archive_clean.rating_numerator = tw_archive_clean.text.str.extract(rating_num_regex).astype(\"int32\", errors=\"ignore\")\n",
    "tw_archive_clean.rating_denominator = tw_archive_clean.text.str.extract(rating_den_regex).astype(\"int32\", errors=\"ignore\")\n"
   ]
  },
  {
   "cell_type": "markdown",
   "metadata": {},
   "source": [
    "##### Test:"
   ]
  },
  {
   "cell_type": "code",
   "execution_count": 36,
   "metadata": {},
   "outputs": [
    {
     "data": {
      "text/plain": [
       "12      553\n",
       "11      464\n",
       "10      461\n",
       "13      345\n",
       "9       158\n",
       "8       102\n",
       "7        54\n",
       "14       51\n",
       "5        35\n",
       "6        32\n",
       "3        19\n",
       "4        17\n",
       "2         9\n",
       "1         8\n",
       "15        2\n",
       "75        2\n",
       "0         2\n",
       "420       2\n",
       "007       1\n",
       "204       1\n",
       "1776      1\n",
       "60        1\n",
       "45        1\n",
       "26        1\n",
       "44        1\n",
       "27        1\n",
       "84        1\n",
       "20        1\n",
       "666       1\n",
       "80        1\n",
       "88        1\n",
       "143       1\n",
       "960       1\n",
       "13.5      1\n",
       "121       1\n",
       "9.5       1\n",
       "17        1\n",
       "99        1\n",
       "50        1\n",
       "144       1\n",
       "165       1\n",
       "182       1\n",
       "Name: rating_numerator, dtype: int64"
      ]
     },
     "execution_count": 36,
     "metadata": {},
     "output_type": "execute_result"
    }
   ],
   "source": [
    "tw_archive_clean.rating_numerator.value_counts()"
   ]
  },
  {
   "cell_type": "markdown",
   "metadata": {},
   "source": [
    "##### Define:\n",
    "`name` is sometimes an article or a preposition. Replace these with blanks.<br>\n",
    "`name` is also not a descriptive column header. Replace with `dog_name`."
   ]
  },
  {
   "cell_type": "markdown",
   "metadata": {},
   "source": [
    "##### Code"
   ]
  },
  {
   "cell_type": "code",
   "execution_count": 37,
   "metadata": {},
   "outputs": [],
   "source": [
    "bad_dog_names = [\"a\", \"with\", \"an\", \"the\", \"all\", 'Hk']\n",
    "dog_name_regex = r\"(?:^|(?<= ))\" + r'|'.join(bad_dog_names) + r\"(?:(?= )|$)\"\n",
    "tw_archive_clean[\"dog_name\"] = tw_archive_clean.name.str.replace(dog_name_regex, str(np.nan), regex=True)\n",
    "tw_archive_clean.drop(\"name\", axis=1, inplace=True) "
   ]
  },
  {
   "cell_type": "markdown",
   "metadata": {},
   "source": [
    "##### Test"
   ]
  },
  {
   "cell_type": "code",
   "execution_count": 38,
   "metadata": {},
   "outputs": [
    {
     "data": {
      "text/plain": [
       "False"
      ]
     },
     "execution_count": 38,
     "metadata": {},
     "output_type": "execute_result"
    }
   ],
   "source": [
    "tw_archive_clean.dog_name.isin(bad_dog_names).any()"
   ]
  },
  {
   "cell_type": "markdown",
   "metadata": {},
   "source": [
    "##### Define:\n",
    "`expanded_urls` sometimes have duplicated urls present seperated by commas. Since commas arent normally used in urls, everything after the comma, including it is deleted."
   ]
  },
  {
   "cell_type": "code",
   "execution_count": 39,
   "metadata": {},
   "outputs": [
    {
     "data": {
      "text/plain": [
       "'https://twitter.com/dog_rates/status/891327558926688256/photo/1,https://twitter.com/dog_rates/status/891327558926688256/photo/1'"
      ]
     },
     "execution_count": 39,
     "metadata": {},
     "output_type": "execute_result"
    }
   ],
   "source": [
    "tw_archive_clean.iloc[4].expanded_urls"
   ]
  },
  {
   "cell_type": "markdown",
   "metadata": {},
   "source": [
    "##### Code:"
   ]
  },
  {
   "cell_type": "code",
   "execution_count": 40,
   "metadata": {},
   "outputs": [],
   "source": [
    "tw_archive_clean.expanded_urls = tw_archive_clean.expanded_urls.str.replace(r\",.+\", \"\", regex=True)"
   ]
  },
  {
   "cell_type": "markdown",
   "metadata": {},
   "source": [
    "##### Test:\n"
   ]
  },
  {
   "cell_type": "code",
   "execution_count": 41,
   "metadata": {},
   "outputs": [
    {
     "data": {
      "text/plain": [
       "'https://twitter.com/dog_rates/status/891327558926688256/photo/1'"
      ]
     },
     "execution_count": 41,
     "metadata": {},
     "output_type": "execute_result"
    }
   ],
   "source": [
    "tw_archive_clean.iloc[4].expanded_urls"
   ]
  },
  {
   "cell_type": "markdown",
   "metadata": {},
   "source": [
    "##### Define:\n",
    "The `expanded_url` is missing for some tweets. Use the requests library to get the full URL of the tweet. The requests library will also handle any redirects that occur and give us the final URL."
   ]
  },
  {
   "cell_type": "markdown",
   "metadata": {},
   "source": [
    "##### Code:"
   ]
  },
  {
   "cell_type": "code",
   "execution_count": 42,
   "metadata": {},
   "outputs": [],
   "source": [
    "null_expn_urls = tw_archive_clean[pd.isnull(tw_archive_clean.expanded_urls)][\"tweet_id\"].tolist()\n",
    "t_url = r\"https://twitter.com/dog_rates/status/\"\n",
    "\n",
    "for tweet in null_expn_urls:\n",
    "    response = requests.get(t_url + str(tweet))\n",
    "    tw_archive_clean.loc[tw_archive_clean[\"tweet_id\"]==tweet, \"expanded_urls\"] = response.url"
   ]
  },
  {
   "cell_type": "markdown",
   "metadata": {},
   "source": [
    "##### Test:"
   ]
  },
  {
   "cell_type": "code",
   "execution_count": 43,
   "metadata": {},
   "outputs": [
    {
     "data": {
      "text/plain": [
       "False"
      ]
     },
     "execution_count": 43,
     "metadata": {},
     "output_type": "execute_result"
    }
   ],
   "source": [
    "pd.isnull(tw_archive_clean.expanded_urls).any()"
   ]
  },
  {
   "cell_type": "markdown",
   "metadata": {},
   "source": [
    "##### Define:\n",
    "The words in `p1`, `p2`, `p3`, columns in `im_predict` table are seperated by underscores (\\_). Replace the underscores with spaces. <br>\n",
    "The first letters of each word should also be be capatalised for consistency."
   ]
  },
  {
   "cell_type": "markdown",
   "metadata": {},
   "source": [
    "##### Code:"
   ]
  },
  {
   "cell_type": "code",
   "execution_count": 44,
   "metadata": {},
   "outputs": [],
   "source": [
    "im_predict_clean.p1 = im_predict_clean.p1.str.replace(r\"_\", \" \", regex=True).str.title()\n",
    "im_predict_clean.p2 = im_predict_clean.p2.str.replace(r\"_\", \" \", regex=True).str.title()\n",
    "im_predict_clean.p3 = im_predict_clean.p3.str.replace(r\"_\", \" \", regex=True).str.title()"
   ]
  },
  {
   "cell_type": "markdown",
   "metadata": {},
   "source": [
    "##### Test:"
   ]
  },
  {
   "cell_type": "code",
   "execution_count": 45,
   "metadata": {},
   "outputs": [
    {
     "data": {
      "text/html": [
       "<div>\n",
       "<style scoped>\n",
       "    .dataframe tbody tr th:only-of-type {\n",
       "        vertical-align: middle;\n",
       "    }\n",
       "\n",
       "    .dataframe tbody tr th {\n",
       "        vertical-align: top;\n",
       "    }\n",
       "\n",
       "    .dataframe thead th {\n",
       "        text-align: right;\n",
       "    }\n",
       "</style>\n",
       "<table border=\"1\" class=\"dataframe\">\n",
       "  <thead>\n",
       "    <tr style=\"text-align: right;\">\n",
       "      <th></th>\n",
       "      <th>p1</th>\n",
       "      <th>p2</th>\n",
       "      <th>p3</th>\n",
       "    </tr>\n",
       "  </thead>\n",
       "  <tbody>\n",
       "    <tr>\n",
       "      <th>1754</th>\n",
       "      <td>Border Terrier</td>\n",
       "      <td>Malinois</td>\n",
       "      <td>Airedale</td>\n",
       "    </tr>\n",
       "    <tr>\n",
       "      <th>286</th>\n",
       "      <td>Rottweiler</td>\n",
       "      <td>Black-And-Tan Coonhound</td>\n",
       "      <td>Kelpie</td>\n",
       "    </tr>\n",
       "    <tr>\n",
       "      <th>1750</th>\n",
       "      <td>Schipperke</td>\n",
       "      <td>Curly-Coated Retriever</td>\n",
       "      <td>Labrador Retriever</td>\n",
       "    </tr>\n",
       "    <tr>\n",
       "      <th>11</th>\n",
       "      <td>Gordon Setter</td>\n",
       "      <td>Yorkshire Terrier</td>\n",
       "      <td>Pekinese</td>\n",
       "    </tr>\n",
       "    <tr>\n",
       "      <th>195</th>\n",
       "      <td>Candle</td>\n",
       "      <td>Lampshade</td>\n",
       "      <td>Plunger</td>\n",
       "    </tr>\n",
       "    <tr>\n",
       "      <th>870</th>\n",
       "      <td>Washbasin</td>\n",
       "      <td>Paper Towel</td>\n",
       "      <td>Toilet Tissue</td>\n",
       "    </tr>\n",
       "    <tr>\n",
       "      <th>1603</th>\n",
       "      <td>Golden Retriever</td>\n",
       "      <td>Kuvasz</td>\n",
       "      <td>Labrador Retriever</td>\n",
       "    </tr>\n",
       "    <tr>\n",
       "      <th>85</th>\n",
       "      <td>Beagle</td>\n",
       "      <td>Labrador Retriever</td>\n",
       "      <td>Golden Retriever</td>\n",
       "    </tr>\n",
       "    <tr>\n",
       "      <th>980</th>\n",
       "      <td>Bernese Mountain Dog</td>\n",
       "      <td>Shetland Sheepdog</td>\n",
       "      <td>Appenzeller</td>\n",
       "    </tr>\n",
       "    <tr>\n",
       "      <th>276</th>\n",
       "      <td>Shih-Tzu</td>\n",
       "      <td>Lhasa</td>\n",
       "      <td>Guinea Pig</td>\n",
       "    </tr>\n",
       "  </tbody>\n",
       "</table>\n",
       "</div>"
      ],
      "text/plain": [
       "                        p1                       p2                  p3\n",
       "1754        Border Terrier                 Malinois            Airedale\n",
       "286             Rottweiler  Black-And-Tan Coonhound              Kelpie\n",
       "1750            Schipperke   Curly-Coated Retriever  Labrador Retriever\n",
       "11           Gordon Setter        Yorkshire Terrier            Pekinese\n",
       "195                 Candle                Lampshade             Plunger\n",
       "870              Washbasin              Paper Towel       Toilet Tissue\n",
       "1603      Golden Retriever                   Kuvasz  Labrador Retriever\n",
       "85                  Beagle       Labrador Retriever    Golden Retriever\n",
       "980   Bernese Mountain Dog        Shetland Sheepdog         Appenzeller\n",
       "276               Shih-Tzu                    Lhasa          Guinea Pig"
      ]
     },
     "execution_count": 45,
     "metadata": {},
     "output_type": "execute_result"
    }
   ],
   "source": [
    "im_predict_clean[[\"p1\", \"p2\", \"p3\"]].sample(10)"
   ]
  },
  {
   "cell_type": "markdown",
   "metadata": {},
   "source": [
    "##### Define:\n",
    "Rating numerator for tweet_id 695064344191721472 and 722974582966214656 is 13 and not 4."
   ]
  },
  {
   "cell_type": "markdown",
   "metadata": {},
   "source": [
    "##### Code:"
   ]
  },
  {
   "cell_type": "code",
   "execution_count": 46,
   "metadata": {},
   "outputs": [],
   "source": [
    "tw_archive_clean.loc[tw_archive_clean.tweet_id == \"695064344191721472\", \"rating_numerator\"] = 13\n",
    "tw_archive_clean.loc[tw_archive_clean.tweet_id == \"722974582966214656\", \"rating_numerator\"] = 13"
   ]
  },
  {
   "cell_type": "markdown",
   "metadata": {},
   "source": [
    "##### Test:"
   ]
  },
  {
   "cell_type": "code",
   "execution_count": 47,
   "metadata": {},
   "outputs": [
    {
     "data": {
      "text/html": [
       "<div>\n",
       "<style scoped>\n",
       "    .dataframe tbody tr th:only-of-type {\n",
       "        vertical-align: middle;\n",
       "    }\n",
       "\n",
       "    .dataframe tbody tr th {\n",
       "        vertical-align: top;\n",
       "    }\n",
       "\n",
       "    .dataframe thead th {\n",
       "        text-align: right;\n",
       "    }\n",
       "</style>\n",
       "<table border=\"1\" class=\"dataframe\">\n",
       "  <thead>\n",
       "    <tr style=\"text-align: right;\">\n",
       "      <th></th>\n",
       "      <th>tweet_id</th>\n",
       "      <th>in_reply_to_status_id</th>\n",
       "      <th>in_reply_to_user_id</th>\n",
       "      <th>timestamp</th>\n",
       "      <th>text</th>\n",
       "      <th>retweeted_status_id</th>\n",
       "      <th>retweeted_status_user_id</th>\n",
       "      <th>retweeted_status_timestamp</th>\n",
       "      <th>expanded_urls</th>\n",
       "      <th>rating_numerator</th>\n",
       "      <th>rating_denominator</th>\n",
       "      <th>retweet_count</th>\n",
       "      <th>favourite_count</th>\n",
       "      <th>tweet_type</th>\n",
       "      <th>dog_stage</th>\n",
       "      <th>short_url</th>\n",
       "      <th>tweet_source</th>\n",
       "      <th>dog_name</th>\n",
       "    </tr>\n",
       "  </thead>\n",
       "  <tbody>\n",
       "    <tr>\n",
       "      <th>1164</th>\n",
       "      <td>722974582966214656</td>\n",
       "      <td>NaN</td>\n",
       "      <td>NaN</td>\n",
       "      <td>2016-04-21 02:25:47</td>\n",
       "      <td>Happy 4/20 from the squad! 13/10 for all</td>\n",
       "      <td>NaN</td>\n",
       "      <td>NaN</td>\n",
       "      <td>NaT</td>\n",
       "      <td>https://twitter.com/dog_rates/status/722974582...</td>\n",
       "      <td>13</td>\n",
       "      <td>20</td>\n",
       "      <td>1695</td>\n",
       "      <td>4340</td>\n",
       "      <td>original</td>\n",
       "      <td>NaN</td>\n",
       "      <td>https://t.co/eV1diwds8a</td>\n",
       "      <td>Twitter for iPhone</td>\n",
       "      <td>NaN</td>\n",
       "    </tr>\n",
       "    <tr>\n",
       "      <th>1458</th>\n",
       "      <td>695064344191721472</td>\n",
       "      <td>NaN</td>\n",
       "      <td>NaN</td>\n",
       "      <td>2016-02-04 02:00:27</td>\n",
       "      <td>This may be the greatest video I've ever been ...</td>\n",
       "      <td>NaN</td>\n",
       "      <td>NaN</td>\n",
       "      <td>NaT</td>\n",
       "      <td>https://twitter.com/dog_rates/status/695064344...</td>\n",
       "      <td>13</td>\n",
       "      <td>10</td>\n",
       "      <td>652</td>\n",
       "      <td>1707</td>\n",
       "      <td>original</td>\n",
       "      <td>NaN</td>\n",
       "      <td>https://t.co/uaJmNgXR2P</td>\n",
       "      <td>Twitter for iPhone</td>\n",
       "      <td>NaN</td>\n",
       "    </tr>\n",
       "  </tbody>\n",
       "</table>\n",
       "</div>"
      ],
      "text/plain": [
       "                tweet_id  in_reply_to_status_id  in_reply_to_user_id  \\\n",
       "1164  722974582966214656                    NaN                  NaN   \n",
       "1458  695064344191721472                    NaN                  NaN   \n",
       "\n",
       "               timestamp                                               text  \\\n",
       "1164 2016-04-21 02:25:47          Happy 4/20 from the squad! 13/10 for all    \n",
       "1458 2016-02-04 02:00:27  This may be the greatest video I've ever been ...   \n",
       "\n",
       "      retweeted_status_id  retweeted_status_user_id  \\\n",
       "1164                  NaN                       NaN   \n",
       "1458                  NaN                       NaN   \n",
       "\n",
       "     retweeted_status_timestamp  \\\n",
       "1164                        NaT   \n",
       "1458                        NaT   \n",
       "\n",
       "                                          expanded_urls rating_numerator  \\\n",
       "1164  https://twitter.com/dog_rates/status/722974582...               13   \n",
       "1458  https://twitter.com/dog_rates/status/695064344...               13   \n",
       "\n",
       "     rating_denominator  retweet_count  favourite_count tweet_type dog_stage  \\\n",
       "1164                 20           1695             4340   original       NaN   \n",
       "1458                 10            652             1707   original       NaN   \n",
       "\n",
       "                    short_url        tweet_source dog_name  \n",
       "1164  https://t.co/eV1diwds8a  Twitter for iPhone      NaN  \n",
       "1458  https://t.co/uaJmNgXR2P  Twitter for iPhone      NaN  "
      ]
     },
     "execution_count": 47,
     "metadata": {},
     "output_type": "execute_result"
    }
   ],
   "source": [
    "tw_archive_clean.loc[tw_archive_clean.tweet_id.isin([\"695064344191721472\", \"722974582966214656\"])]"
   ]
  },
  {
   "cell_type": "markdown",
   "metadata": {},
   "source": [
    "Going forward, I need a combined dataset of `tw_archive_clean` and `im_predict_clean`. There's also some columns in the `tw_archive_clean` dataset that arent necessary for our analysis. <br>\n",
    "These columns are not necessarily useless, so I will first save the cleaned tables as csv files. While combining the datasets, I'd like to only get tweets that are of dogs. All other tweets are not needed and will be dropped."
   ]
  },
  {
   "cell_type": "code",
   "execution_count": 48,
   "metadata": {},
   "outputs": [],
   "source": [
    "tw_archive_clean.to_csv(\"datasets/cleaned/twitter-archive-cleaned.csv\", index=False)\n",
    "im_predict_clean.to_csv(\"datasets/cleaned/image-predictions-cleaned.csv\", index=False)"
   ]
  },
  {
   "cell_type": "code",
   "execution_count": 49,
   "metadata": {},
   "outputs": [],
   "source": [
    "tw_archive_clean = pd.read_csv(\"datasets/cleaned/twitter-archive-cleaned.csv\")\n",
    "im_predict_clean = pd.read_csv(\"datasets/cleaned/image-predictions-cleaned.csv\")"
   ]
  },
  {
   "cell_type": "markdown",
   "metadata": {},
   "source": [
    "##### Define:\n",
    "The datasets contain columns that are not required for our analysis. I will drop all such columns.<br>\n",
    "`tw_archive` table:\n",
    " - expanded_urls\n",
    " - in_reply_to_status_id\n",
    " - in_reply_to_user_id\n",
    " - rating_denominator\n",
    " - retweeted_status_id\n",
    " - retweeted_status_user_id\n",
    " - retweeted_status_timestamp\n",
    " - tweet_type\n",
    " - short_url\n",
    " - tweet_source\n",
    " \n",
    "Also, any tweet that is not \"original\" is not required. Therefore drop all retweets and replies."
   ]
  },
  {
   "cell_type": "markdown",
   "metadata": {},
   "source": [
    "##### Code:"
   ]
  },
  {
   "cell_type": "code",
   "execution_count": 50,
   "metadata": {},
   "outputs": [],
   "source": [
    "tw_archive_clean = tw_archive_clean[tw_archive_clean.tweet_type == \"original\"]\n",
    "tw_archive_clean.drop([\"expanded_urls\",\n",
    "                       \"in_reply_to_status_id\",\n",
    "                       \"in_reply_to_user_id\",\n",
    "                       \"rating_denominator\",\n",
    "                       \"retweeted_status_id\",\n",
    "                       \"retweeted_status_user_id\",\n",
    "                       \"retweeted_status_timestamp\",\n",
    "                       \"tweet_type\",\n",
    "                       \"short_url\",\n",
    "                       \"tweet_source\"], axis=1, inplace=True)\n"
   ]
  },
  {
   "cell_type": "markdown",
   "metadata": {},
   "source": [
    "##### Test:"
   ]
  },
  {
   "cell_type": "code",
   "execution_count": 51,
   "metadata": {},
   "outputs": [
    {
     "name": "stdout",
     "output_type": "stream",
     "text": [
      "<class 'pandas.core.frame.DataFrame'>\n",
      "Int64Index: 2151 entries, 0 to 2340\n",
      "Data columns (total 8 columns):\n",
      "tweet_id            2151 non-null int64\n",
      "timestamp           2151 non-null object\n",
      "text                2151 non-null object\n",
      "rating_numerator    2150 non-null float64\n",
      "retweet_count       2151 non-null int64\n",
      "favourite_count     2151 non-null int64\n",
      "dog_stage           342 non-null object\n",
      "dog_name            1431 non-null object\n",
      "dtypes: float64(1), int64(3), object(4)\n",
      "memory usage: 151.2+ KB\n"
     ]
    }
   ],
   "source": [
    "tw_archive_clean.info()"
   ]
  },
  {
   "cell_type": "markdown",
   "metadata": {},
   "source": [
    "##### Define\n",
    "the im_predict table contain no dogs at all. \n",
    "The `im_predict` table contains predictions of dog breeds contained in the media. It also contains tweets with no dogs at all. As I am interested in dogs only, I will only add the dog breed with the highest confidence value; i.e. the p_conf values of each prediction."
   ]
  },
  {
   "cell_type": "markdown",
   "metadata": {},
   "source": [
    "##### Code:"
   ]
  },
  {
   "cell_type": "code",
   "execution_count": 52,
   "metadata": {},
   "outputs": [],
   "source": [
    "im_predict_clean = im_predict_clean[im_predict_clean[[\"p1_dog\", \"p2_dog\", \"p3_dog\"]].any(axis=1)]\n",
    "dog_breed_list = []\n",
    "for index, tweet in im_predict_clean.iterrows():\n",
    "    if tweet.p1_dog:\n",
    "        dog_breed = tweet.p1\n",
    "        conf = tweet.p1_conf\n",
    "\n",
    "    elif tweet.p2_dog:\n",
    "        dog_breed = tweet.p2\n",
    "        conf = tweet.p2_conf\n",
    "        \n",
    "    elif tweet.p3_dog:\n",
    "        dog_breed = tweet.p3\n",
    "        conf = tweet.p3_conf\n",
    "        \n",
    "    dog_breed_list.append({\"tweet_id\": tweet.tweet_id,\n",
    "                           \"dog_breed\": dog_breed,\n",
    "                           \"breed_confidence\": conf,\n",
    "                           \"jpg_url\": tweet.jpg_url})\n",
    "dog_breed_df = pd.DataFrame(dog_breed_list, columns=[\"tweet_id\", \"dog_breed\", \"breed_confidence\", \"jpg_url\"])"
   ]
  },
  {
   "cell_type": "markdown",
   "metadata": {},
   "source": [
    "##### Test"
   ]
  },
  {
   "cell_type": "code",
   "execution_count": 53,
   "metadata": {},
   "outputs": [
    {
     "data": {
      "text/html": [
       "<div>\n",
       "<style scoped>\n",
       "    .dataframe tbody tr th:only-of-type {\n",
       "        vertical-align: middle;\n",
       "    }\n",
       "\n",
       "    .dataframe tbody tr th {\n",
       "        vertical-align: top;\n",
       "    }\n",
       "\n",
       "    .dataframe thead th {\n",
       "        text-align: right;\n",
       "    }\n",
       "</style>\n",
       "<table border=\"1\" class=\"dataframe\">\n",
       "  <thead>\n",
       "    <tr style=\"text-align: right;\">\n",
       "      <th></th>\n",
       "      <th>tweet_id</th>\n",
       "      <th>dog_breed</th>\n",
       "      <th>breed_confidence</th>\n",
       "      <th>jpg_url</th>\n",
       "    </tr>\n",
       "  </thead>\n",
       "  <tbody>\n",
       "    <tr>\n",
       "      <th>0</th>\n",
       "      <td>666020888022790149</td>\n",
       "      <td>Welsh Springer Spaniel</td>\n",
       "      <td>0.465074</td>\n",
       "      <td>https://pbs.twimg.com/media/CT4udn0WwAA0aMy.jpg</td>\n",
       "    </tr>\n",
       "    <tr>\n",
       "      <th>1</th>\n",
       "      <td>666029285002620928</td>\n",
       "      <td>Redbone</td>\n",
       "      <td>0.506826</td>\n",
       "      <td>https://pbs.twimg.com/media/CT42GRgUYAA5iDo.jpg</td>\n",
       "    </tr>\n",
       "    <tr>\n",
       "      <th>2</th>\n",
       "      <td>666033412701032449</td>\n",
       "      <td>German Shepherd</td>\n",
       "      <td>0.596461</td>\n",
       "      <td>https://pbs.twimg.com/media/CT4521TWwAEvMyu.jpg</td>\n",
       "    </tr>\n",
       "    <tr>\n",
       "      <th>3</th>\n",
       "      <td>666044226329800704</td>\n",
       "      <td>Rhodesian Ridgeback</td>\n",
       "      <td>0.408143</td>\n",
       "      <td>https://pbs.twimg.com/media/CT5Dr8HUEAA-lEu.jpg</td>\n",
       "    </tr>\n",
       "    <tr>\n",
       "      <th>4</th>\n",
       "      <td>666049248165822465</td>\n",
       "      <td>Miniature Pinscher</td>\n",
       "      <td>0.560311</td>\n",
       "      <td>https://pbs.twimg.com/media/CT5IQmsXIAAKY4A.jpg</td>\n",
       "    </tr>\n",
       "    <tr>\n",
       "      <th>5</th>\n",
       "      <td>666050758794694657</td>\n",
       "      <td>Bernese Mountain Dog</td>\n",
       "      <td>0.651137</td>\n",
       "      <td>https://pbs.twimg.com/media/CT5Jof1WUAEuVxN.jpg</td>\n",
       "    </tr>\n",
       "    <tr>\n",
       "      <th>6</th>\n",
       "      <td>666055525042405380</td>\n",
       "      <td>Chow</td>\n",
       "      <td>0.692517</td>\n",
       "      <td>https://pbs.twimg.com/media/CT5N9tpXIAAifs1.jpg</td>\n",
       "    </tr>\n",
       "    <tr>\n",
       "      <th>7</th>\n",
       "      <td>666057090499244032</td>\n",
       "      <td>Golden Retriever</td>\n",
       "      <td>0.007959</td>\n",
       "      <td>https://pbs.twimg.com/media/CT5PY90WoAAQGLo.jpg</td>\n",
       "    </tr>\n",
       "    <tr>\n",
       "      <th>8</th>\n",
       "      <td>666058600524156928</td>\n",
       "      <td>Miniature Poodle</td>\n",
       "      <td>0.201493</td>\n",
       "      <td>https://pbs.twimg.com/media/CT5Qw94XAAA_2dP.jpg</td>\n",
       "    </tr>\n",
       "    <tr>\n",
       "      <th>9</th>\n",
       "      <td>666063827256086533</td>\n",
       "      <td>Golden Retriever</td>\n",
       "      <td>0.775930</td>\n",
       "      <td>https://pbs.twimg.com/media/CT5Vg_wXIAAXfnj.jpg</td>\n",
       "    </tr>\n",
       "  </tbody>\n",
       "</table>\n",
       "</div>"
      ],
      "text/plain": [
       "             tweet_id               dog_breed  breed_confidence  \\\n",
       "0  666020888022790149  Welsh Springer Spaniel          0.465074   \n",
       "1  666029285002620928                 Redbone          0.506826   \n",
       "2  666033412701032449         German Shepherd          0.596461   \n",
       "3  666044226329800704     Rhodesian Ridgeback          0.408143   \n",
       "4  666049248165822465      Miniature Pinscher          0.560311   \n",
       "5  666050758794694657    Bernese Mountain Dog          0.651137   \n",
       "6  666055525042405380                    Chow          0.692517   \n",
       "7  666057090499244032        Golden Retriever          0.007959   \n",
       "8  666058600524156928        Miniature Poodle          0.201493   \n",
       "9  666063827256086533        Golden Retriever          0.775930   \n",
       "\n",
       "                                           jpg_url  \n",
       "0  https://pbs.twimg.com/media/CT4udn0WwAA0aMy.jpg  \n",
       "1  https://pbs.twimg.com/media/CT42GRgUYAA5iDo.jpg  \n",
       "2  https://pbs.twimg.com/media/CT4521TWwAEvMyu.jpg  \n",
       "3  https://pbs.twimg.com/media/CT5Dr8HUEAA-lEu.jpg  \n",
       "4  https://pbs.twimg.com/media/CT5IQmsXIAAKY4A.jpg  \n",
       "5  https://pbs.twimg.com/media/CT5Jof1WUAEuVxN.jpg  \n",
       "6  https://pbs.twimg.com/media/CT5N9tpXIAAifs1.jpg  \n",
       "7  https://pbs.twimg.com/media/CT5PY90WoAAQGLo.jpg  \n",
       "8  https://pbs.twimg.com/media/CT5Qw94XAAA_2dP.jpg  \n",
       "9  https://pbs.twimg.com/media/CT5Vg_wXIAAXfnj.jpg  "
      ]
     },
     "execution_count": 53,
     "metadata": {},
     "output_type": "execute_result"
    }
   ],
   "source": [
    "dog_breed_df.head(10)"
   ]
  },
  {
   "cell_type": "markdown",
   "metadata": {},
   "source": [
    "##### Define:\n",
    "Create a `tw_archive_master` table with all the important columns. Use inner join on the `tw_archive` table and ``dog_breed_df` table"
   ]
  },
  {
   "cell_type": "markdown",
   "metadata": {},
   "source": [
    "##### Code:"
   ]
  },
  {
   "cell_type": "code",
   "execution_count": 54,
   "metadata": {},
   "outputs": [],
   "source": [
    "tw_archive_master = tw_archive_clean.merge(dog_breed_df, how=\"inner\", on=\"tweet_id\")\n",
    "tw_archive_master.tweet_id = tw_archive_master.tweet_id.astype(str)\n",
    "tw_archive_master = tw_archive_master[['timestamp',\n",
    "                                       'dog_name', \n",
    "                                       'rating_numerator', \n",
    "                                       'dog_breed', \n",
    "                                       'dog_stage',\n",
    "                                       'tweet_id',\n",
    "                                       'text', \n",
    "                                       'retweet_count', \n",
    "                                       'favourite_count', \n",
    "                                       'breed_confidence', \n",
    "                                       'jpg_url']]"
   ]
  },
  {
   "cell_type": "markdown",
   "metadata": {},
   "source": [
    "##### Test:"
   ]
  },
  {
   "cell_type": "code",
   "execution_count": 55,
   "metadata": {},
   "outputs": [
    {
     "data": {
      "text/html": [
       "<div>\n",
       "<style scoped>\n",
       "    .dataframe tbody tr th:only-of-type {\n",
       "        vertical-align: middle;\n",
       "    }\n",
       "\n",
       "    .dataframe tbody tr th {\n",
       "        vertical-align: top;\n",
       "    }\n",
       "\n",
       "    .dataframe thead th {\n",
       "        text-align: right;\n",
       "    }\n",
       "</style>\n",
       "<table border=\"1\" class=\"dataframe\">\n",
       "  <thead>\n",
       "    <tr style=\"text-align: right;\">\n",
       "      <th></th>\n",
       "      <th>timestamp</th>\n",
       "      <th>dog_name</th>\n",
       "      <th>rating_numerator</th>\n",
       "      <th>dog_breed</th>\n",
       "      <th>dog_stage</th>\n",
       "      <th>tweet_id</th>\n",
       "      <th>text</th>\n",
       "      <th>retweet_count</th>\n",
       "      <th>favourite_count</th>\n",
       "      <th>breed_confidence</th>\n",
       "      <th>jpg_url</th>\n",
       "    </tr>\n",
       "  </thead>\n",
       "  <tbody>\n",
       "    <tr>\n",
       "      <th>0</th>\n",
       "      <td>2017-08-01 00:17:27</td>\n",
       "      <td>Tilly</td>\n",
       "      <td>13.0</td>\n",
       "      <td>Chihuahua</td>\n",
       "      <td>NaN</td>\n",
       "      <td>892177421306343426</td>\n",
       "      <td>This is Tilly. She's just checking pup on you....</td>\n",
       "      <td>6224</td>\n",
       "      <td>32923</td>\n",
       "      <td>0.323581</td>\n",
       "      <td>https://pbs.twimg.com/media/DGGmoV4XsAAUL6n.jpg</td>\n",
       "    </tr>\n",
       "    <tr>\n",
       "      <th>1</th>\n",
       "      <td>2017-07-31 00:18:03</td>\n",
       "      <td>Archie</td>\n",
       "      <td>12.0</td>\n",
       "      <td>Chihuahua</td>\n",
       "      <td>NaN</td>\n",
       "      <td>891815181378084864</td>\n",
       "      <td>This is Archie. He is a rare Norwegian Pouncin...</td>\n",
       "      <td>4125</td>\n",
       "      <td>24810</td>\n",
       "      <td>0.716012</td>\n",
       "      <td>https://pbs.twimg.com/media/DGBdLU1WsAANxJ9.jpg</td>\n",
       "    </tr>\n",
       "    <tr>\n",
       "      <th>2</th>\n",
       "      <td>2017-07-30 15:58:51</td>\n",
       "      <td>Darla</td>\n",
       "      <td>13.0</td>\n",
       "      <td>Labrador Retriever</td>\n",
       "      <td>NaN</td>\n",
       "      <td>891689557279858688</td>\n",
       "      <td>This is Darla. She commenced a snooze mid meal...</td>\n",
       "      <td>8578</td>\n",
       "      <td>41779</td>\n",
       "      <td>0.168086</td>\n",
       "      <td>https://pbs.twimg.com/media/DF_q7IAWsAEuuN8.jpg</td>\n",
       "    </tr>\n",
       "    <tr>\n",
       "      <th>3</th>\n",
       "      <td>2017-07-29 16:00:24</td>\n",
       "      <td>Frnanklin</td>\n",
       "      <td>12.0</td>\n",
       "      <td>Basset</td>\n",
       "      <td>NaN</td>\n",
       "      <td>891327558926688256</td>\n",
       "      <td>This is Franklin. He would like you to stop ca...</td>\n",
       "      <td>9307</td>\n",
       "      <td>39944</td>\n",
       "      <td>0.555712</td>\n",
       "      <td>https://pbs.twimg.com/media/DF6hr6BUMAAzZgT.jpg</td>\n",
       "    </tr>\n",
       "    <tr>\n",
       "      <th>4</th>\n",
       "      <td>2017-07-29 00:08:17</td>\n",
       "      <td>NaN</td>\n",
       "      <td>13.0</td>\n",
       "      <td>Chesapeake Bay Retriever</td>\n",
       "      <td>NaN</td>\n",
       "      <td>891087950875897856</td>\n",
       "      <td>Here we have a majestic great white breaching ...</td>\n",
       "      <td>3085</td>\n",
       "      <td>20052</td>\n",
       "      <td>0.425595</td>\n",
       "      <td>https://pbs.twimg.com/media/DF3HwyEWsAABqE6.jpg</td>\n",
       "    </tr>\n",
       "  </tbody>\n",
       "</table>\n",
       "</div>"
      ],
      "text/plain": [
       "             timestamp   dog_name  rating_numerator                 dog_breed  \\\n",
       "0  2017-08-01 00:17:27      Tilly              13.0                 Chihuahua   \n",
       "1  2017-07-31 00:18:03     Archie              12.0                 Chihuahua   \n",
       "2  2017-07-30 15:58:51      Darla              13.0        Labrador Retriever   \n",
       "3  2017-07-29 16:00:24  Frnanklin              12.0                    Basset   \n",
       "4  2017-07-29 00:08:17        NaN              13.0  Chesapeake Bay Retriever   \n",
       "\n",
       "  dog_stage            tweet_id  \\\n",
       "0       NaN  892177421306343426   \n",
       "1       NaN  891815181378084864   \n",
       "2       NaN  891689557279858688   \n",
       "3       NaN  891327558926688256   \n",
       "4       NaN  891087950875897856   \n",
       "\n",
       "                                                text  retweet_count  \\\n",
       "0  This is Tilly. She's just checking pup on you....           6224   \n",
       "1  This is Archie. He is a rare Norwegian Pouncin...           4125   \n",
       "2  This is Darla. She commenced a snooze mid meal...           8578   \n",
       "3  This is Franklin. He would like you to stop ca...           9307   \n",
       "4  Here we have a majestic great white breaching ...           3085   \n",
       "\n",
       "   favourite_count  breed_confidence  \\\n",
       "0            32923          0.323581   \n",
       "1            24810          0.716012   \n",
       "2            41779          0.168086   \n",
       "3            39944          0.555712   \n",
       "4            20052          0.425595   \n",
       "\n",
       "                                           jpg_url  \n",
       "0  https://pbs.twimg.com/media/DGGmoV4XsAAUL6n.jpg  \n",
       "1  https://pbs.twimg.com/media/DGBdLU1WsAANxJ9.jpg  \n",
       "2  https://pbs.twimg.com/media/DF_q7IAWsAEuuN8.jpg  \n",
       "3  https://pbs.twimg.com/media/DF6hr6BUMAAzZgT.jpg  \n",
       "4  https://pbs.twimg.com/media/DF3HwyEWsAABqE6.jpg  "
      ]
     },
     "execution_count": 55,
     "metadata": {},
     "output_type": "execute_result"
    }
   ],
   "source": [
    "tw_archive_master.head()"
   ]
  },
  {
   "cell_type": "markdown",
   "metadata": {},
   "source": [
    "Saving the cleaned and combined data in a master csv file"
   ]
  },
  {
   "cell_type": "code",
   "execution_count": 56,
   "metadata": {},
   "outputs": [],
   "source": [
    "tw_archive_master.to_csv(\"datasets/cleaned/twitter_archive_master.csv\", index=False, index_label=False)"
   ]
  },
  {
   "cell_type": "markdown",
   "metadata": {},
   "source": [
    "This concludes the Data Wrangling process. I now have a dataframe with clean, tidy data which can be analysed without troubles."
   ]
  },
  {
   "cell_type": "markdown",
   "metadata": {},
   "source": [
    "# Analyze"
   ]
  },
  {
   "cell_type": "code",
   "execution_count": 57,
   "metadata": {},
   "outputs": [],
   "source": [
    "df = pd.read_csv(\"datasets/cleaned/twitter_archive_master.csv\").set_index(\"tweet_id\")\n",
    "df.dog_stage = df.dog_stage.astype('category')\n",
    "df.timestamp = pd.to_datetime(df.timestamp)"
   ]
  },
  {
   "cell_type": "code",
   "execution_count": 58,
   "metadata": {},
   "outputs": [
    {
     "name": "stdout",
     "output_type": "stream",
     "text": [
      "<class 'pandas.core.frame.DataFrame'>\n",
      "Int64Index: 1685 entries, 892177421306343426 to 666020888022790149\n",
      "Data columns (total 10 columns):\n",
      "timestamp           1685 non-null datetime64[ns]\n",
      "dog_name            1213 non-null object\n",
      "rating_numerator    1684 non-null float64\n",
      "dog_breed           1685 non-null object\n",
      "dog_stage           260 non-null category\n",
      "text                1685 non-null object\n",
      "retweet_count       1685 non-null int64\n",
      "favourite_count     1685 non-null int64\n",
      "breed_confidence    1685 non-null float64\n",
      "jpg_url             1685 non-null object\n",
      "dtypes: category(1), datetime64[ns](1), float64(2), int64(2), object(4)\n",
      "memory usage: 133.5+ KB\n"
     ]
    }
   ],
   "source": [
    "df.info()"
   ]
  },
  {
   "cell_type": "markdown",
   "metadata": {},
   "source": [
    "Let me first check some descriptive statistics on the important columns."
   ]
  },
  {
   "cell_type": "code",
   "execution_count": 59,
   "metadata": {},
   "outputs": [
    {
     "data": {
      "text/html": [
       "<div>\n",
       "<style scoped>\n",
       "    .dataframe tbody tr th:only-of-type {\n",
       "        vertical-align: middle;\n",
       "    }\n",
       "\n",
       "    .dataframe tbody tr th {\n",
       "        vertical-align: top;\n",
       "    }\n",
       "\n",
       "    .dataframe thead th {\n",
       "        text-align: right;\n",
       "    }\n",
       "</style>\n",
       "<table border=\"1\" class=\"dataframe\">\n",
       "  <thead>\n",
       "    <tr style=\"text-align: right;\">\n",
       "      <th></th>\n",
       "      <th>rating_numerator</th>\n",
       "      <th>retweet_count</th>\n",
       "      <th>favourite_count</th>\n",
       "      <th>breed_confidence</th>\n",
       "    </tr>\n",
       "  </thead>\n",
       "  <tbody>\n",
       "    <tr>\n",
       "      <th>count</th>\n",
       "      <td>1684.000000</td>\n",
       "      <td>1685.000000</td>\n",
       "      <td>1685.000000</td>\n",
       "      <td>1685.000000</td>\n",
       "    </tr>\n",
       "    <tr>\n",
       "      <th>mean</th>\n",
       "      <td>11.481295</td>\n",
       "      <td>2739.234421</td>\n",
       "      <td>9136.265875</td>\n",
       "      <td>0.549905</td>\n",
       "    </tr>\n",
       "    <tr>\n",
       "      <th>std</th>\n",
       "      <td>8.098699</td>\n",
       "      <td>4930.073043</td>\n",
       "      <td>13283.783281</td>\n",
       "      <td>0.299357</td>\n",
       "    </tr>\n",
       "    <tr>\n",
       "      <th>min</th>\n",
       "      <td>0.000000</td>\n",
       "      <td>12.000000</td>\n",
       "      <td>80.000000</td>\n",
       "      <td>0.000010</td>\n",
       "    </tr>\n",
       "    <tr>\n",
       "      <th>25%</th>\n",
       "      <td>10.000000</td>\n",
       "      <td>614.000000</td>\n",
       "      <td>2086.000000</td>\n",
       "      <td>0.302685</td>\n",
       "    </tr>\n",
       "    <tr>\n",
       "      <th>50%</th>\n",
       "      <td>11.000000</td>\n",
       "      <td>1369.000000</td>\n",
       "      <td>4294.000000</td>\n",
       "      <td>0.550506</td>\n",
       "    </tr>\n",
       "    <tr>\n",
       "      <th>75%</th>\n",
       "      <td>12.000000</td>\n",
       "      <td>3104.000000</td>\n",
       "      <td>11312.000000</td>\n",
       "      <td>0.822048</td>\n",
       "    </tr>\n",
       "    <tr>\n",
       "      <th>max</th>\n",
       "      <td>165.000000</td>\n",
       "      <td>84548.000000</td>\n",
       "      <td>164603.000000</td>\n",
       "      <td>0.999956</td>\n",
       "    </tr>\n",
       "  </tbody>\n",
       "</table>\n",
       "</div>"
      ],
      "text/plain": [
       "       rating_numerator  retweet_count  favourite_count  breed_confidence\n",
       "count       1684.000000    1685.000000      1685.000000       1685.000000\n",
       "mean          11.481295    2739.234421      9136.265875          0.549905\n",
       "std            8.098699    4930.073043     13283.783281          0.299357\n",
       "min            0.000000      12.000000        80.000000          0.000010\n",
       "25%           10.000000     614.000000      2086.000000          0.302685\n",
       "50%           11.000000    1369.000000      4294.000000          0.550506\n",
       "75%           12.000000    3104.000000     11312.000000          0.822048\n",
       "max          165.000000   84548.000000    164603.000000          0.999956"
      ]
     },
     "execution_count": 59,
     "metadata": {},
     "output_type": "execute_result"
    }
   ],
   "source": [
    "df.describe()"
   ]
  },
  {
   "cell_type": "code",
   "execution_count": 60,
   "metadata": {},
   "outputs": [
    {
     "data": {
      "text/plain": [
       "Lucy       10\n",
       "Cooper     10\n",
       "Charlie     9\n",
       "Oliver      9\n",
       "Tucker      9\n",
       "Name: dog_name, dtype: int64"
      ]
     },
     "execution_count": 60,
     "metadata": {},
     "output_type": "execute_result"
    }
   ],
   "source": [
    "df.dog_name.value_counts().nlargest(5)"
   ]
  },
  {
   "cell_type": "code",
   "execution_count": 61,
   "metadata": {},
   "outputs": [
    {
     "data": {
      "text/plain": [
       "Golden Retriever      158\n",
       "Labrador Retriever    108\n",
       "Pembroke               95\n",
       "Chihuahua              91\n",
       "Pug                    62\n",
       "Name: dog_breed, dtype: int64"
      ]
     },
     "execution_count": 61,
     "metadata": {},
     "output_type": "execute_result"
    }
   ],
   "source": [
    "df.dog_breed.value_counts().nlargest(5)"
   ]
  },
  {
   "cell_type": "markdown",
   "metadata": {},
   "source": [
    "There are a few that things that become apparent here.\n",
    "\n",
    "1. The five most common dog names are:\n",
    "    - Cooper\n",
    "    - Lucy\n",
    "    - Charlie\n",
    "    - Oliver\n",
    "    - Tucker\n",
    "    \n",
    "    \n",
    "2. The five most common dog breeds are:\n",
    "    - Golden Retriever\n",
    "    - Labrador Retriever\n",
    "    - Pembroke\n",
    "    - Chihuahua\n",
    "    - Pug\n",
    "    \n",
    "    \n",
    "3. There are a few outliers on in both rating numerator, rating denominator. \n",
    "   Most interestingly, there are a few ratings below 10.\n",
    "   \n",
    "4. Least amount of retweets are 12, while the maximum is 84,113.\n",
    "\n",
    "5. Least amount of favourites is 80, while the maximum is 161,869."
   ]
  },
  {
   "cell_type": "markdown",
   "metadata": {},
   "source": [
    "### Some Questions:\n",
    "    \n",
    "    Why was a dog rated 0, and which dog got a rating of 165?\n",
    "    Who is twitter's most favorite dog, and did it get the maximum retweets as \n",
    "    well?\n",
    "    Which dog breed is Twitter's most favourite, and are they also rated the highest?"
   ]
  },
  {
   "cell_type": "markdown",
   "metadata": {},
   "source": [
    "First let us take a look at the tweet which rated a dog 0."
   ]
  },
  {
   "cell_type": "code",
   "execution_count": 62,
   "metadata": {},
   "outputs": [
    {
     "data": {
      "text/html": [
       "<blockquote class=\"twitter-tweet\"><p lang=\"en\" dir=\"ltr\">When you&#39;re so blinded by your systematic plagiarism that you forget what day it is. 0/10 <a href=\"https://t.co/YbEJPkg4Ag\">pic.twitter.com/YbEJPkg4Ag</a></p>&mdash; WeRateDogs™ (@dog_rates) <a href=\"https://twitter.com/dog_rates/status/835152434251116546?ref_src=twsrc%5Etfw\">February 24, 2017</a></blockquote>\n",
       "<script async src=\"https://platform.twitter.com/widgets.js\" charset=\"utf-8\"></script>\n"
      ],
      "text/plain": [
       "<__main__.embed_tweet at 0x22255dcb390>"
      ]
     },
     "execution_count": 62,
     "metadata": {},
     "output_type": "execute_result"
    }
   ],
   "source": [
    "# Get the html code to embed tweet using the oembed API from twitter.\n",
    "# Then display the tweet as an html object using the embed_tweet class defined earlier.\n",
    "\n",
    "dog0_index = df.loc[df.rating_numerator == 0].index.values[0]\n",
    "dog0_tweet = requests.get(\"https://api.twitter.com/1.1/statuses/oembed.json?id=\" + str(dog0_index)).json()[\"html\"]\n",
    "embed_tweet(dog0_tweet)"
   ]
  },
  {
   "cell_type": "markdown",
   "metadata": {},
   "source": [
    "Looks like the tweet is about plagiarism, and no dogs have been given a rating \n",
    "of 0. <br>\n",
    "Now, which dog has a rating of 165?"
   ]
  },
  {
   "cell_type": "code",
   "execution_count": 63,
   "metadata": {},
   "outputs": [
    {
     "data": {
      "text/html": [
       "<blockquote class=\"twitter-tweet\"><p lang=\"en\" dir=\"ltr\">Why does this never happen at my front door... 165/150 <a href=\"https://t.co/HmwrdfEfUE\">pic.twitter.com/HmwrdfEfUE</a></p>&mdash; WeRateDogs™ (@dog_rates) <a href=\"https://twitter.com/dog_rates/status/758467244762497024?ref_src=twsrc%5Etfw\">July 28, 2016</a></blockquote>\n",
       "<script async src=\"https://platform.twitter.com/widgets.js\" charset=\"utf-8\"></script>\n"
      ],
      "text/plain": [
       "<__main__.embed_tweet at 0x22255df4e10>"
      ]
     },
     "execution_count": 63,
     "metadata": {},
     "output_type": "execute_result"
    }
   ],
   "source": [
    "dog165_index = df.loc[df.rating_numerator == 165].index.values[0]\n",
    "dog165_tweet = requests.get(\"https://api.twitter.com/1.1/statuses/oembed.json?id=\" + str(dog165_index)).json()[\"html\"]\n",
    "embed_tweet(dog165_tweet)"
   ]
  },
  {
   "cell_type": "markdown",
   "metadata": {},
   "source": [
    "Looks like it's a bunch of dogs at the ownwer's front door. Truely adorable and \n",
    "worthy of such a high rating!"
   ]
  },
  {
   "cell_type": "markdown",
   "metadata": {},
   "source": [
    "Who is twitter's most favourite dog?\n"
   ]
  },
  {
   "cell_type": "code",
   "execution_count": 64,
   "metadata": {},
   "outputs": [
    {
     "data": {
      "text/html": [
       "<blockquote class=\"twitter-tweet\"><p lang=\"en\" dir=\"ltr\">Here&#39;s a doggo realizing you can stand in a pool. 13/10 enlightened af (vid by Tina Conrad) <a href=\"https://t.co/7wE9LTEXC4\">pic.twitter.com/7wE9LTEXC4</a></p>&mdash; WeRateDogs™ (@dog_rates) <a href=\"https://twitter.com/dog_rates/status/744234799360020481?ref_src=twsrc%5Etfw\">June 18, 2016</a></blockquote>\n",
       "<script async src=\"https://platform.twitter.com/widgets.js\" charset=\"utf-8\"></script>\n"
      ],
      "text/plain": [
       "<__main__.embed_tweet at 0x22255dc0358>"
      ]
     },
     "execution_count": 64,
     "metadata": {},
     "output_type": "execute_result"
    }
   ],
   "source": [
    "dog_favourite_index = df.loc[df.favourite_count == max(df.favourite_count)].index.values[0]\n",
    "dog_favourite_tweet = requests.get(\"https://api.twitter.com/1.1/statuses/oembed.json?id=\" + str(dog_favourite_index)).json()[\"html\"]\n",
    "embed_tweet(dog_favourite_tweet)"
   ]
  },
  {
   "cell_type": "markdown",
   "metadata": {},
   "source": [
    "Did this dog also get the maximum retweets?"
   ]
  },
  {
   "cell_type": "code",
   "execution_count": 65,
   "metadata": {},
   "outputs": [
    {
     "data": {
      "text/plain": [
       "tweet_id\n",
       "744234799360020481    True\n",
       "dtype: bool"
      ]
     },
     "execution_count": 65,
     "metadata": {},
     "output_type": "execute_result"
    }
   ],
   "source": [
    " (df.loc[df.favourite_count == max(df.favourite_count)].dropna(axis=1) == df.loc[df.retweet_count == max(df.retweet_count)].dropna(axis=1)).all(axis=1)"
   ]
  },
  {
   "cell_type": "markdown",
   "metadata": {},
   "source": [
    "He is! What an adorable realisation indeed."
   ]
  },
  {
   "cell_type": "markdown",
   "metadata": {},
   "source": [
    "Let's check some relationships between the data. I'd like to know which breed of dog is favourited the most. To see this, I'll add the `favourite_count` for all breeds. As there are more than 100 breeds in the dataset, I'll only take a look at the top 10 most common breeds. The rest of the breeds will be tagged as `others`."
   ]
  },
  {
   "cell_type": "code",
   "execution_count": 66,
   "metadata": {},
   "outputs": [],
   "source": [
    "# Make new column in dataset to indicate top 10 most common breed.\n",
    "# Then use the new column to get the sum of all other values grouped by the new catagories.\n",
    "\n",
    "df.dog_breed = df.dog_breed.astype(\"category\")\n",
    "breed_top10 = df.dog_breed.value_counts().nlargest(10).index.tolist()\n",
    "df[\"breed_top10\"] = np.where(df.dog_breed.isin(breed_top10), df.dog_breed, \"other\")\n",
    "df.breed_top10 = df.breed_top10.astype(\"category\")\n",
    "\n",
    "x = df.groupby(\"breed_top10\").sum()  # `x` holds the \"sum\" dataset.\n",
    "x.index.name = \"Breeds\""
   ]
  },
  {
   "cell_type": "code",
   "execution_count": 69,
   "metadata": {},
   "outputs": [
    {
     "data": {
      "text/plain": [
       "<matplotlib.axes._subplots.AxesSubplot at 0x22257280710>"
      ]
     },
     "execution_count": 69,
     "metadata": {},
     "output_type": "execute_result"
    },
    {
     "data": {
      "image/png": "[encoded data removed]",
      "text/plain": [
       "<Figure size 864x360 with 1 Axes>"
      ]
     },
     "metadata": {},
     "output_type": "display_data"
    }
   ],
   "source": [
    "# Plot \"sum of favourite_count\" by \"dog_breed\". Sort the data to make the plot more readable.\n",
    "# Dropped \"other\" category as the value will be large and skew the plot.\n",
    "\n",
    "x.sort_values(by=[\"favourite_count\"], inplace=True)\n",
    "plt.xlabel(\"Total favourites\")\n",
    "x.drop(\"other\")[\"favourite_count\"].plot(kind=\"barh\", color='#3A82F4', fontsize=13,\n",
    "                          title=\"Top favourite breeds.\",\n",
    "                          figsize=(12,5))"
   ]
  },
  {
   "cell_type": "markdown",
   "metadata": {},
   "source": [
    "It looks like Twitter likes Golden Retrievers the most with about 2,000,000 favourites, followed by Labrador Retrievers at around 1,500,000 favourites.\n",
    "\n",
    "Finally, let me look at the top rated dogs."
   ]
  },
  {
   "cell_type": "code",
   "execution_count": 68,
   "metadata": {},
   "outputs": [
    {
     "data": {
      "text/plain": [
       "<matplotlib.axes._subplots.AxesSubplot at 0x222572857f0>"
      ]
     },
     "execution_count": 68,
     "metadata": {},
     "output_type": "execute_result"
    },
    {
     "data": {
      "image/png": "[encoded data removed]",
      "text/plain": [
       "<Figure size 864x360 with 1 Axes>"
      ]
     },
     "metadata": {},
     "output_type": "display_data"
    }
   ],
   "source": [
    "# Plot \"sum of rating_numerator\" vs \"dog_breed\".\n",
    "\n",
    "x.sort_values(by=[\"rating_numerator\"], inplace=True)\n",
    "plt.xlabel(\"Total Ratings\")\n",
    "x.drop(\"other\")[\"rating_numerator\"].plot(kind=\"barh\", color='#3A82F4', fontsize=13,\n",
    "                          title=\"Top rated breeds.\",\n",
    "                          figsize=(12,5))"
   ]
  },
  {
   "cell_type": "markdown",
   "metadata": {},
   "source": [
    "I guess it's not a surprise that the most favourited dogs will also be the top rated dogs."
   ]
  },
  {
   "cell_type": "markdown",
   "metadata": {},
   "source": [
    "This concludes my report on wrangling and analysing @WeRateDogs twitter archive data."
   ]
  },
  {
   "cell_type": "markdown",
   "metadata": {},
   "source": [
    "##### References:\n",
    "\n",
    "    https://stackoverflow.com/questions/36921951/truth-value-of-a-series-is-ambiguous-use-a-empty-a-bool-a-item-a-any-o\n",
    "    https://docs.python.org/2/library/json.html\n",
    "    https://developer.twitter.com/en/docs/tweets/post-and-engage/api-reference/get-statuses-oembed.html\n",
    "    https://pandas.pydata.org/pandas-docs/stable/generated/pandas.DataFrame.plot.html  \n",
    "    https://regexone.com/\n",
    "    "
   ]
  }
 ],
 "metadata": {
  "kernelspec": {
   "display_name": "Python 3",
   "language": "python",
   "name": "python3"
  },
  "language_info": {
   "codemirror_mode": {
    "name": "ipython",
    "version": 3
   },
   "file_extension": ".py",
   "mimetype": "text/x-python",
   "name": "python",
   "nbconvert_exporter": "python",
   "pygments_lexer": "ipython3",
   "version": "3.6.5"
  }
 },
 "nbformat": 4,
 "nbformat_minor": 2
}
